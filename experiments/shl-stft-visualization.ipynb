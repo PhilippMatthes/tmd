{
  "nbformat": 4,
  "nbformat_minor": 0,
  "metadata": {
    "colab": {
      "name": "Untitled0.ipynb",
      "provenance": [],
      "authorship_tag": "ABX9TyM/F+lO338Rry1KJEbHKFe3",
      "include_colab_link": true
    },
    "kernelspec": {
      "name": "python3",
      "display_name": "Python 3"
    },
    "language_info": {
      "name": "python"
    }
  },
  "cells": [
    {
      "cell_type": "markdown",
      "metadata": {
        "id": "view-in-github",
        "colab_type": "text"
      },
      "source": [
        "<a href=\"https://colab.research.google.com/github/philippmatthes/tmd/blob/master/src/shl-stft-visualization.ipynb\" target=\"_parent\"><img src=\"https://colab.research.google.com/assets/colab-badge.svg\" alt=\"Open In Colab\"/></a>"
      ]
    },
    {
      "cell_type": "code",
      "metadata": {
        "colab": {
          "base_uri": "https://localhost:8080/"
        },
        "id": "Q5m8OMXPnrMJ",
        "outputId": "9cb9e8a2-9c85-4bc9-c88c-1d4e5cfbfd8d"
      },
      "source": [
        "!git clone https://github.com/philippmatthes/tmd"
      ],
      "execution_count": null,
      "outputs": [
        {
          "output_type": "stream",
          "text": [
            "Cloning into 'tmd'...\n",
            "remote: Enumerating objects: 1801, done.\u001b[K\n",
            "remote: Counting objects: 100% (1138/1138), done.\u001b[K\n",
            "remote: Compressing objects: 100% (773/773), done.\u001b[K\n",
            "remote: Total 1801 (delta 573), reused 832 (delta 307), pack-reused 663\u001b[K\n",
            "Receiving objects: 100% (1801/1801), 34.70 MiB | 19.74 MiB/s, done.\n",
            "Resolving deltas: 100% (949/949), done.\n"
          ],
          "name": "stdout"
        }
      ]
    },
    {
      "cell_type": "code",
      "metadata": {
        "colab": {
          "base_uri": "https://localhost:8080/"
        },
        "id": "5FORb6tCn-DK",
        "outputId": "27c74929-5e07-491a-ee45-48f10e28acc1"
      },
      "source": [
        "%cd /content/tmd/src\n",
        "!mkdir shl-dataset"
      ],
      "execution_count": null,
      "outputs": [
        {
          "output_type": "stream",
          "text": [
            "/content/tmd/src\n"
          ],
          "name": "stdout"
        }
      ]
    },
    {
      "cell_type": "code",
      "metadata": {
        "id": "ZwNHgv3yoEtN"
      },
      "source": [
        "!wget -nc -O shl-dataset/challenge-2020-users23_torso_bag_hips_hand.zip http://www.shl-dataset.org/wp-content/uploads/SHLChallenge2020/challenge-2020-validation.zip"
      ],
      "execution_count": null,
      "outputs": []
    },
    {
      "cell_type": "code",
      "metadata": {
        "id": "W1VMc5RFoILD"
      },
      "source": [
        "!unzip -n -d shl-dataset/challenge-2020-users23_torso_bag_hips_hand shl-dataset/challenge-2020-users23_torso_bag_hips_hand.zip\n",
        "!rm shl-dataset/challenge-2020-users23_torso_bag_hips_hand.zip"
      ],
      "execution_count": null,
      "outputs": []
    },
    {
      "cell_type": "code",
      "metadata": {
        "colab": {
          "base_uri": "https://localhost:8080/"
        },
        "id": "vs_ZiZjqoKRW",
        "outputId": "c8d81003-fdfe-42bb-8e1a-a5fefa06507d"
      },
      "source": [
        "%cd /content/tmd/src\n",
        "%tensorflow_version 2.x"
      ],
      "execution_count": null,
      "outputs": [
        {
          "output_type": "stream",
          "text": [
            "/content/tmd/src\n"
          ],
          "name": "stdout"
        }
      ]
    },
    {
      "cell_type": "code",
      "metadata": {
        "id": "rAPWTHzWoMSO"
      },
      "source": [
        "# Check configuration and hardware resources\n",
        "\n",
        "import distutils\n",
        "\n",
        "import tensorflow as tf\n",
        "\n",
        "if distutils.version.LooseVersion(tf.__version__) < '2.0':\n",
        "    raise Exception('This notebook is compatible with TensorFlow 2.0 or higher.')"
      ],
      "execution_count": null,
      "outputs": []
    },
    {
      "cell_type": "code",
      "metadata": {
        "id": "UsPH1ElEoQWt"
      },
      "source": [
        "from pathlib import Path\n",
        "\n",
        "TRAIN_DATASET_DIRS = [\n",
        "    Path('shl-dataset/challenge-2020-users23_torso_bag_hips_hand/validation/Torso'),         \n",
        "    Path('shl-dataset/challenge-2020-users23_torso_bag_hips_hand/validation/Bag'),   \n",
        "    Path('shl-dataset/challenge-2020-users23_torso_bag_hips_hand/validation/Hips'),   \n",
        "    Path('shl-dataset/challenge-2020-users23_torso_bag_hips_hand/validation/Hand'),   \n",
        "]"
      ],
      "execution_count": null,
      "outputs": []
    },
    {
      "cell_type": "code",
      "metadata": {
        "id": "-j5TzzIgoTew"
      },
      "source": [
        "LABEL_ORDER = [\n",
        "    'Null',\n",
        "    'Still',\n",
        "    'Walking',\n",
        "    'Run',\n",
        "    'Bike',\n",
        "    'Car',\n",
        "    'Bus',\n",
        "    'Train',\n",
        "    'Subway',\n",
        "]\n",
        "\n",
        "SAMPLE_LENGTH = 500"
      ],
      "execution_count": null,
      "outputs": []
    },
    {
      "cell_type": "code",
      "metadata": {
        "id": "apiQfHjSoVbj"
      },
      "source": [
        "CLASS_WEIGHTS = {\n",
        "    0: 0.0, # NULL label\n",
        "    1: 1.0021671573438011, \n",
        "    2: 0.9985739895697523, \n",
        "    3: 2.8994439843842423, \n",
        "    4: 1.044135815617944, \n",
        "    5: 0.7723505499007343, \n",
        "    6: 0.8652474758172704, \n",
        "    7: 0.7842127155793044, \n",
        "    8: 1.0283208861290594\n",
        "}"
      ],
      "execution_count": null,
      "outputs": []
    },
    {
      "cell_type": "code",
      "metadata": {
        "id": "qJw5EhPsoaAx"
      },
      "source": [
        "from collections import OrderedDict\n",
        "\n",
        "import numpy as np\n",
        "\n",
        "# Attributes to load from our dataset\n",
        "X_attributes = [\n",
        "    'acc_x', 'acc_y', 'acc_z',\n",
        "    'mag_x', 'mag_y', 'mag_z',\n",
        "    'gyr_x', 'gyr_y', 'gyr_z',\n",
        "    # Parts that are not needed:\n",
        "    # 'gra_x', 'gra_y', 'gra_z',\n",
        "    # 'lacc_x', 'lacc_y', 'lacc_z',\n",
        "    # 'ori_x', 'ori_y', 'ori_z', 'ori_w',\n",
        "]\n",
        "\n",
        "# Files within the dataset that contain our attributes\n",
        "X_files = [\n",
        "    'Acc_x.txt', 'Acc_y.txt', 'Acc_z.txt',\n",
        "    'Mag_x.txt', 'Mag_y.txt', 'Mag_z.txt',\n",
        "    'Gyr_x.txt', 'Gyr_y.txt', 'Gyr_z.txt',\n",
        "    # Parts that are not needed:\n",
        "    # 'Gra_x.txt', 'Gra_y.txt', 'Gra_z.txt',\n",
        "    # 'LAcc_x.txt', 'LAcc_y.txt', 'LAcc_z.txt',\n",
        "    # 'Ori_x.txt', 'Ori_y.txt', 'Ori_z.txt', 'Ori_w.txt',\n",
        "]\n",
        "\n",
        "# Features to generate from our loaded attributes\n",
        "# Note that `a` is going to be a dict of attribute tracks\n",
        "X_features = OrderedDict({\n",
        "    'acc_mag': lambda a: np.sqrt(a['acc_x']**2 + a['acc_y']**2 + a['acc_z']**2),\n",
        "    'mag_mag': lambda a: np.sqrt(a['mag_x']**2 + a['mag_y']**2 + a['mag_z']**2),\n",
        "    'gyr_mag': lambda a: np.sqrt(a['gyr_x']**2 + a['gyr_y']**2 + a['gyr_z']**2),\n",
        "})\n",
        "\n",
        "# Define where to find our labels for supervised learning\n",
        "y_file = 'Label.txt'\n",
        "y_attribute = 'labels'"
      ],
      "execution_count": null,
      "outputs": []
    },
    {
      "cell_type": "code",
      "metadata": {
        "colab": {
          "base_uri": "https://localhost:8080/"
        },
        "id": "euAuf0EhoeGN",
        "outputId": "9d6a407b-e840-44b4-d4a9-a63b468ebd3c"
      },
      "source": [
        "import joblib\n",
        "\n",
        "X_feature_scalers = OrderedDict({})\n",
        "for feature_name, _ in X_features.items():\n",
        "    scaler_dir = f'models/shl-scalers/{feature_name}.scaler.joblib'\n",
        "    scaler = joblib.load(scaler_dir)\n",
        "    scaler.copy = False # Save memory\n",
        "    X_feature_scalers[feature_name] = scaler\n",
        "    print(f'Loaded scaler from {scaler_dir}.')"
      ],
      "execution_count": null,
      "outputs": [
        {
          "output_type": "stream",
          "text": [
            "Loaded scaler from models/shl-scalers/acc_mag.scaler.joblib.\n",
            "Loaded scaler from models/shl-scalers/mag_mag.scaler.joblib.\n",
            "Loaded scaler from models/shl-scalers/gyr_mag.scaler.joblib.\n"
          ],
          "name": "stdout"
        },
        {
          "output_type": "stream",
          "text": [
            "/usr/local/lib/python3.7/dist-packages/sklearn/base.py:318: UserWarning: Trying to unpickle estimator StandardScaler from version 0.24.2 when using version 0.22.2.post1. This might lead to breaking code or invalid results. Use at your own risk.\n",
            "  UserWarning)\n",
            "/usr/local/lib/python3.7/dist-packages/sklearn/base.py:318: UserWarning: Trying to unpickle estimator PowerTransformer from version 0.24.2 when using version 0.22.2.post1. This might lead to breaking code or invalid results. Use at your own risk.\n",
            "  UserWarning)\n"
          ],
          "name": "stderr"
        }
      ]
    },
    {
      "cell_type": "code",
      "metadata": {
        "colab": {
          "base_uri": "https://localhost:8080/"
        },
        "id": "-raVnCcyof2V",
        "outputId": "3a013c2a-5c3f-4311-daaa-6b173b566cc7"
      },
      "source": [
        "import os\n",
        "import shutil\n",
        "\n",
        "from typing import Generator, List, Tuple\n",
        "\n",
        "from tqdm import tqdm\n",
        "\n",
        "import pandas as pd\n",
        "\n",
        "def read_chunks(\n",
        "    n_chunks: int, \n",
        "    X_attr_readers: List[pd.io.parsers.TextFileReader], \n",
        "    y_attr_reader: pd.io.parsers.TextFileReader\n",
        ") -> Generator[Tuple[np.ndarray, np.ndarray], None, None]:\n",
        "    \"\"\"\n",
        "    Read chunks of attribute data and yield it to the caller as tuples of X, y.\n",
        "    \n",
        "    This function returns a generator which can be iterated.\n",
        "    \"\"\"\n",
        "    for _ in range(n_chunks):\n",
        "        # Load raw attribute tracks\n",
        "        X_raw_attrs = OrderedDict({})\n",
        "        for X_attribute, X_attr_reader in zip(X_attributes, X_attr_readers):\n",
        "            X_attr_track = next(X_attr_reader)\n",
        "            X_attr_track = np.nan_to_num(X_attr_track.to_numpy())\n",
        "            X_raw_attrs[X_attribute] = X_attr_track\n",
        "\n",
        "        # Calculate features\n",
        "        X_feature_tracks = None\n",
        "        for X_feature_name, X_feature_func in X_features.items():\n",
        "            X_feature_track = X_feature_func(X_raw_attrs)\n",
        "            X_feature_track = X_feature_scalers[X_feature_name] \\\n",
        "                .transform(X_feature_track)\n",
        "            if X_feature_tracks is None:\n",
        "                X_feature_tracks = X_feature_track\n",
        "            else:\n",
        "                X_feature_tracks = np.dstack((X_feature_tracks, X_feature_track))\n",
        "\n",
        "        # Load labels\n",
        "        y_attr_track = next(y_attr_reader) # dim (None, sample_length)\n",
        "        y_attr_track = np.nan_to_num(y_attr_track.to_numpy()) # dim (None, sample_length)\n",
        "        y_attr_track = y_attr_track[:, 0] # dim (None, 1)\n",
        "\n",
        "        yield X_feature_tracks, y_attr_track\n",
        "\n",
        "def count_samples(dataset_dir: Path) -> int:\n",
        "    \"\"\"Count the total amount of samples in a shl dataset.\"\"\"\n",
        "    n_samples = 0\n",
        "    # Every file in the dataset has the same length, use the labels file\n",
        "    with open(dataset_dir / y_file) as f:\n",
        "        for _ in tqdm(f, desc=f'Counting samples in {dataset_dir}'):\n",
        "            n_samples += 1\n",
        "    return n_samples\n",
        "\n",
        "def create_chunked_readers(\n",
        "    dataset_dir: Path,\n",
        "    chunksize: int, \n",
        "    xdtype=np.float32, # Use np.float16 with caution, can lead to overflows\n",
        "    ydtype=np.int\n",
        ") -> Tuple[List[pd.io.parsers.TextFileReader], pd.io.parsers.TextFileReader]:\n",
        "    \"\"\"Initialize chunked csv readers and return them to the caller as a tuple.\"\"\"\n",
        "    read_csv_kwargs = { 'sep': ' ', 'header': None, 'chunksize': chunksize }\n",
        "\n",
        "    X_attr_readers = [] # (dim datasets x readers)\n",
        "    for filename in X_files:\n",
        "        X_reader = pd.read_csv(dataset_dir / filename, dtype=xdtype, **read_csv_kwargs)\n",
        "        X_attr_readers.append(X_reader)\n",
        "    y_attr_reader = pd.read_csv(dataset_dir / y_file, dtype=ydtype, **read_csv_kwargs)\n",
        "\n",
        "    return X_attr_readers, y_attr_reader\n",
        "\n",
        "def export_tfrecords(\n",
        "    dataset_dir: Path,\n",
        "    n_chunks=16, # Load dataset in parts to not overload memory\n",
        "):\n",
        "    \"\"\"Transform the given shl dataset into a memory efficient TFRecord.\"\"\"\n",
        "    target_dir = f'{dataset_dir}.tfrecord'\n",
        "    if os.path.isfile(target_dir):\n",
        "        print(f'{target_dir} already exists.')\n",
        "        return\n",
        "\n",
        "    print(f'Exporting to {target_dir}.')\n",
        "\n",
        "    n_samples = count_samples(dataset_dir)\n",
        "    chunksize = int(np.floor(n_samples / n_chunks))\n",
        "    X_attr_readers, y_attr_reader = create_chunked_readers(dataset_dir, chunksize)    \n",
        "\n",
        "    with tf.io.TFRecordWriter(str(target_dir)) as file_writer:\n",
        "        with tqdm(total=n_samples, desc=f'Reading samples to {target_dir}') as pbar:\n",
        "            for X_feature_tracks, y_attr_track in read_chunks(\n",
        "                n_chunks, X_attr_readers, y_attr_reader\n",
        "            ):\n",
        "                for X, y in zip(X_feature_tracks, y_attr_track):\n",
        "                    X_flat = X.flatten() # TFRecords don't support multidimensional arrays\n",
        "                    record_bytes = tf.train.Example(features=tf.train.Features(feature={\n",
        "                        'X': tf.train.Feature(float_list=tf.train.FloatList(value=X_flat)),\n",
        "                        'y': tf.train.Feature(int64_list=tf.train.Int64List(value=[y])) \n",
        "                    })).SerializeToString()\n",
        "                    file_writer.write(record_bytes)\n",
        "                pbar.update(chunksize)\n",
        "\n",
        "for dataset_dir in TRAIN_DATASET_DIRS:\n",
        "    export_tfrecords(dataset_dir)"
      ],
      "execution_count": null,
      "outputs": [
        {
          "output_type": "stream",
          "text": [
            "Exporting to shl-dataset/challenge-2020-users23_torso_bag_hips_hand/validation/Torso.tfrecord.\n"
          ],
          "name": "stdout"
        },
        {
          "output_type": "stream",
          "text": [
            "Counting samples in shl-dataset/challenge-2020-users23_torso_bag_hips_hand/validation/Torso: 28789it [00:00, 823432.70it/s]\n",
            "Reading samples to shl-dataset/challenge-2020-users23_torso_bag_hips_hand/validation/Torso.tfrecord: 100%|█████████▉| 28784/28789 [00:44<00:00, 650.50it/s]\n"
          ],
          "name": "stderr"
        },
        {
          "output_type": "stream",
          "text": [
            "Exporting to shl-dataset/challenge-2020-users23_torso_bag_hips_hand/validation/Bag.tfrecord.\n"
          ],
          "name": "stdout"
        },
        {
          "output_type": "stream",
          "text": [
            "Counting samples in shl-dataset/challenge-2020-users23_torso_bag_hips_hand/validation/Bag: 28789it [00:00, 129083.31it/s]\n",
            "Reading samples to shl-dataset/challenge-2020-users23_torso_bag_hips_hand/validation/Bag.tfrecord: 100%|█████████▉| 28784/28789 [00:47<00:00, 603.54it/s]\n"
          ],
          "name": "stderr"
        },
        {
          "output_type": "stream",
          "text": [
            "Exporting to shl-dataset/challenge-2020-users23_torso_bag_hips_hand/validation/Hips.tfrecord.\n"
          ],
          "name": "stdout"
        },
        {
          "output_type": "stream",
          "text": [
            "Counting samples in shl-dataset/challenge-2020-users23_torso_bag_hips_hand/validation/Hips: 28789it [00:00, 124921.19it/s]\n",
            "Reading samples to shl-dataset/challenge-2020-users23_torso_bag_hips_hand/validation/Hips.tfrecord: 100%|█████████▉| 28784/28789 [00:47<00:00, 609.60it/s]\n"
          ],
          "name": "stderr"
        },
        {
          "output_type": "stream",
          "text": [
            "Exporting to shl-dataset/challenge-2020-users23_torso_bag_hips_hand/validation/Hand.tfrecord.\n"
          ],
          "name": "stdout"
        },
        {
          "output_type": "stream",
          "text": [
            "Counting samples in shl-dataset/challenge-2020-users23_torso_bag_hips_hand/validation/Hand: 28789it [00:00, 129215.50it/s]\n",
            "Reading samples to shl-dataset/challenge-2020-users23_torso_bag_hips_hand/validation/Hand.tfrecord: 100%|█████████▉| 28784/28789 [00:48<00:00, 595.99it/s]\n"
          ],
          "name": "stderr"
        }
      ]
    },
    {
      "cell_type": "code",
      "metadata": {
        "colab": {
          "base_uri": "https://localhost:8080/"
        },
        "id": "FVe3IaRGokOL",
        "outputId": "82fa3a9e-a94a-4bd8-90ce-0c3073692c8b"
      },
      "source": [
        "def decode_tfrecord(record_bytes) -> Tuple[tf.Tensor, tf.Tensor]:\n",
        "    \"\"\"Decode a TFRecord example to X, y from its serialized representation.\"\"\"\n",
        "    example = tf.io.parse_single_example(record_bytes, {\n",
        "        'X': tf.io.FixedLenFeature([SAMPLE_LENGTH, len(X_features)], tf.float32),\n",
        "        'y': tf.io.FixedLenFeature([1], tf.int64)\n",
        "    })\n",
        "    return example['X'], example['y']\n",
        "\n",
        "def create_train_validation_datasets(\n",
        "    dataset_dirs: List[Path], \n",
        "    batch_size=64,\n",
        "    shuffle_size=20_000, # Must be larger than batch_size\n",
        "    test_size=256 # In batches\n",
        ") -> Tuple[tf.data.Dataset, tf.data.Dataset]:\n",
        "    \"\"\"\n",
        "    Create interleaved, shuffled and batched train and \n",
        "    validation datasets from the dataset dirs.\n",
        "    \n",
        "    Note that this function reads previously generated TFRecords under \n",
        "    `dataset_dir.tfrecord` -> use `export_tfrecords` for that.\n",
        "    \"\"\"\n",
        "    tfrecord_dirs = [f'{d}.tfrecord' for d in dataset_dirs]\n",
        "    print(f'Creating train and validation dataset over {tfrecord_dirs}.')\n",
        "\n",
        "    # Create a strategy to interleave the datasets\n",
        "    dataset = tf.data.Dataset.from_tensor_slices(tfrecord_dirs) \\\n",
        "        .interleave(\n",
        "            lambda x: tf.data.TFRecordDataset(x), \n",
        "            cycle_length=batch_size, # Number of input elements that are processed concurrently\n",
        "            block_length=1 # Return only one element at a time, batching is done later\n",
        "        ) \\\n",
        "        .shuffle(shuffle_size) \\\n",
        "        .map(decode_tfrecord, num_parallel_calls=tf.data.AUTOTUNE) \\\n",
        "        .batch(batch_size)\n",
        "    count = sum(1 for _ in dataset)\n",
        "    print(f'Counted {count * batch_size} samples in combined dataset.')\n",
        "    training_dataset = dataset.skip(test_size)\n",
        "    count = sum(1 for _ in training_dataset)\n",
        "    print(f'Counted {count * batch_size} samples in training dataset.')\n",
        "    validation_dataset = dataset.take(test_size)\n",
        "    count = sum(1 for _ in validation_dataset)\n",
        "    print(f'Counted {count * batch_size} samples in validation dataset.')\n",
        "    return training_dataset, validation_dataset\n",
        "\n",
        "train_dataset, validation_dataset = create_train_validation_datasets(TRAIN_DATASET_DIRS)"
      ],
      "execution_count": null,
      "outputs": [
        {
          "output_type": "stream",
          "text": [
            "Creating train and validation dataset over ['shl-dataset/challenge-2020-users23_torso_bag_hips_hand/validation/Torso.tfrecord', 'shl-dataset/challenge-2020-users23_torso_bag_hips_hand/validation/Bag.tfrecord', 'shl-dataset/challenge-2020-users23_torso_bag_hips_hand/validation/Hips.tfrecord', 'shl-dataset/challenge-2020-users23_torso_bag_hips_hand/validation/Hand.tfrecord'].\n",
            "Counted 115136 samples in combined dataset.\n",
            "Counted 98752 samples in training dataset.\n",
            "Counted 16384 samples in validation dataset.\n"
          ],
          "name": "stdout"
        }
      ]
    },
    {
      "cell_type": "code",
      "metadata": {
        "colab": {
          "base_uri": "https://localhost:8080/"
        },
        "id": "YyUQWc6Eor9K",
        "outputId": "e4cf8fd2-a02e-4a42-da2d-db568ddd1e29"
      },
      "source": [
        "# We will use the kapre contribution package to include STFT layers\n",
        "\n",
        "!{sys.executable} -m pip install kapre -q"
      ],
      "execution_count": null,
      "outputs": [
        {
          "output_type": "stream",
          "text": [
            "/bin/bash: {sys.executable}: command not found\n"
          ],
          "name": "stdout"
        }
      ]
    },
    {
      "cell_type": "code",
      "metadata": {
        "colab": {
          "base_uri": "https://localhost:8080/"
        },
        "id": "MXBBDZI4ovru",
        "outputId": "aae8452c-82c9-4efb-8a7a-ee76185100ac"
      },
      "source": [
        "import kapre\n",
        "\n",
        "from tensorflow import keras\n",
        "from tensorflow.keras import layers, models, optimizers\n",
        "\n",
        "input_shape = (SAMPLE_LENGTH, len(X_features))\n",
        "\n",
        "model = models.Sequential([\n",
        "    # Short-time fourier transform\n",
        "    kapre.STFT(\n",
        "        n_fft=100,\n",
        "        hop_length=5,\n",
        "        pad_end=False,\n",
        "        input_data_format='channels_last', \n",
        "        output_data_format='channels_last',\n",
        "        input_shape=input_shape,\n",
        "        name='stft-layer'\n",
        "    ),\n",
        "    kapre.Magnitude(),\n",
        "    kapre.MagnitudeToDecibel(),\n",
        "\n",
        "    layers.UpSampling2D(2),\n",
        "    layers.Conv2D(32, (3, 3), activation='relu'),\n",
        "    layers.GlobalAveragePooling2D(),\n",
        "    layers.Dense(len(LABEL_ORDER), activation='softmax')\n",
        "])\n",
        "\n",
        "model.compile(\n",
        "    loss='sparse_categorical_crossentropy', # No OHE necessary\n",
        "    optimizer=optimizers.Adam(learning_rate=0.001),\n",
        "    metrics=['acc']\n",
        ")\n",
        "\n",
        "model.summary()"
      ],
      "execution_count": null,
      "outputs": [
        {
          "output_type": "stream",
          "text": [
            "Model: \"sequential\"\n",
            "_________________________________________________________________\n",
            "Layer (type)                 Output Shape              Param #   \n",
            "=================================================================\n",
            "stft-layer (STFT)            (None, 81, 51, 3)         0         \n",
            "_________________________________________________________________\n",
            "magnitude (Magnitude)        (None, 81, 51, 3)         0         \n",
            "_________________________________________________________________\n",
            "magnitude_to_decibel (Magnit (None, 81, 51, 3)         0         \n",
            "_________________________________________________________________\n",
            "up_sampling2d (UpSampling2D) (None, 162, 102, 3)       0         \n",
            "_________________________________________________________________\n",
            "conv2d (Conv2D)              (None, 160, 100, 32)      896       \n",
            "_________________________________________________________________\n",
            "global_average_pooling2d (Gl (None, 32)                0         \n",
            "_________________________________________________________________\n",
            "dense (Dense)                (None, 9)                 297       \n",
            "=================================================================\n",
            "Total params: 1,193\n",
            "Trainable params: 1,193\n",
            "Non-trainable params: 0\n",
            "_________________________________________________________________\n"
          ],
          "name": "stdout"
        }
      ]
    },
    {
      "cell_type": "code",
      "metadata": {
        "id": "3Jnr0kOZpIsb"
      },
      "source": [
        "model.fit(train_dataset, validation_data=validation_dataset, epochs=1, verbose=1, shuffle=False, class_weight=CLASS_WEIGHTS)"
      ],
      "execution_count": null,
      "outputs": []
    },
    {
      "cell_type": "code",
      "metadata": {
        "id": "VXpMDRRnuFxk"
      },
      "source": [
        "vis_model = models.Model(inputs=model.input, outputs=model.layers[3].output)"
      ],
      "execution_count": null,
      "outputs": []
    },
    {
      "cell_type": "code",
      "metadata": {
        "colab": {
          "base_uri": "https://localhost:8080/",
          "height": 292
        },
        "id": "pnHm3ISurvI1",
        "outputId": "e0f09136-a6f1-4004-be9a-c6a45be5f510"
      },
      "source": [
        "from matplotlib import pyplot as plt\n",
        "\n",
        "sample = next(iter(validation_dataset))[0]\n",
        "\n",
        "result = vis_model.predict(sample)[0]\n",
        "\n",
        "plt.clf()\n",
        "fig, axs = plt.subplots(2, 3, gridspec_kw={'height_ratios': [6, 1], 'hspace': 0.0})\n",
        "fig.set_size_inches(14, 4)\n",
        "\n",
        "axs[0, 0].matshow(result[::2, :, 0], cmap=plt.cm.binary)\n",
        "axs[1, 0].plot(sample[0, :, 0], color='black')\n",
        "axs[0, 0].set_title('STFT Akzelerometer')\n",
        "axs[0, 1].matshow(result[::2, :, 1], cmap=plt.cm.binary)\n",
        "axs[1, 1].plot(sample[0, :, 1], color='black')\n",
        "axs[0, 1].set_title('STFT Magnetometer')\n",
        "axs[0, 2].matshow(result[::2, :, 2], cmap=plt.cm.binary)\n",
        "axs[1, 2].plot(sample[0, :, 2], color='black')\n",
        "axs[0, 2].set_title('STFT Gyrosensor')\n",
        "\n",
        "for row in axs:\n",
        "    for ax in row:\n",
        "        ax.set_yticklabels([])\n",
        "        ax.set_xticklabels([])\n",
        "\n",
        "plt.savefig(\n",
        "    f'../images/shl/stft-layer-output.pdf',\n",
        "    dpi=1200,\n",
        "    bbox_inches='tight'\n",
        ")\n",
        "plt.show()"
      ],
      "execution_count": null,
      "outputs": [
        {
          "output_type": "display_data",
          "data": {
            "text/plain": [
              "<Figure size 432x288 with 0 Axes>"
            ]
          },
          "metadata": {}
        },
        {
          "output_type": "display_data",
          "data": {
            "image/png": "[encoded data removed]",
            "text/plain": [
              "<Figure size 1008x288 with 6 Axes>"
            ]
          },
          "metadata": {
            "needs_background": "light"
          }
        }
      ]
    }
  ]
}