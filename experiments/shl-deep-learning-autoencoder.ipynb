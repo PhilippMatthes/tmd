{
  "cells": [
    {
      "cell_type": "markdown",
      "metadata": {
        "colab_type": "text",
        "id": "view-in-github"
      },
      "source": [
        "<a href=\"https://colab.research.google.com/github/philippmatthes/tmd/blob/master/src/shl-deep-learning-autoencoder.ipynb\" target=\"_parent\"><img src=\"https://colab.research.google.com/assets/colab-badge.svg\" alt=\"Open In Colab\"/></a>"
      ]
    },
    {
      "cell_type": "markdown",
      "metadata": {
        "id": "MQCjUOLzIZ0b"
      },
      "source": [
        "# Visualizing a 1d convolutional autoencoder"
      ]
    },
    {
      "cell_type": "code",
      "execution_count": null,
      "metadata": {
        "id": "jKpWbBKRvep4"
      },
      "outputs": [],
      "source": [
        "# Free up some disk space on colab\n",
        "!rm -rf /usr/local/lib/python2.7\n",
        "!rm -rf /swift\n",
        "!rm -rf /usr/local/lib/python3.6/dist-packages/torch\n",
        "!rm -rf /usr/local/lib/python3.6/dist-packages/pystan\n",
        "!rm -rf /usr/local/lib/python3.6/dist-packages/spacy\n",
        "!rm -rf /tensorflow-1.15.2/"
      ]
    },
    {
      "cell_type": "code",
      "execution_count": null,
      "metadata": {
        "colab": {
          "base_uri": "https://localhost:8080/"
        },
        "id": "3z6b-V4Ewjxi",
        "outputId": "6519924c-d098-4775-d4c3-bb1783156637"
      },
      "outputs": [
        {
          "name": "stdout",
          "output_type": "stream",
          "text": [
            "Cloning into 'tmd'...\n",
            "remote: Enumerating objects: 1609, done.\u001b[K\n",
            "remote: Counting objects: 100% (946/946), done.\u001b[K\n",
            "remote: Compressing objects: 100% (632/632), done.\u001b[K\n",
            "remote: Total 1609 (delta 456), reused 739 (delta 274), pack-reused 663\u001b[K\n",
            "Receiving objects: 100% (1609/1609), 34.21 MiB | 25.64 MiB/s, done.\n",
            "Resolving deltas: 100% (832/832), done.\n"
          ]
        }
      ],
      "source": [
        "# Get needed auxiliary files for colab\n",
        "!git clone https://github.com/philippmatthes/tmd"
      ]
    },
    {
      "cell_type": "code",
      "execution_count": null,
      "metadata": {
        "colab": {
          "base_uri": "https://localhost:8080/"
        },
        "id": "AXL4FprvwmKe",
        "outputId": "3970dc84-1279-4d8c-d507-a434809bd87b"
      },
      "outputs": [
        {
          "name": "stdout",
          "output_type": "stream",
          "text": [
            "/content/tmd/src\n"
          ]
        }
      ],
      "source": [
        "# Change into src dir and load our datasets\n",
        "%cd /content/tmd/src\n",
        "!mkdir shl-dataset"
      ]
    },
    {
      "cell_type": "code",
      "execution_count": null,
      "metadata": {
        "id": "5tWAbEF-wnYU"
      },
      "outputs": [],
      "source": [
        "# Download training datasets\n",
        "!wget -nc -O shl-dataset/challenge-2019-train_torso.zip http://www.shl-dataset.org/wp-content/uploads/SHLChallenge2019/challenge-2019-train_torso.zip\n",
        "!wget -nc -O shl-dataset/challenge-2019-train_bag.zip http://www.shl-dataset.org/wp-content/uploads/SHLChallenge2019/challenge-2019-train_bag.zip\n",
        "!wget -nc -O shl-dataset/challenge-2019-train_hips.zip http://www.shl-dataset.org/wp-content/uploads/SHLChallenge2019/challenge-2019-train_hips.zip\n",
        "!wget -nc -O shl-dataset/challenge-2020-train_hand.zip http://www.shl-dataset.org/wp-content/uploads/SHLChallenge2020/challenge-2020-train_hand.zip\n",
        "# Download validation dataset\n",
        "!wget -nc -O shl-dataset/challenge-2020-validation.zip http://www.shl-dataset.org/wp-content/uploads/SHLChallenge2020/challenge-2020-validation.zip"
      ]
    },
    {
      "cell_type": "code",
      "execution_count": null,
      "metadata": {
        "id": "4OlIByJSIr6U"
      },
      "outputs": [],
      "source": [
        "# Unzip training datasets\n",
        "!unzip -n -d shl-dataset/challenge-2019-train_torso shl-dataset/challenge-2019-train_torso.zip\n",
        "!rm shl-dataset/challenge-2019-train_torso.zip\n",
        "!unzip -n -d shl-dataset/challenge-2019-train_bag shl-dataset/challenge-2019-train_bag.zip\n",
        "!rm shl-dataset/challenge-2019-train_bag.zip\n",
        "!unzip -n -d shl-dataset/challenge-2019-train_hips shl-dataset/challenge-2019-train_hips.zip\n",
        "!rm shl-dataset/challenge-2019-train_hips.zip\n",
        "!unzip -n -d shl-dataset/challenge-2020-train_hand shl-dataset/challenge-2020-train_hand.zip\n",
        "!rm shl-dataset/challenge-2020-train_hand.zip\n",
        "# Unzip validation dataset\n",
        "!unzip -n -d shl-dataset/challenge-2020-validation shl-dataset/challenge-2020-validation.zip\n",
        "!rm shl-dataset/challenge-2020-validation.zip"
      ]
    },
    {
      "cell_type": "code",
      "execution_count": null,
      "metadata": {
        "colab": {
          "base_uri": "https://localhost:8080/"
        },
        "id": "yZAJlKdu06f1",
        "outputId": "c3d31cfa-e88b-4a94-8d25-8aa9bd68a473"
      },
      "outputs": [
        {
          "name": "stdout",
          "output_type": "stream",
          "text": [
            "/content/tmd/src\n"
          ]
        }
      ],
      "source": [
        "%cd /content/tmd/src\n",
        "%tensorflow_version 2.x"
      ]
    },
    {
      "cell_type": "code",
      "execution_count": null,
      "metadata": {
        "id": "l-Q5C3EOivKT"
      },
      "outputs": [],
      "source": [
        "# Define all datasets to train our model on\n",
        "\n",
        "from pathlib import Path\n",
        "\n",
        "TRAIN_DATASET_DIRS = [\n",
        "    Path('shl-dataset/challenge-2019-train_torso/train/Torso'),\n",
        "    Path('shl-dataset/challenge-2019-train_bag/train/Bag'),\n",
        "    Path('shl-dataset/challenge-2019-train_hips/train/Hips'),\n",
        "    Path('shl-dataset/challenge-2020-train_hand/train/Hand'),\n",
        "]\n",
        "\n",
        "VALIDATION_DATASET_DIRS = [\n",
        "    Path('shl-dataset/challenge-2020-validation/validation/Torso'),         \n",
        "    Path('shl-dataset/challenge-2020-validation/validation/Bag'),   \n",
        "    Path('shl-dataset/challenge-2020-validation/validation/Hips'),   \n",
        "    Path('shl-dataset/challenge-2020-validation/validation/Hand'),                  \n",
        "]\n"
      ]
    },
    {
      "cell_type": "code",
      "execution_count": null,
      "metadata": {
        "colab": {
          "base_uri": "https://localhost:8080/"
        },
        "id": "OPcUNZfPIZ0g",
        "outputId": "38b9b1c0-57a2-4a86-dff9-8340ffb8bfdc"
      },
      "outputs": [
        {
          "data": {
            "text/plain": [
              "[name: \"/device:CPU:0\"\n",
              " device_type: \"CPU\"\n",
              " memory_limit: 268435456\n",
              " locality {\n",
              " }\n",
              " incarnation: 8577383555151566386, name: \"/device:GPU:0\"\n",
              " device_type: \"GPU\"\n",
              " memory_limit: 16183459840\n",
              " locality {\n",
              "   bus_id: 1\n",
              "   links {\n",
              "   }\n",
              " }\n",
              " incarnation: 11171126248970069869\n",
              " physical_device_desc: \"device: 0, name: Tesla P100-PCIE-16GB, pci bus id: 0000:00:04.0, compute capability: 6.0\"]"
            ]
          },
          "execution_count": 8,
          "metadata": {
            "tags": []
          },
          "output_type": "execute_result"
        }
      ],
      "source": [
        "from tensorflow import keras\n",
        "\n",
        "# Check that we can use our GPU, to not wait forever during training\n",
        "from tensorflow.python.client import device_lib\n",
        "device_lib.list_local_devices()"
      ]
    },
    {
      "cell_type": "code",
      "execution_count": null,
      "metadata": {
        "colab": {
          "base_uri": "https://localhost:8080/"
        },
        "id": "m-Xd0mWdi5ri",
        "outputId": "43054189-554c-4476-949d-30f3b61e6e89"
      },
      "outputs": [
        {
          "name": "stdout",
          "output_type": "stream",
          "text": [
            "Model: \"model_3\"\n",
            "_________________________________________________________________\n",
            "Layer (type)                 Output Shape              Param #   \n",
            "=================================================================\n",
            "input_2 (InputLayer)         [(None, 500, 1)]          0         \n",
            "_________________________________________________________________\n",
            "conv1d_4 (Conv1D)            (None, 500, 256)          2048      \n",
            "_________________________________________________________________\n",
            "dropout_6 (Dropout)          (None, 500, 256)          0         \n",
            "_________________________________________________________________\n",
            "max_pooling1d_2 (MaxPooling1 (None, 250, 256)          0         \n",
            "_________________________________________________________________\n",
            "conv1d_5 (Conv1D)            (None, 250, 128)          229504    \n",
            "_________________________________________________________________\n",
            "dropout_7 (Dropout)          (None, 250, 128)          0         \n",
            "_________________________________________________________________\n",
            "max_pooling1d_3 (MaxPooling1 (None, 50, 128)           0         \n",
            "_________________________________________________________________\n",
            "conv1d_6 (Conv1D)            (None, 50, 1)             897       \n",
            "_________________________________________________________________\n",
            "dropout_8 (Dropout)          (None, 50, 1)             0         \n",
            "_________________________________________________________________\n",
            "conv1d_7 (Conv1D)            (None, 50, 1)             8         \n",
            "_________________________________________________________________\n",
            "dropout_9 (Dropout)          (None, 50, 1)             0         \n",
            "_________________________________________________________________\n",
            "conv1d_transpose_3 (Conv1DTr (None, 50, 128)           1024      \n",
            "_________________________________________________________________\n",
            "dropout_10 (Dropout)         (None, 50, 128)           0         \n",
            "_________________________________________________________________\n",
            "up_sampling1d_2 (UpSampling1 (None, 250, 128)          0         \n",
            "_________________________________________________________________\n",
            "conv1d_transpose_4 (Conv1DTr (None, 250, 256)          229632    \n",
            "_________________________________________________________________\n",
            "dropout_11 (Dropout)         (None, 250, 256)          0         \n",
            "_________________________________________________________________\n",
            "up_sampling1d_3 (UpSampling1 (None, 500, 256)          0         \n",
            "_________________________________________________________________\n",
            "conv1d_transpose_5 (Conv1DTr (None, 500, 1)            769       \n",
            "=================================================================\n",
            "Total params: 463,882\n",
            "Trainable params: 463,882\n",
            "Non-trainable params: 0\n",
            "_________________________________________________________________\n"
          ]
        }
      ],
      "source": [
        "# Create our model\n",
        "\n",
        "from tensorflow.keras import layers, models\n",
        "\n",
        "\n",
        "input_window = layers.Input(shape=(500,1))\n",
        "x = layers.Conv1D(256, 7, activation=\"relu\", padding=\"same\")(input_window)\n",
        "x = layers.Dropout(rate=0.2)(x)\n",
        "x = layers.MaxPooling1D(2, padding=\"same\")(x)\n",
        "x = layers.Conv1D(128, 7, activation=\"relu\", padding=\"same\")(x)\n",
        "x = layers.Dropout(rate=0.2)(x)\n",
        "x = layers.MaxPooling1D(5, padding=\"same\")(x)\n",
        "x = layers.Conv1D(1, 7, activation=\"relu\", padding=\"same\")(x)\n",
        "encoded = layers.Dropout(rate=0.2)(x)\n",
        "\n",
        "encoder = models.Model(input_window, encoded)\n",
        "\n",
        "x = layers.Conv1D(1, 7, activation=\"relu\", padding=\"same\")(encoded)\n",
        "x = layers.Dropout(rate=0.2)(x)\n",
        "x = layers.Conv1DTranspose(128, 7, activation=\"relu\", padding=\"same\")(x)\n",
        "x = layers.Dropout(rate=0.2)(x)\n",
        "x = layers.UpSampling1D(5)(x)\n",
        "x = layers.Conv1DTranspose(256, 7, activation=\"relu\", padding=\"same\")(x)\n",
        "x = layers.Dropout(rate=0.2)(x)\n",
        "x = layers.UpSampling1D(2)(x)\n",
        "decoded = layers.Conv1DTranspose(1, 3, activation='sigmoid', padding='same')(x)\n",
        "autoencoder = models.Model(input_window, decoded)\n",
        "autoencoder.compile(optimizer=keras.optimizers.Adam(learning_rate=0.001), loss=\"mse\")\n",
        "autoencoder.summary()"
      ]
    },
    {
      "cell_type": "code",
      "execution_count": null,
      "metadata": {
        "colab": {
          "base_uri": "https://localhost:8080/"
        },
        "id": "_lEV9qAyhjxQ",
        "outputId": "31aec8ba-6fcb-4458-db71-4172e0708505"
      },
      "outputs": [
        {
          "name": "stderr",
          "output_type": "stream",
          "text": [
            "Counting samples in shl-dataset/challenge-2019-train_torso/train/Torso: 196072it [00:00, 307474.32it/s]\n",
            "Counting samples in shl-dataset/challenge-2019-train_bag/train/Bag: 196072it [00:00, 315492.66it/s]\n",
            "Counting samples in shl-dataset/challenge-2019-train_hips/train/Hips: 196072it [00:00, 314898.54it/s]\n",
            "Counting samples in shl-dataset/challenge-2020-train_hand/train/Hand: 196072it [00:00, 318320.54it/s]\n",
            "Counting samples in shl-dataset/challenge-2020-validation/validation/Torso: 28789it [00:00, 310482.68it/s]\n",
            "Counting samples in shl-dataset/challenge-2020-validation/validation/Bag: 28789it [00:00, 295352.42it/s]\n",
            "Counting samples in shl-dataset/challenge-2020-validation/validation/Hips: 28789it [00:00, 299552.27it/s]\n",
            "Counting samples in shl-dataset/challenge-2020-validation/validation/Hand: 28789it [00:00, 323318.65it/s]\n"
          ]
        },
        {
          "name": "stdout",
          "output_type": "stream",
          "text": [
            "Epoch 1/20\n",
            "16384/16384 [==============================] - 252s 15ms/step - loss: 0.6025 - val_loss: 0.4589\n",
            "\n",
            "Epoch 00001: val_loss improved from inf to 0.45893, saving model to models/shl-1d-conv-autoencoder\n",
            "INFO:tensorflow:Assets written to: models/shl-1d-conv-autoencoder/assets\n",
            "Epoch 2/20\n",
            "16384/16384 [==============================] - 275s 15ms/step - loss: 0.5983 - val_loss: 0.4593\n",
            "\n",
            "Epoch 00002: val_loss did not improve from 0.45893\n",
            "Epoch 3/20\n",
            "16384/16384 [==============================] - 272s 14ms/step - loss: 0.5978 - val_loss: 0.4831\n",
            "\n",
            "Epoch 00003: val_loss did not improve from 0.45893\n",
            "\n",
            "Epoch 00003: ReduceLROnPlateau reducing learning rate to 0.0002500000118743628.\n",
            "Epoch 4/20\n",
            "16384/16384 [==============================] - 270s 14ms/step - loss: 0.5970 - val_loss: 0.4644\n",
            "\n",
            "Epoch 00004: val_loss did not improve from 0.45893\n",
            "Epoch 5/20\n",
            "16384/16384 [==============================] - 270s 14ms/step - loss: 0.5968 - val_loss: 0.4570\n",
            "\n",
            "Epoch 00005: val_loss improved from 0.45893 to 0.45703, saving model to models/shl-1d-conv-autoencoder\n",
            "INFO:tensorflow:Assets written to: models/shl-1d-conv-autoencoder/assets\n",
            "Epoch 6/20\n",
            "16384/16384 [==============================] - 269s 14ms/step - loss: 0.5967 - val_loss: 0.4603\n",
            "\n",
            "Epoch 00006: val_loss did not improve from 0.45703\n",
            "Epoch 7/20\n",
            "16384/16384 [==============================] - 271s 14ms/step - loss: 0.5967 - val_loss: 0.4600\n",
            "\n",
            "Epoch 00007: val_loss did not improve from 0.45703\n",
            "\n",
            "Epoch 00007: ReduceLROnPlateau reducing learning rate to 0.0001.\n",
            "Epoch 8/20\n",
            "16384/16384 [==============================] - 269s 14ms/step - loss: 0.5965 - val_loss: 0.4593\n",
            "\n",
            "Epoch 00008: val_loss did not improve from 0.45703\n",
            "Epoch 9/20\n",
            "16384/16384 [==============================] - 271s 14ms/step - loss: 0.5964 - val_loss: 0.4623\n",
            "\n",
            "Epoch 00009: val_loss did not improve from 0.45703\n",
            "Epoch 10/20\n",
            "16384/16384 [==============================] - 270s 14ms/step - loss: 0.5964 - val_loss: 0.4611\n",
            "\n",
            "Epoch 00010: val_loss did not improve from 0.45703\n",
            "Epoch 00010: early stopping\n"
          ]
        },
        {
          "data": {
            "text/plain": [
              "<tensorflow.python.keras.callbacks.History at 0x7fbac74156d0>"
            ]
          },
          "execution_count": 16,
          "metadata": {
            "tags": []
          },
          "output_type": "execute_result"
        }
      ],
      "source": [
        "import joblib\n",
        "\n",
        "from collections import OrderedDict\n",
        "\n",
        "import pandas as pd\n",
        "import numpy as np\n",
        "\n",
        "from tqdm import tqdm\n",
        "\n",
        "X_attributes = [\n",
        "    'acc_y',\n",
        "]\n",
        "\n",
        "X_files = [\n",
        "    'Acc_y.txt',\n",
        "]\n",
        "\n",
        "scalers = OrderedDict({})\n",
        "for a in X_attributes:\n",
        "    scaler = joblib.load(f'models/shl-scalers/{a}.scaler.joblib')\n",
        "    scaler.copy = False # Save memory\n",
        "    scalers[a] = scaler\n",
        "\n",
        "sample_length = 500\n",
        "\n",
        "class SHLDatasetGenerator(keras.utils.Sequence):    \n",
        "    def __init__(\n",
        "        self, \n",
        "        dataset_dirs, \n",
        "        batch_size=pow(2, 5),\n",
        "        prefetch_size_per_dataset=pow(2, 14), \n",
        "        xdtype=np.float16\n",
        "    ):\n",
        "        self.dataset_dirs = dataset_dirs\n",
        "        self.batch_size = batch_size\n",
        "        \n",
        "        self.prefetch_size_per_dataset = prefetch_size_per_dataset\n",
        "        self.prefetched_X_batches = None\n",
        "        self.prefetched_base_step_idx = None\n",
        "\n",
        "        self.xdtype = xdtype\n",
        "\n",
        "        # Count samples in datasets\n",
        "        self.dataset_samples = [] # (dim datasets)\n",
        "        for dataset_dir in dataset_dirs:\n",
        "            # Every file in the dataset has the same length\n",
        "            samples = 0\n",
        "            with open(dataset_dir / X_files[0]) as f:\n",
        "                for _ in tqdm(f, desc=f'Counting samples in {dataset_dir}'):\n",
        "                    samples += 1\n",
        "            assert samples > prefetch_size_per_dataset\n",
        "            self.dataset_samples.append(samples)\n",
        "        \n",
        "        self._setup_new_chunked_readers()\n",
        "\n",
        "    def __len__(self):\n",
        "        # Datasets should be of equal length, but in case some dataset\n",
        "        # is shorter than the others, we need to truncate our samples\n",
        "        max_n_samples = min(self.dataset_samples) * len(self.dataset_dirs)\n",
        "        # Datasets need to be truncated by the prefetch size\n",
        "        padding = self.prefetch_size_per_dataset * len(self.dataset_dirs)\n",
        "        max_n_samples = max_n_samples - (max_n_samples % padding)\n",
        "        return int(np.floor(max_n_samples / self.batch_size))                  \n",
        "\n",
        "    def _setup_new_chunked_readers(self):\n",
        "        # Throw away potentially existing readers\n",
        "        self.X_attr_readers_for_datasets = [] # (dim datasets x readers)\n",
        "\n",
        "        # Initialize new chunked csv readers\n",
        "        read_csv_kwargs = { 'sep': ' ', 'header': None, 'chunksize': self.prefetch_size_per_dataset }\n",
        "        for dirname in self.dataset_dirs:\n",
        "            X_readers = []\n",
        "            for filename in X_files:\n",
        "                X_reader = pd.read_csv(dirname / filename, dtype=self.xdtype, **read_csv_kwargs)\n",
        "                X_readers.append(X_reader)\n",
        "            self.X_attr_readers_for_datasets.append(X_readers)\n",
        "\n",
        "    def on_epoch_end(self):\n",
        "        self._setup_new_chunked_readers()\n",
        "\n",
        "    def _prefetch_batches(self):\n",
        "        X_combined = None # dim (None x sample_length x n_X_attributes)\n",
        "        for X_attr_readers in self.X_attr_readers_for_datasets:\n",
        "            X_subdataset = None # dim (None x sample_length x n_X_attributes)\n",
        "            for X_attribute, X_attr_reader in zip(X_attributes, X_attr_readers):\n",
        "                X_attr_track = next(X_attr_reader)\n",
        "                X_attr_track = np.nan_to_num(X_attr_track.to_numpy())\n",
        "                X_attr_track = scalers[X_attribute].transform(X_attr_track)\n",
        "                X_subdataset = X_attr_track if X_subdataset is None else np.dstack((X_subdataset, X_attr_track))\n",
        "            X_combined = X_subdataset if X_combined is None else np.concatenate((X_combined, X_subdataset), axis=0)\n",
        "        \n",
        "        # Shuffle data points\n",
        "        p = np.random.permutation(len(X_combined))\n",
        "        X_combined = X_combined[p]\n",
        "\n",
        "        # Pack the prefetched data into batches\n",
        "        self.prefetched_X_batches = np.split(X_combined, len(X_combined) // self.batch_size, axis=0)\n",
        "\n",
        "    def __getitem__(self, step_idx):\n",
        "        if self.prefetched_X_batches is None:\n",
        "            is_prefetched = False\n",
        "        else:\n",
        "            n_prefetched_batches = len(self.prefetched_X_batches)\n",
        "            is_above_prefetch = step_idx > (self.prefetched_base_step_idx + n_prefetched_batches - 1)\n",
        "            is_below_prefetch = step_idx < self.prefetched_base_step_idx\n",
        "            is_prefetched = (not is_above_prefetch) and (not is_below_prefetch)\n",
        "\n",
        "        if not is_prefetched:\n",
        "            self._prefetch_batches()\n",
        "            self.prefetched_base_step_idx = step_idx\n",
        "\n",
        "        scoped_idx = step_idx - self.prefetched_base_step_idx\n",
        "        X = self.prefetched_X_batches[scoped_idx]\n",
        "\n",
        "        return X, X\n",
        "\n",
        "# Use batch generators to not preprocess the whole dataset at once   \n",
        "train_generator = SHLDatasetGenerator(TRAIN_DATASET_DIRS, prefetch_size_per_dataset=pow(2, 16))\n",
        "validation_generator = SHLDatasetGenerator(VALIDATION_DATASET_DIRS)\n",
        "\n",
        "# Train model\n",
        "callbacks = [\n",
        "    keras.callbacks.CSVLogger('train.log', append=False),\n",
        "    keras.callbacks.ModelCheckpoint(\n",
        "        'models/shl-1d-conv-autoencoder', save_best_only=True, monitor='val_loss', verbose=1\n",
        "    ),\n",
        "    keras.callbacks.ReduceLROnPlateau(\n",
        "        monitor='val_loss', factor=0.25, patience=2, min_lr=0.0001, verbose=1\n",
        "    ),\n",
        "    keras.callbacks.EarlyStopping(monitor='val_loss', patience=5, verbose=1),\n",
        "]\n",
        "\n",
        "autoencoder.fit(\n",
        "    train_generator,\n",
        "    epochs=20,\n",
        "    verbose=1,\n",
        "    callbacks=callbacks,\n",
        "    validation_data=validation_generator,\n",
        "    shuffle=False, # Shuffling doesn't work with our prefetching\n",
        ")"
      ]
    },
    {
      "cell_type": "code",
      "execution_count": null,
      "metadata": {
        "colab": {
          "base_uri": "https://localhost:8080/",
          "height": 343
        },
        "id": "oFwoZyxth-q1",
        "outputId": "e0769732-1391-44f8-c59e-bbdbc0bd56ae"
      },
      "outputs": [
        {
          "name": "stderr",
          "output_type": "stream",
          "text": [
            "Counting samples in shl-dataset/challenge-2020-validation/validation/Torso: 28789it [00:00, 337900.67it/s]\n",
            "Counting samples in shl-dataset/challenge-2020-validation/validation/Bag: 28789it [00:00, 332957.82it/s]\n",
            "Counting samples in shl-dataset/challenge-2020-validation/validation/Hips: 28789it [00:00, 325484.37it/s]\n",
            "Counting samples in shl-dataset/challenge-2020-validation/validation/Hand: 28789it [00:00, 320880.28it/s]\n"
          ]
        },
        {
          "data": {
            "image/png": "[encoded data removed]",
            "text/plain": [
              "<Figure size 864x288 with 12 Axes>"
            ]
          },
          "metadata": {
            "needs_background": "light",
            "tags": []
          },
          "output_type": "display_data"
        }
      ],
      "source": [
        "import matplotlib.pyplot as plt\n",
        "\n",
        "n_visualizations = 4\n",
        "fig, axs = plt.subplots(3, n_visualizations)\n",
        "fig.set_size_inches(3 * n_visualizations, 4)\n",
        "\n",
        "vis_generator = SHLDatasetGenerator(VALIDATION_DATASET_DIRS, prefetch_size_per_dataset=pow(2, 14))\n",
        "vis_samples, _ = vis_generator[0]\n",
        "\n",
        "for ax in axs.flatten():\n",
        "    ax.grid(\n",
        "        b = True, \n",
        "        color ='grey',\n",
        "        linestyle ='-.', \n",
        "        linewidth = 0.5,\n",
        "        alpha = 0.2\n",
        "    )\n",
        "    ax.set_xticklabels([])\n",
        "    ax.set_yticklabels([])\n",
        "\n",
        "axs[0, 0].set_ylabel('Sample')\n",
        "axs[1, 0].set_ylabel('Kodiert')\n",
        "axs[2, 0].set_ylabel('Dekodiert')\n",
        "\n",
        "for i, sample in enumerate(vis_samples[:n_visualizations]):\n",
        "    encoding = encoder.predict(sample.reshape(1, 500, 1)).reshape(5, 10)\n",
        "    prediction = autoencoder.predict(sample.reshape(1, 500, 1)).reshape(500, 1)\n",
        "    axs[0, i].plot(sample, color='black')\n",
        "    axs[1, i].matshow(encoding, cmap=plt.cm.binary)\n",
        "    axs[2, i].plot(prediction, color='black')\n",
        "\n",
        "plt.show()"
      ]
    },
    {
      "cell_type": "code",
      "execution_count": null,
      "metadata": {
        "colab": {
          "base_uri": "https://localhost:8080/",
          "height": 34
        },
        "id": "EWerT3LIkRnw",
        "outputId": "b322e856-3924-486a-8207-b224f79f4daf"
      },
      "outputs": [
        {
          "data": {
            "text/plain": [
              "<Figure size 432x288 with 0 Axes>"
            ]
          },
          "metadata": {
            "tags": []
          },
          "output_type": "display_data"
        }
      ],
      "source": [
        "plt.savefig(\n",
        "    f'../images/shl/autoencoder.pdf',\n",
        "    dpi=1200,\n",
        "    bbox_inches='tight'\n",
        ")"
      ]
    }
  ],
  "metadata": {
    "accelerator": "GPU",
    "colab": {
      "include_colab_link": true,
      "machine_shape": "hm",
      "name": "shl-deep-learning-timeseries.ipynb",
      "provenance": []
    },
    "kernelspec": {
      "display_name": "Python 3.8.9 64-bit",
      "language": "python",
      "name": "python3"
    },
    "language_info": {
      "codemirror_mode": {
        "name": "ipython",
        "version": 3
      },
      "file_extension": ".py",
      "mimetype": "text/x-python",
      "name": "python",
      "nbconvert_exporter": "python",
      "pygments_lexer": "ipython3",
      "version": "3.8.9"
    },
    "orig_nbformat": 4,
    "vscode": {
      "interpreter": {
        "hash": "31f2aee4e71d21fbe5cf8b01ff0e069b9275f58929596ceb00d14d90e3e16cd6"
      }
    }
  },
  "nbformat": 4,
  "nbformat_minor": 0
}
