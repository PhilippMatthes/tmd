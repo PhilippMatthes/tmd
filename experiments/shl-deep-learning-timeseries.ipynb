{
  "cells": [
    {
      "cell_type": "markdown",
      "metadata": {
        "colab_type": "text",
        "id": "view-in-github"
      },
      "source": [
        "<a href=\"https://colab.research.google.com/github/philippmatthes/tmd/blob/master/src/shl-deep-learning-timeseries.ipynb\" target=\"_parent\"><img src=\"https://colab.research.google.com/assets/colab-badge.svg\" alt=\"Open In Colab\"/></a>"
      ]
    },
    {
      "cell_type": "markdown",
      "metadata": {
        "id": "MQCjUOLzIZ0b"
      },
      "source": [
        "# Using a deep CNN to directly classify SHL timeseries data\n",
        "\n",
        "The following notebook contains code to classify SHL timeseries data with deep convolutional neural networks. Steps:\n",
        "\n",
        "- Data preprocessing\n",
        "- Metamodel definition\n",
        "- Hyperband gridsearch\n",
        "- Model conversion and optimization"
      ]
    },
    {
      "cell_type": "markdown",
      "metadata": {
        "id": "VGjzA2pZyy3-"
      },
      "source": [
        "# General setup steps"
      ]
    },
    {
      "cell_type": "markdown",
      "metadata": {
        "id": "QOXi8nPU9wug"
      },
      "source": [
        "### Free up disk space"
      ]
    },
    {
      "cell_type": "code",
      "execution_count": 1,
      "metadata": {
        "id": "jKpWbBKRvep4"
      },
      "outputs": [],
      "source": [
        "!rm -rf /usr/local/lib/python2.7\n",
        "!rm -rf /swift\n",
        "!rm -rf /usr/local/lib/python3.6/dist-packages/torch\n",
        "!rm -rf /usr/local/lib/python3.6/dist-packages/pystan\n",
        "!rm -rf /usr/local/lib/python3.6/dist-packages/spacy\n",
        "!rm -rf /tensorflow-1.15.2/"
      ]
    },
    {
      "cell_type": "markdown",
      "metadata": {
        "id": "mvAtyd5Z9zSQ"
      },
      "source": [
        "### Get our base repo so that we can use predefined architectures and pretrained scalers"
      ]
    },
    {
      "cell_type": "code",
      "execution_count": 2,
      "metadata": {
        "colab": {
          "base_uri": "https://localhost:8080/"
        },
        "id": "3z6b-V4Ewjxi",
        "outputId": "4e1e7cf3-13bb-464d-a3fc-3cb9bf4861af"
      },
      "outputs": [
        {
          "name": "stdout",
          "output_type": "stream",
          "text": [
            "Cloning into 'tmd'...\n",
            "remote: Enumerating objects: 2716, done.\u001b[K\n",
            "remote: Counting objects: 100% (2053/2053), done.\u001b[K\n",
            "remote: Compressing objects: 100% (1414/1414), done.\u001b[K\n",
            "remote: Total 2716 (delta 1098), reused 1382 (delta 534), pack-reused 663\u001b[K\n",
            "Receiving objects: 100% (2716/2716), 63.27 MiB | 15.57 MiB/s, done.\n",
            "Resolving deltas: 100% (1474/1474), done.\n"
          ]
        }
      ],
      "source": [
        "!git clone https://github.com/philippmatthes/tmd"
      ]
    },
    {
      "cell_type": "markdown",
      "metadata": {
        "id": "nG3y6Dop93sq"
      },
      "source": [
        "### Switch to our src dir for further processing."
      ]
    },
    {
      "cell_type": "code",
      "execution_count": 3,
      "metadata": {
        "colab": {
          "base_uri": "https://localhost:8080/"
        },
        "id": "AXL4FprvwmKe",
        "outputId": "c4047173-7445-417d-b16c-14caa48264d0"
      },
      "outputs": [
        {
          "name": "stdout",
          "output_type": "stream",
          "text": [
            "/content/tmd/src\n"
          ]
        }
      ],
      "source": [
        "%cd /content/tmd/src"
      ]
    },
    {
      "cell_type": "markdown",
      "metadata": {
        "id": "kByvfDST95q6"
      },
      "source": [
        "### Create the dataset dir in which our dataset will be downloaded next"
      ]
    },
    {
      "cell_type": "code",
      "execution_count": 4,
      "metadata": {
        "id": "diAe3hKbyFi_"
      },
      "outputs": [],
      "source": [
        "!mkdir shl-dataset"
      ]
    },
    {
      "cell_type": "markdown",
      "metadata": {
        "id": "lK4LJQGJ981F"
      },
      "source": [
        "### Download the SHL dataset from the shl server\n",
        "\n",
        "This might take some time, on Google Colab its approx. 45 minutes. You can also mount your Google Drive if you have enough space available"
      ]
    },
    {
      "cell_type": "code",
      "execution_count": null,
      "metadata": {
        "id": "5tWAbEF-wnYU"
      },
      "outputs": [],
      "source": [
        "!wget -nc -O shl-dataset/challenge-2019-user1_torso.zip http://www.shl-dataset.org/wp-content/uploads/SHLChallenge2019/challenge-2019-train_torso.zip\n",
        "!wget -nc -O shl-dataset/challenge-2019-user1_bag.zip http://www.shl-dataset.org/wp-content/uploads/SHLChallenge2019/challenge-2019-train_bag.zip\n",
        "!wget -nc -O shl-dataset/challenge-2019-user1_hips.zip http://www.shl-dataset.org/wp-content/uploads/SHLChallenge2019/challenge-2019-train_hips.zip\n",
        "!wget -nc -O shl-dataset/challenge-2020-user1_hand.zip http://www.shl-dataset.org/wp-content/uploads/SHLChallenge2020/challenge-2020-train_hand.zip\n",
        "!wget -nc -O shl-dataset/challenge-2020-users23_torso_bag_hips_hand.zip http://www.shl-dataset.org/wp-content/uploads/SHLChallenge2020/challenge-2020-validation.zip"
      ]
    },
    {
      "cell_type": "markdown",
      "metadata": {
        "id": "-8C9qCcPjRwc"
      },
      "source": [
        "### Unzip training datasets\n",
        "\n",
        "Next we unzip our dataset into the running instance's filestorage. *Note that this will probably not work for free subscriptions of Google Colab, since the data is approximately 90-100 GB when extracted.*"
      ]
    },
    {
      "cell_type": "code",
      "execution_count": 6,
      "metadata": {
        "colab": {
          "base_uri": "https://localhost:8080/"
        },
        "id": "MJK91R8EAb0b",
        "outputId": "7bdc6747-09ba-4e33-fc9d-8e41633edf91"
      },
      "outputs": [
        {
          "name": "stdout",
          "output_type": "stream",
          "text": [
            "Archive:  shl-dataset/challenge-2019-user1_torso.zip\n",
            "   creating: shl-dataset/challenge-2019-user1_torso/train/Torso/\n",
            "  inflating: shl-dataset/challenge-2019-user1_torso/train/Torso/Acc_x.txt  \n",
            "  inflating: shl-dataset/challenge-2019-user1_torso/train/Torso/Acc_y.txt  \n",
            "  inflating: shl-dataset/challenge-2019-user1_torso/train/Torso/Acc_z.txt  \n",
            "  inflating: shl-dataset/challenge-2019-user1_torso/train/Torso/Gra_x.txt  \n",
            "  inflating: shl-dataset/challenge-2019-user1_torso/train/Torso/Gra_y.txt  \n",
            "  inflating: shl-dataset/challenge-2019-user1_torso/train/Torso/Gra_z.txt  \n",
            "  inflating: shl-dataset/challenge-2019-user1_torso/train/Torso/Gyr_x.txt  \n",
            "  inflating: shl-dataset/challenge-2019-user1_torso/train/Torso/Gyr_y.txt  \n",
            "  inflating: shl-dataset/challenge-2019-user1_torso/train/Torso/Gyr_z.txt  \n",
            "  inflating: shl-dataset/challenge-2019-user1_torso/train/Torso/Label.txt  \n",
            "  inflating: shl-dataset/challenge-2019-user1_torso/train/Torso/LAcc_x.txt  \n",
            "  inflating: shl-dataset/challenge-2019-user1_torso/train/Torso/LAcc_y.txt  \n",
            "  inflating: shl-dataset/challenge-2019-user1_torso/train/Torso/LAcc_z.txt  \n",
            "  inflating: shl-dataset/challenge-2019-user1_torso/train/Torso/Mag_x.txt  \n",
            "  inflating: shl-dataset/challenge-2019-user1_torso/train/Torso/Mag_y.txt  \n",
            "  inflating: shl-dataset/challenge-2019-user1_torso/train/Torso/Mag_z.txt  \n",
            "  inflating: shl-dataset/challenge-2019-user1_torso/train/Torso/Ori_w.txt  \n",
            "  inflating: shl-dataset/challenge-2019-user1_torso/train/Torso/Ori_x.txt  \n",
            "  inflating: shl-dataset/challenge-2019-user1_torso/train/Torso/Ori_y.txt  \n",
            "  inflating: shl-dataset/challenge-2019-user1_torso/train/Torso/Ori_z.txt  \n",
            "  inflating: shl-dataset/challenge-2019-user1_torso/train/Torso/Pressure.txt  \n",
            "Archive:  shl-dataset/challenge-2019-user1_bag.zip\n",
            "   creating: shl-dataset/challenge-2019-user1_bag/train/Bag/\n",
            "  inflating: shl-dataset/challenge-2019-user1_bag/train/Bag/Acc_x.txt  \n",
            "  inflating: shl-dataset/challenge-2019-user1_bag/train/Bag/Acc_y.txt  \n",
            "  inflating: shl-dataset/challenge-2019-user1_bag/train/Bag/Acc_z.txt  \n",
            "  inflating: shl-dataset/challenge-2019-user1_bag/train/Bag/Gra_x.txt  \n",
            "  inflating: shl-dataset/challenge-2019-user1_bag/train/Bag/Gra_y.txt  \n",
            "  inflating: shl-dataset/challenge-2019-user1_bag/train/Bag/Gra_z.txt  \n",
            "  inflating: shl-dataset/challenge-2019-user1_bag/train/Bag/Gyr_x.txt  \n",
            "  inflating: shl-dataset/challenge-2019-user1_bag/train/Bag/Gyr_y.txt  \n",
            "  inflating: shl-dataset/challenge-2019-user1_bag/train/Bag/Gyr_z.txt  \n",
            "  inflating: shl-dataset/challenge-2019-user1_bag/train/Bag/Label.txt  \n",
            "  inflating: shl-dataset/challenge-2019-user1_bag/train/Bag/LAcc_x.txt  \n",
            "  inflating: shl-dataset/challenge-2019-user1_bag/train/Bag/LAcc_y.txt  \n",
            "  inflating: shl-dataset/challenge-2019-user1_bag/train/Bag/LAcc_z.txt  \n",
            "  inflating: shl-dataset/challenge-2019-user1_bag/train/Bag/Mag_x.txt  \n",
            "  inflating: shl-dataset/challenge-2019-user1_bag/train/Bag/Mag_y.txt  \n",
            "  inflating: shl-dataset/challenge-2019-user1_bag/train/Bag/Mag_z.txt  \n",
            "  inflating: shl-dataset/challenge-2019-user1_bag/train/Bag/Ori_w.txt  \n",
            "  inflating: shl-dataset/challenge-2019-user1_bag/train/Bag/Ori_x.txt  \n",
            "  inflating: shl-dataset/challenge-2019-user1_bag/train/Bag/Ori_y.txt  \n",
            "  inflating: shl-dataset/challenge-2019-user1_bag/train/Bag/Ori_z.txt  \n",
            "  inflating: shl-dataset/challenge-2019-user1_bag/train/Bag/Pressure.txt  \n",
            "Archive:  shl-dataset/challenge-2019-user1_hips.zip\n",
            "   creating: shl-dataset/challenge-2019-user1_hips/train/Hips/\n",
            "  inflating: shl-dataset/challenge-2019-user1_hips/train/Hips/Acc_x.txt  \n",
            "  inflating: shl-dataset/challenge-2019-user1_hips/train/Hips/Acc_y.txt  \n",
            "  inflating: shl-dataset/challenge-2019-user1_hips/train/Hips/Acc_z.txt  \n",
            "  inflating: shl-dataset/challenge-2019-user1_hips/train/Hips/Gra_x.txt  \n",
            "  inflating: shl-dataset/challenge-2019-user1_hips/train/Hips/Gra_y.txt  \n",
            "  inflating: shl-dataset/challenge-2019-user1_hips/train/Hips/Gra_z.txt  \n",
            "  inflating: shl-dataset/challenge-2019-user1_hips/train/Hips/Gyr_x.txt  \n",
            "  inflating: shl-dataset/challenge-2019-user1_hips/train/Hips/Gyr_y.txt  \n",
            "  inflating: shl-dataset/challenge-2019-user1_hips/train/Hips/Gyr_z.txt  \n",
            "  inflating: shl-dataset/challenge-2019-user1_hips/train/Hips/Label.txt  \n",
            "  inflating: shl-dataset/challenge-2019-user1_hips/train/Hips/LAcc_x.txt  \n",
            "  inflating: shl-dataset/challenge-2019-user1_hips/train/Hips/LAcc_y.txt  \n",
            "  inflating: shl-dataset/challenge-2019-user1_hips/train/Hips/LAcc_z.txt  \n",
            "  inflating: shl-dataset/challenge-2019-user1_hips/train/Hips/Mag_x.txt  \n",
            "  inflating: shl-dataset/challenge-2019-user1_hips/train/Hips/Mag_y.txt  \n",
            "  inflating: shl-dataset/challenge-2019-user1_hips/train/Hips/Mag_z.txt  \n",
            "  inflating: shl-dataset/challenge-2019-user1_hips/train/Hips/Ori_w.txt  \n",
            "  inflating: shl-dataset/challenge-2019-user1_hips/train/Hips/Ori_x.txt  \n",
            "  inflating: shl-dataset/challenge-2019-user1_hips/train/Hips/Ori_y.txt  \n",
            "  inflating: shl-dataset/challenge-2019-user1_hips/train/Hips/Ori_z.txt  \n",
            "  inflating: shl-dataset/challenge-2019-user1_hips/train/Hips/Pressure.txt  \n",
            "Archive:  shl-dataset/challenge-2020-user1_hand.zip\n",
            "   creating: shl-dataset/challenge-2020-user1_hand/train/\n",
            "   creating: shl-dataset/challenge-2020-user1_hand/train/Hand/\n",
            "  inflating: shl-dataset/challenge-2020-user1_hand/train/Hand/Acc_x.txt  \n",
            "  inflating: shl-dataset/challenge-2020-user1_hand/train/Hand/Acc_y.txt  \n",
            "  inflating: shl-dataset/challenge-2020-user1_hand/train/Hand/Acc_z.txt  \n",
            "  inflating: shl-dataset/challenge-2020-user1_hand/train/Hand/Gra_x.txt  \n",
            "  inflating: shl-dataset/challenge-2020-user1_hand/train/Hand/Gra_y.txt  \n",
            "  inflating: shl-dataset/challenge-2020-user1_hand/train/Hand/Gra_z.txt  \n",
            "  inflating: shl-dataset/challenge-2020-user1_hand/train/Hand/Gyr_x.txt  \n",
            "  inflating: shl-dataset/challenge-2020-user1_hand/train/Hand/Gyr_y.txt  \n",
            "  inflating: shl-dataset/challenge-2020-user1_hand/train/Hand/Gyr_z.txt  \n",
            "  inflating: shl-dataset/challenge-2020-user1_hand/train/Hand/LAcc_x.txt  \n",
            "  inflating: shl-dataset/challenge-2020-user1_hand/train/Hand/LAcc_y.txt  \n",
            "  inflating: shl-dataset/challenge-2020-user1_hand/train/Hand/LAcc_z.txt  \n",
            "  inflating: shl-dataset/challenge-2020-user1_hand/train/Hand/Label.txt  \n",
            "  inflating: shl-dataset/challenge-2020-user1_hand/train/Hand/Mag_x.txt  \n",
            "  inflating: shl-dataset/challenge-2020-user1_hand/train/Hand/Mag_y.txt  \n",
            "  inflating: shl-dataset/challenge-2020-user1_hand/train/Hand/Mag_z.txt  \n",
            "  inflating: shl-dataset/challenge-2020-user1_hand/train/Hand/Ori_w.txt  \n",
            "  inflating: shl-dataset/challenge-2020-user1_hand/train/Hand/Ori_x.txt  \n",
            "  inflating: shl-dataset/challenge-2020-user1_hand/train/Hand/Ori_y.txt  \n",
            "  inflating: shl-dataset/challenge-2020-user1_hand/train/Hand/Ori_z.txt  \n",
            "  inflating: shl-dataset/challenge-2020-user1_hand/train/Hand/Pressure.txt  \n",
            "Archive:  shl-dataset/challenge-2020-users23_torso_bag_hips_hand.zip\n",
            "   creating: shl-dataset/challenge-2020-users23_torso_bag_hips_hand/validation/\n",
            "   creating: shl-dataset/challenge-2020-users23_torso_bag_hips_hand/validation/Bag/\n",
            "  inflating: shl-dataset/challenge-2020-users23_torso_bag_hips_hand/validation/Bag/Acc_x.txt  \n",
            "  inflating: shl-dataset/challenge-2020-users23_torso_bag_hips_hand/validation/Bag/Acc_y.txt  \n",
            "  inflating: shl-dataset/challenge-2020-users23_torso_bag_hips_hand/validation/Bag/Acc_z.txt  \n",
            "  inflating: shl-dataset/challenge-2020-users23_torso_bag_hips_hand/validation/Bag/Gra_x.txt  \n",
            "  inflating: shl-dataset/challenge-2020-users23_torso_bag_hips_hand/validation/Bag/Gra_y.txt  \n",
            "  inflating: shl-dataset/challenge-2020-users23_torso_bag_hips_hand/validation/Bag/Gra_z.txt  \n",
            "  inflating: shl-dataset/challenge-2020-users23_torso_bag_hips_hand/validation/Bag/Gyr_x.txt  \n",
            "  inflating: shl-dataset/challenge-2020-users23_torso_bag_hips_hand/validation/Bag/Gyr_y.txt  \n",
            "  inflating: shl-dataset/challenge-2020-users23_torso_bag_hips_hand/validation/Bag/Gyr_z.txt  \n",
            "  inflating: shl-dataset/challenge-2020-users23_torso_bag_hips_hand/validation/Bag/LAcc_x.txt  \n",
            "  inflating: shl-dataset/challenge-2020-users23_torso_bag_hips_hand/validation/Bag/LAcc_y.txt  \n",
            "  inflating: shl-dataset/challenge-2020-users23_torso_bag_hips_hand/validation/Bag/LAcc_z.txt  \n",
            "  inflating: shl-dataset/challenge-2020-users23_torso_bag_hips_hand/validation/Bag/Label.txt  \n",
            "  inflating: shl-dataset/challenge-2020-users23_torso_bag_hips_hand/validation/Bag/Mag_x.txt  \n",
            "  inflating: shl-dataset/challenge-2020-users23_torso_bag_hips_hand/validation/Bag/Mag_y.txt  \n",
            "  inflating: shl-dataset/challenge-2020-users23_torso_bag_hips_hand/validation/Bag/Mag_z.txt  \n",
            "  inflating: shl-dataset/challenge-2020-users23_torso_bag_hips_hand/validation/Bag/Ori_w.txt  \n",
            "  inflating: shl-dataset/challenge-2020-users23_torso_bag_hips_hand/validation/Bag/Ori_x.txt  \n",
            "  inflating: shl-dataset/challenge-2020-users23_torso_bag_hips_hand/validation/Bag/Ori_y.txt  \n",
            "  inflating: shl-dataset/challenge-2020-users23_torso_bag_hips_hand/validation/Bag/Ori_z.txt  \n",
            "  inflating: shl-dataset/challenge-2020-users23_torso_bag_hips_hand/validation/Bag/Pressure.txt  \n",
            "   creating: shl-dataset/challenge-2020-users23_torso_bag_hips_hand/validation/Hand/\n",
            "  inflating: shl-dataset/challenge-2020-users23_torso_bag_hips_hand/validation/Hand/Acc_x.txt  \n",
            "  inflating: shl-dataset/challenge-2020-users23_torso_bag_hips_hand/validation/Hand/Acc_y.txt  \n",
            "  inflating: shl-dataset/challenge-2020-users23_torso_bag_hips_hand/validation/Hand/Acc_z.txt  \n",
            "  inflating: shl-dataset/challenge-2020-users23_torso_bag_hips_hand/validation/Hand/Gra_x.txt  \n",
            "  inflating: shl-dataset/challenge-2020-users23_torso_bag_hips_hand/validation/Hand/Gra_y.txt  \n",
            "  inflating: shl-dataset/challenge-2020-users23_torso_bag_hips_hand/validation/Hand/Gra_z.txt  \n",
            "  inflating: shl-dataset/challenge-2020-users23_torso_bag_hips_hand/validation/Hand/Gyr_x.txt  \n",
            "  inflating: shl-dataset/challenge-2020-users23_torso_bag_hips_hand/validation/Hand/Gyr_y.txt  \n",
            "  inflating: shl-dataset/challenge-2020-users23_torso_bag_hips_hand/validation/Hand/Gyr_z.txt  \n",
            "  inflating: shl-dataset/challenge-2020-users23_torso_bag_hips_hand/validation/Hand/LAcc_x.txt  \n",
            "  inflating: shl-dataset/challenge-2020-users23_torso_bag_hips_hand/validation/Hand/LAcc_y.txt  \n",
            "  inflating: shl-dataset/challenge-2020-users23_torso_bag_hips_hand/validation/Hand/LAcc_z.txt  \n",
            "  inflating: shl-dataset/challenge-2020-users23_torso_bag_hips_hand/validation/Hand/Label.txt  \n",
            "  inflating: shl-dataset/challenge-2020-users23_torso_bag_hips_hand/validation/Hand/Mag_x.txt  \n",
            "  inflating: shl-dataset/challenge-2020-users23_torso_bag_hips_hand/validation/Hand/Mag_y.txt  \n",
            "  inflating: shl-dataset/challenge-2020-users23_torso_bag_hips_hand/validation/Hand/Mag_z.txt  \n",
            "  inflating: shl-dataset/challenge-2020-users23_torso_bag_hips_hand/validation/Hand/Ori_w.txt  \n",
            "  inflating: shl-dataset/challenge-2020-users23_torso_bag_hips_hand/validation/Hand/Ori_x.txt  \n",
            "  inflating: shl-dataset/challenge-2020-users23_torso_bag_hips_hand/validation/Hand/Ori_y.txt  \n",
            "  inflating: shl-dataset/challenge-2020-users23_torso_bag_hips_hand/validation/Hand/Ori_z.txt  \n",
            "  inflating: shl-dataset/challenge-2020-users23_torso_bag_hips_hand/validation/Hand/Pressure.txt  \n",
            "   creating: shl-dataset/challenge-2020-users23_torso_bag_hips_hand/validation/Hips/\n",
            "  inflating: shl-dataset/challenge-2020-users23_torso_bag_hips_hand/validation/Hips/Acc_x.txt  \n",
            "  inflating: shl-dataset/challenge-2020-users23_torso_bag_hips_hand/validation/Hips/Acc_y.txt  \n",
            "  inflating: shl-dataset/challenge-2020-users23_torso_bag_hips_hand/validation/Hips/Acc_z.txt  \n",
            "  inflating: shl-dataset/challenge-2020-users23_torso_bag_hips_hand/validation/Hips/Gra_x.txt  \n",
            "  inflating: shl-dataset/challenge-2020-users23_torso_bag_hips_hand/validation/Hips/Gra_y.txt  \n",
            "  inflating: shl-dataset/challenge-2020-users23_torso_bag_hips_hand/validation/Hips/Gra_z.txt  \n",
            "  inflating: shl-dataset/challenge-2020-users23_torso_bag_hips_hand/validation/Hips/Gyr_x.txt  \n",
            "  inflating: shl-dataset/challenge-2020-users23_torso_bag_hips_hand/validation/Hips/Gyr_y.txt  \n",
            "  inflating: shl-dataset/challenge-2020-users23_torso_bag_hips_hand/validation/Hips/Gyr_z.txt  \n",
            "  inflating: shl-dataset/challenge-2020-users23_torso_bag_hips_hand/validation/Hips/LAcc_x.txt  \n",
            "  inflating: shl-dataset/challenge-2020-users23_torso_bag_hips_hand/validation/Hips/LAcc_y.txt  \n",
            "  inflating: shl-dataset/challenge-2020-users23_torso_bag_hips_hand/validation/Hips/LAcc_z.txt  \n",
            "  inflating: shl-dataset/challenge-2020-users23_torso_bag_hips_hand/validation/Hips/Label.txt  \n",
            "  inflating: shl-dataset/challenge-2020-users23_torso_bag_hips_hand/validation/Hips/Mag_x.txt  \n",
            "  inflating: shl-dataset/challenge-2020-users23_torso_bag_hips_hand/validation/Hips/Mag_y.txt  \n",
            "  inflating: shl-dataset/challenge-2020-users23_torso_bag_hips_hand/validation/Hips/Mag_z.txt  \n",
            "  inflating: shl-dataset/challenge-2020-users23_torso_bag_hips_hand/validation/Hips/Ori_w.txt  \n",
            "  inflating: shl-dataset/challenge-2020-users23_torso_bag_hips_hand/validation/Hips/Ori_x.txt  \n",
            "  inflating: shl-dataset/challenge-2020-users23_torso_bag_hips_hand/validation/Hips/Ori_y.txt  \n",
            "  inflating: shl-dataset/challenge-2020-users23_torso_bag_hips_hand/validation/Hips/Ori_z.txt  \n",
            "  inflating: shl-dataset/challenge-2020-users23_torso_bag_hips_hand/validation/Hips/Pressure.txt  \n",
            "   creating: shl-dataset/challenge-2020-users23_torso_bag_hips_hand/validation/Torso/\n",
            "  inflating: shl-dataset/challenge-2020-users23_torso_bag_hips_hand/validation/Torso/Acc_x.txt  \n",
            "  inflating: shl-dataset/challenge-2020-users23_torso_bag_hips_hand/validation/Torso/Acc_y.txt  \n",
            "  inflating: shl-dataset/challenge-2020-users23_torso_bag_hips_hand/validation/Torso/Acc_z.txt  \n",
            "  inflating: shl-dataset/challenge-2020-users23_torso_bag_hips_hand/validation/Torso/Gra_x.txt  \n",
            "  inflating: shl-dataset/challenge-2020-users23_torso_bag_hips_hand/validation/Torso/Gra_y.txt  \n",
            "  inflating: shl-dataset/challenge-2020-users23_torso_bag_hips_hand/validation/Torso/Gra_z.txt  \n",
            "  inflating: shl-dataset/challenge-2020-users23_torso_bag_hips_hand/validation/Torso/Gyr_x.txt  \n",
            "  inflating: shl-dataset/challenge-2020-users23_torso_bag_hips_hand/validation/Torso/Gyr_y.txt  \n",
            "  inflating: shl-dataset/challenge-2020-users23_torso_bag_hips_hand/validation/Torso/Gyr_z.txt  \n",
            "  inflating: shl-dataset/challenge-2020-users23_torso_bag_hips_hand/validation/Torso/LAcc_x.txt  \n",
            "  inflating: shl-dataset/challenge-2020-users23_torso_bag_hips_hand/validation/Torso/LAcc_y.txt  \n",
            "  inflating: shl-dataset/challenge-2020-users23_torso_bag_hips_hand/validation/Torso/LAcc_z.txt  \n",
            "  inflating: shl-dataset/challenge-2020-users23_torso_bag_hips_hand/validation/Torso/Label.txt  \n",
            "  inflating: shl-dataset/challenge-2020-users23_torso_bag_hips_hand/validation/Torso/Mag_x.txt  \n",
            "  inflating: shl-dataset/challenge-2020-users23_torso_bag_hips_hand/validation/Torso/Mag_y.txt  \n",
            "  inflating: shl-dataset/challenge-2020-users23_torso_bag_hips_hand/validation/Torso/Mag_z.txt  \n",
            "  inflating: shl-dataset/challenge-2020-users23_torso_bag_hips_hand/validation/Torso/Ori_w.txt  \n",
            "  inflating: shl-dataset/challenge-2020-users23_torso_bag_hips_hand/validation/Torso/Ori_x.txt  \n",
            "  inflating: shl-dataset/challenge-2020-users23_torso_bag_hips_hand/validation/Torso/Ori_y.txt  \n",
            "  inflating: shl-dataset/challenge-2020-users23_torso_bag_hips_hand/validation/Torso/Ori_z.txt  \n",
            "  inflating: shl-dataset/challenge-2020-users23_torso_bag_hips_hand/validation/Torso/Pressure.txt  \n"
          ]
        }
      ],
      "source": [
        "!unzip -n -d shl-dataset/challenge-2019-user1_torso shl-dataset/challenge-2019-user1_torso.zip\n",
        "!rm shl-dataset/challenge-2019-user1_torso.zip\n",
        "!unzip -n -d shl-dataset/challenge-2019-user1_bag shl-dataset/challenge-2019-user1_bag.zip\n",
        "!rm shl-dataset/challenge-2019-user1_bag.zip\n",
        "!unzip -n -d shl-dataset/challenge-2019-user1_hips shl-dataset/challenge-2019-user1_hips.zip\n",
        "!rm shl-dataset/challenge-2019-user1_hips.zip\n",
        "!unzip -n -d shl-dataset/challenge-2020-user1_hand shl-dataset/challenge-2020-user1_hand.zip\n",
        "!rm shl-dataset/challenge-2020-user1_hand.zip\n",
        "!unzip -n -d shl-dataset/challenge-2020-users23_torso_bag_hips_hand shl-dataset/challenge-2020-users23_torso_bag_hips_hand.zip\n",
        "!rm shl-dataset/challenge-2020-users23_torso_bag_hips_hand.zip"
      ]
    },
    {
      "cell_type": "markdown",
      "metadata": {
        "id": "zTu7fZGV-G8m"
      },
      "source": [
        "### Mount Google Drive for progress logging"
      ]
    },
    {
      "cell_type": "code",
      "execution_count": 7,
      "metadata": {
        "colab": {
          "base_uri": "https://localhost:8080/"
        },
        "id": "GMQExzWsgDUK",
        "outputId": "64d0a572-7209-45d7-abf0-36b2e6b018a9"
      },
      "outputs": [
        {
          "name": "stdout",
          "output_type": "stream",
          "text": [
            "Go to this URL in a browser: https://accounts.google.com/o/oauth2/auth?client_id=947318989803-6bn6qk8qdgf4n4g3pfee6491hc0brc4i.apps.googleusercontent.com&redirect_uri=urn%3aietf%3awg%3aoauth%3a2.0%3aoob&scope=email%20https%3a%2f%2fwww.googleapis.com%2fauth%2fdocs.test%20https%3a%2f%2fwww.googleapis.com%2fauth%2fdrive%20https%3a%2f%2fwww.googleapis.com%2fauth%2fdrive.photos.readonly%20https%3a%2f%2fwww.googleapis.com%2fauth%2fpeopleapi.readonly%20https%3a%2f%2fwww.googleapis.com%2fauth%2fdrive.activity.readonly%20https%3a%2f%2fwww.googleapis.com%2fauth%2fexperimentsandconfigs%20https%3a%2f%2fwww.googleapis.com%2fauth%2fphotos.native&response_type=code\n",
            "\n",
            "Enter your authorization code:\n",
            "4/1AX4XfWhVsFKIFJk4z6xNwvv_ogyiezEhWIZVgAQLuAoR3kGh_341zc0Am8s\n",
            "Mounted at /content/drive\n"
          ]
        }
      ],
      "source": [
        "from google.colab import drive\n",
        "drive.mount('/content/drive')"
      ]
    },
    {
      "cell_type": "markdown",
      "metadata": {
        "id": "6dhBS7-F-KCy"
      },
      "source": [
        "### Copy most recent gridsearch savestate"
      ]
    },
    {
      "cell_type": "code",
      "execution_count": null,
      "metadata": {
        "id": "j-kF6ua8gHXF"
      },
      "outputs": [],
      "source": [
        "datestr = '2021-08-29'\n",
        "\n",
        "!mkdir /content/tmd/src/logs/\n",
        "!unzip -n -d /content/tmd/src/logs/shl-gridsearch/ /content/drive/MyDrive/logs-{datestr}.zip\n",
        "!unzip -n -d /content/tmd/src/models/shl-gridsearch/ /content/drive/MyDrive/gridsearch-{datestr}.zip"
      ]
    },
    {
      "cell_type": "markdown",
      "metadata": {
        "id": "mxx5BMFo-N_z"
      },
      "source": [
        "### Check the CUDA version"
      ]
    },
    {
      "cell_type": "code",
      "execution_count": 9,
      "metadata": {
        "colab": {
          "base_uri": "https://localhost:8080/"
        },
        "id": "uF9LtE8PSAQR",
        "outputId": "6fc9851e-37f3-43ab-d167-4f82fe96f552"
      },
      "outputs": [
        {
          "name": "stdout",
          "output_type": "stream",
          "text": [
            "nvcc: NVIDIA (R) Cuda compiler driver\n",
            "Copyright (c) 2005-2020 NVIDIA Corporation\n",
            "Built on Mon_Oct_12_20:09:46_PDT_2020\n",
            "Cuda compilation tools, release 11.1, V11.1.105\n",
            "Build cuda_11.1.TC455_06.29190527_0\n"
          ]
        }
      ],
      "source": [
        "!nvcc --version"
      ]
    },
    {
      "cell_type": "markdown",
      "metadata": {
        "id": "uiA5Sbj1-QyW"
      },
      "source": [
        "### Change into our src dir and select TF 2.0"
      ]
    },
    {
      "cell_type": "code",
      "execution_count": 10,
      "metadata": {
        "colab": {
          "base_uri": "https://localhost:8080/"
        },
        "id": "yZAJlKdu06f1",
        "outputId": "97d5b7f9-9840-4709-d271-1f5a302d4079"
      },
      "outputs": [
        {
          "name": "stdout",
          "output_type": "stream",
          "text": [
            "/content/tmd/src\n"
          ]
        }
      ],
      "source": [
        "%cd /content/tmd/src\n",
        "%tensorflow_version 2.x"
      ]
    },
    {
      "cell_type": "markdown",
      "metadata": {
        "id": "nsh_KNx7-Uod"
      },
      "source": [
        "### Check configuration and hardware resources"
      ]
    },
    {
      "cell_type": "code",
      "execution_count": 11,
      "metadata": {
        "colab": {
          "base_uri": "https://localhost:8080/"
        },
        "id": "UlMIdkUVR9-m",
        "outputId": "95b674be-ba3b-450c-ab52-4c59a97b97d3"
      },
      "outputs": [
        {
          "name": "stdout",
          "output_type": "stream",
          "text": [
            "Using TensorFlow: 2.6.0\n",
            "GPU Devices:\n"
          ]
        },
        {
          "data": {
            "text/plain": [
              "[PhysicalDevice(name='/physical_device:GPU:0', device_type='GPU')]"
            ]
          },
          "execution_count": 11,
          "metadata": {},
          "output_type": "execute_result"
        }
      ],
      "source": [
        "import distutils\n",
        "\n",
        "import tensorflow as tf\n",
        "\n",
        "print(f'Using TensorFlow: {tf.__version__}')\n",
        "\n",
        "if distutils.version.LooseVersion(tf.__version__) < '2.0':\n",
        "    raise Exception('This notebook is compatible with TensorFlow 2.0 or higher.')\n",
        "\n",
        "print('GPU Devices:')\n",
        "tf.config.list_physical_devices('GPU')"
      ]
    },
    {
      "cell_type": "markdown",
      "metadata": {
        "id": "GPG7EcPgyr17"
      },
      "source": [
        "# Dataset preprocessing"
      ]
    },
    {
      "cell_type": "markdown",
      "metadata": {
        "id": "2Vxqtd6-9sUJ"
      },
      "source": [
        "### Define all datasets to train our model on"
      ]
    },
    {
      "cell_type": "code",
      "execution_count": 12,
      "metadata": {
        "id": "tZcVSnPAOENt"
      },
      "outputs": [],
      "source": [
        "from pathlib import Path\n",
        "\n",
        "TRAIN_DATASET_DIRS = [\n",
        "    Path('shl-dataset/challenge-2019-user1_torso/train/Torso'),\n",
        "    Path('shl-dataset/challenge-2019-user1_bag/train/Bag'),\n",
        "    Path('shl-dataset/challenge-2019-user1_hips/train/Hips'),\n",
        "    Path('shl-dataset/challenge-2020-user1_hand/train/Hand'),\n",
        "    Path('shl-dataset/challenge-2020-users23_torso_bag_hips_hand/validation/Torso'),         \n",
        "    Path('shl-dataset/challenge-2020-users23_torso_bag_hips_hand/validation/Bag'),   \n",
        "    Path('shl-dataset/challenge-2020-users23_torso_bag_hips_hand/validation/Hips'),   \n",
        "    Path('shl-dataset/challenge-2020-users23_torso_bag_hips_hand/validation/Hand'),   \n",
        "]"
      ]
    },
    {
      "cell_type": "markdown",
      "metadata": {
        "id": "lE-yS6co9rLz"
      },
      "source": [
        "### Define more useful constants about our dataset"
      ]
    },
    {
      "cell_type": "code",
      "execution_count": 13,
      "metadata": {
        "id": "_tYXzJj9OHGo"
      },
      "outputs": [],
      "source": [
        "LABEL_ORDER = [\n",
        "    'Null',\n",
        "    'Still',\n",
        "    'Walking',\n",
        "    'Run',\n",
        "    'Bike',\n",
        "    'Car',\n",
        "    'Bus',\n",
        "    'Train',\n",
        "    'Subway',\n",
        "]\n",
        "\n",
        "SAMPLE_LENGTH = 500"
      ]
    },
    {
      "cell_type": "markdown",
      "metadata": {
        "id": "gQrAFu-q9mOK"
      },
      "source": [
        "### Include weighting results from data analysis"
      ]
    },
    {
      "cell_type": "code",
      "execution_count": 14,
      "metadata": {
        "id": "ypHfmi8ZOR1n"
      },
      "outputs": [],
      "source": [
        "CLASS_WEIGHTS = {\n",
        "    0: 0.0, # NULL label\n",
        "    1: 1.0021671573438011, \n",
        "    2: 0.9985739895697523, \n",
        "    3: 2.8994439843842423, \n",
        "    4: 1.044135815617944, \n",
        "    5: 0.7723505499007343, \n",
        "    6: 0.8652474758172704, \n",
        "    7: 0.7842127155793044, \n",
        "    8: 1.0283208861290594\n",
        "}"
      ]
    },
    {
      "cell_type": "markdown",
      "metadata": {
        "id": "Guog_-4d9jnX"
      },
      "source": [
        "### Define features for our dataset"
      ]
    },
    {
      "cell_type": "code",
      "execution_count": 15,
      "metadata": {
        "id": "WwAPsgtXOW3_"
      },
      "outputs": [],
      "source": [
        "from collections import OrderedDict\n",
        "\n",
        "import numpy as np\n",
        "\n",
        "# Attributes to load from our dataset\n",
        "X_attributes = [\n",
        "    'acc_x', 'acc_y', 'acc_z',\n",
        "    'mag_x', 'mag_y', 'mag_z',\n",
        "    'gyr_x', 'gyr_y', 'gyr_z',\n",
        "    # Parts that are not needed:\n",
        "    # 'gra_x', 'gra_y', 'gra_z',\n",
        "    # 'lacc_x', 'lacc_y', 'lacc_z',\n",
        "    # 'ori_x', 'ori_y', 'ori_z', 'ori_w',\n",
        "]\n",
        "\n",
        "# Files within the dataset that contain our attributes\n",
        "X_files = [\n",
        "    'Acc_x.txt', 'Acc_y.txt', 'Acc_z.txt',\n",
        "    'Mag_x.txt', 'Mag_y.txt', 'Mag_z.txt',\n",
        "    'Gyr_x.txt', 'Gyr_y.txt', 'Gyr_z.txt',\n",
        "    # Parts that are not needed:\n",
        "    # 'Gra_x.txt', 'Gra_y.txt', 'Gra_z.txt',\n",
        "    # 'LAcc_x.txt', 'LAcc_y.txt', 'LAcc_z.txt',\n",
        "    # 'Ori_x.txt', 'Ori_y.txt', 'Ori_z.txt', 'Ori_w.txt',\n",
        "]\n",
        "\n",
        "# Features to generate from our loaded attributes\n",
        "# Note that `a` is going to be a dict of attribute tracks\n",
        "X_features = OrderedDict({\n",
        "    'acc_mag': lambda a: np.sqrt(a['acc_x']**2 + a['acc_y']**2 + a['acc_z']**2),\n",
        "    'mag_mag': lambda a: np.sqrt(a['mag_x']**2 + a['mag_y']**2 + a['mag_z']**2),\n",
        "    'gyr_mag': lambda a: np.sqrt(a['gyr_x']**2 + a['gyr_y']**2 + a['gyr_z']**2),\n",
        "})\n",
        "\n",
        "# Define where to find our labels for supervised learning\n",
        "y_file = 'Label.txt'\n",
        "y_attribute = 'labels'"
      ]
    },
    {
      "cell_type": "markdown",
      "metadata": {
        "id": "whIoawqu9hFu"
      },
      "source": [
        "### Load pretrained power transformers for feature scaling"
      ]
    },
    {
      "cell_type": "code",
      "execution_count": 16,
      "metadata": {
        "colab": {
          "base_uri": "https://localhost:8080/"
        },
        "id": "HzV0cHfZRmUh",
        "outputId": "83f28b6c-4917-4a83-b52a-163f610d199f"
      },
      "outputs": [
        {
          "name": "stdout",
          "output_type": "stream",
          "text": [
            "Loaded scaler from models/shl-scalers/acc_mag.scaler.joblib.\n",
            "Loaded scaler from models/shl-scalers/mag_mag.scaler.joblib.\n",
            "Loaded scaler from models/shl-scalers/gyr_mag.scaler.joblib.\n"
          ]
        },
        {
          "name": "stderr",
          "output_type": "stream",
          "text": [
            "/usr/local/lib/python3.7/dist-packages/sklearn/base.py:318: UserWarning: Trying to unpickle estimator StandardScaler from version 0.24.2 when using version 0.22.2.post1. This might lead to breaking code or invalid results. Use at your own risk.\n",
            "  UserWarning)\n",
            "/usr/local/lib/python3.7/dist-packages/sklearn/base.py:318: UserWarning: Trying to unpickle estimator PowerTransformer from version 0.24.2 when using version 0.22.2.post1. This might lead to breaking code or invalid results. Use at your own risk.\n",
            "  UserWarning)\n"
          ]
        }
      ],
      "source": [
        "import joblib\n",
        "\n",
        "X_feature_scalers = OrderedDict({})\n",
        "for feature_name, _ in X_features.items():\n",
        "    scaler_dir = f'models/shl-scalers/{feature_name}.scaler.joblib'\n",
        "    scaler = joblib.load(scaler_dir)\n",
        "    scaler.copy = False # Save memory\n",
        "    X_feature_scalers[feature_name] = scaler\n",
        "    print(f'Loaded scaler from {scaler_dir}.')"
      ]
    },
    {
      "cell_type": "markdown",
      "metadata": {
        "id": "AzXNgCJo9f5h"
      },
      "source": [
        "### Export our scalers to mobile for later use"
      ]
    },
    {
      "cell_type": "code",
      "execution_count": 17,
      "metadata": {
        "id": "O8iQjqQr55t1"
      },
      "outputs": [],
      "source": [
        "import json\n",
        "\n",
        "for feature_name, scaler in X_feature_scalers.items():\n",
        "    with open(f'models/shl-scalers/{feature_name}.scaler.json', 'w') as f:\n",
        "        f.write(json.dumps({\n",
        "            'lambdas': scaler.lambdas_.tolist(),\n",
        "            'means': scaler._scaler.mean_.tolist(),\n",
        "            'scales': scaler._scaler.scale_.tolist(),\n",
        "        }))"
      ]
    },
    {
      "cell_type": "markdown",
      "metadata": {
        "id": "AH6SL1eY9dB3"
      },
      "source": [
        "### Load the training and validation data into a high performance datatype"
      ]
    },
    {
      "cell_type": "code",
      "execution_count": 18,
      "metadata": {
        "colab": {
          "base_uri": "https://localhost:8080/"
        },
        "id": "aL_r8kxvWrtE",
        "outputId": "a745027b-4d9c-44bb-f624-70d52dc98900"
      },
      "outputs": [
        {
          "name": "stdout",
          "output_type": "stream",
          "text": [
            "Exporting to shl-dataset/challenge-2019-user1_torso/train/Torso.tfrecord.\n"
          ]
        },
        {
          "name": "stderr",
          "output_type": "stream",
          "text": [
            "Counting samples in shl-dataset/challenge-2019-user1_torso/train/Torso: 196072it [00:02, 77911.80it/s]\n",
            "Reading samples to shl-dataset/challenge-2019-user1_torso/train/Torso.tfrecord: 100%|█████████▉| 196064/196072 [04:11<00:00, 780.05it/s]\n"
          ]
        },
        {
          "name": "stdout",
          "output_type": "stream",
          "text": [
            "Exporting to shl-dataset/challenge-2019-user1_bag/train/Bag.tfrecord.\n"
          ]
        },
        {
          "name": "stderr",
          "output_type": "stream",
          "text": [
            "Counting samples in shl-dataset/challenge-2019-user1_bag/train/Bag: 196072it [00:02, 75025.03it/s]\n",
            "Reading samples to shl-dataset/challenge-2019-user1_bag/train/Bag.tfrecord: 100%|█████████▉| 196064/196072 [04:19<00:00, 754.99it/s]\n"
          ]
        },
        {
          "name": "stdout",
          "output_type": "stream",
          "text": [
            "Exporting to shl-dataset/challenge-2019-user1_hips/train/Hips.tfrecord.\n"
          ]
        },
        {
          "name": "stderr",
          "output_type": "stream",
          "text": [
            "Counting samples in shl-dataset/challenge-2019-user1_hips/train/Hips: 196072it [00:02, 78048.23it/s]\n",
            "Reading samples to shl-dataset/challenge-2019-user1_hips/train/Hips.tfrecord: 100%|█████████▉| 196064/196072 [04:23<00:00, 744.53it/s]\n"
          ]
        },
        {
          "name": "stdout",
          "output_type": "stream",
          "text": [
            "Exporting to shl-dataset/challenge-2020-user1_hand/train/Hand.tfrecord.\n"
          ]
        },
        {
          "name": "stderr",
          "output_type": "stream",
          "text": [
            "Counting samples in shl-dataset/challenge-2020-user1_hand/train/Hand: 196072it [00:02, 77949.57it/s]\n",
            "Reading samples to shl-dataset/challenge-2020-user1_hand/train/Hand.tfrecord: 100%|█████████▉| 196064/196072 [04:22<00:00, 747.12it/s]\n"
          ]
        },
        {
          "name": "stdout",
          "output_type": "stream",
          "text": [
            "Exporting to shl-dataset/challenge-2020-users23_torso_bag_hips_hand/validation/Torso.tfrecord.\n"
          ]
        },
        {
          "name": "stderr",
          "output_type": "stream",
          "text": [
            "Counting samples in shl-dataset/challenge-2020-users23_torso_bag_hips_hand/validation/Torso: 28789it [00:00, 87949.88it/s]\n",
            "Reading samples to shl-dataset/challenge-2020-users23_torso_bag_hips_hand/validation/Torso.tfrecord: 100%|█████████▉| 28784/28789 [00:42<00:00, 679.74it/s]\n"
          ]
        },
        {
          "name": "stdout",
          "output_type": "stream",
          "text": [
            "Exporting to shl-dataset/challenge-2020-users23_torso_bag_hips_hand/validation/Bag.tfrecord.\n"
          ]
        },
        {
          "name": "stderr",
          "output_type": "stream",
          "text": [
            "Counting samples in shl-dataset/challenge-2020-users23_torso_bag_hips_hand/validation/Bag: 28789it [00:00, 90318.73it/s]\n",
            "Reading samples to shl-dataset/challenge-2020-users23_torso_bag_hips_hand/validation/Bag.tfrecord: 100%|█████████▉| 28784/28789 [00:42<00:00, 671.43it/s]\n"
          ]
        },
        {
          "name": "stdout",
          "output_type": "stream",
          "text": [
            "Exporting to shl-dataset/challenge-2020-users23_torso_bag_hips_hand/validation/Hips.tfrecord.\n"
          ]
        },
        {
          "name": "stderr",
          "output_type": "stream",
          "text": [
            "Counting samples in shl-dataset/challenge-2020-users23_torso_bag_hips_hand/validation/Hips: 28789it [00:00, 89964.77it/s]\n",
            "Reading samples to shl-dataset/challenge-2020-users23_torso_bag_hips_hand/validation/Hips.tfrecord: 100%|█████████▉| 28784/28789 [00:42<00:00, 676.47it/s]\n"
          ]
        },
        {
          "name": "stdout",
          "output_type": "stream",
          "text": [
            "Exporting to shl-dataset/challenge-2020-users23_torso_bag_hips_hand/validation/Hand.tfrecord.\n"
          ]
        },
        {
          "name": "stderr",
          "output_type": "stream",
          "text": [
            "Counting samples in shl-dataset/challenge-2020-users23_torso_bag_hips_hand/validation/Hand: 28789it [00:00, 90385.52it/s]\n",
            "Reading samples to shl-dataset/challenge-2020-users23_torso_bag_hips_hand/validation/Hand.tfrecord: 100%|█████████▉| 28784/28789 [00:42<00:00, 673.45it/s]\n"
          ]
        }
      ],
      "source": [
        "import os\n",
        "import shutil\n",
        "\n",
        "from typing import Generator, List, Tuple\n",
        "\n",
        "from tqdm import tqdm\n",
        "\n",
        "import pandas as pd\n",
        "\n",
        "def read_chunks(\n",
        "    n_chunks: int, \n",
        "    X_attr_readers: List[pd.io.parsers.TextFileReader], \n",
        "    y_attr_reader: pd.io.parsers.TextFileReader\n",
        ") -> Generator[Tuple[np.ndarray, np.ndarray], None, None]:\n",
        "    \"\"\"\n",
        "    Read chunks of attribute data and yield it to the caller as tuples of X, y.\n",
        "    \n",
        "    This function returns a generator which can be iterated.\n",
        "    \"\"\"\n",
        "    for _ in range(n_chunks):\n",
        "        # Load raw attribute tracks\n",
        "        X_raw_attrs = OrderedDict({})\n",
        "        for X_attribute, X_attr_reader in zip(X_attributes, X_attr_readers):\n",
        "            X_attr_track = next(X_attr_reader)\n",
        "            X_attr_track = np.nan_to_num(X_attr_track.to_numpy())\n",
        "            X_raw_attrs[X_attribute] = X_attr_track\n",
        "\n",
        "        # Calculate features\n",
        "        X_feature_tracks = None\n",
        "        for X_feature_name, X_feature_func in X_features.items():\n",
        "            X_feature_track = X_feature_func(X_raw_attrs)\n",
        "            X_feature_track = X_feature_scalers[X_feature_name] \\\n",
        "                .transform(X_feature_track)\n",
        "            if X_feature_tracks is None:\n",
        "                X_feature_tracks = X_feature_track\n",
        "            else:\n",
        "                X_feature_tracks = np.dstack((X_feature_tracks, X_feature_track))\n",
        "\n",
        "        # Load labels\n",
        "        y_attr_track = next(y_attr_reader) # dim (None, sample_length)\n",
        "        y_attr_track = np.nan_to_num(y_attr_track.to_numpy()) # dim (None, sample_length)\n",
        "        y_attr_track = y_attr_track[:, 0] # dim (None, 1)\n",
        "\n",
        "        yield X_feature_tracks, y_attr_track\n",
        "\n",
        "def count_samples(dataset_dir: Path) -> int:\n",
        "    \"\"\"Count the total amount of samples in a shl dataset.\"\"\"\n",
        "    n_samples = 0\n",
        "    # Every file in the dataset has the same length, use the labels file\n",
        "    with open(dataset_dir / y_file) as f:\n",
        "        for _ in tqdm(f, desc=f'Counting samples in {dataset_dir}'):\n",
        "            n_samples += 1\n",
        "    return n_samples\n",
        "\n",
        "def create_chunked_readers(\n",
        "    dataset_dir: Path,\n",
        "    chunksize: int, \n",
        "    xdtype=np.float32, # Use np.float16 with caution, can lead to overflows\n",
        "    ydtype=np.int\n",
        ") -> Tuple[List[pd.io.parsers.TextFileReader], pd.io.parsers.TextFileReader]:\n",
        "    \"\"\"Initialize chunked csv readers and return them to the caller as a tuple.\"\"\"\n",
        "    read_csv_kwargs = { 'sep': ' ', 'header': None, 'chunksize': chunksize }\n",
        "\n",
        "    X_attr_readers = [] # (dim datasets x readers)\n",
        "    for filename in X_files:\n",
        "        X_reader = pd.read_csv(dataset_dir / filename, dtype=xdtype, **read_csv_kwargs)\n",
        "        X_attr_readers.append(X_reader)\n",
        "    y_attr_reader = pd.read_csv(dataset_dir / y_file, dtype=ydtype, **read_csv_kwargs)\n",
        "\n",
        "    return X_attr_readers, y_attr_reader\n",
        "\n",
        "def export_tfrecords(\n",
        "    dataset_dir: Path,\n",
        "    n_chunks=16, # Load dataset in parts to not overload memory\n",
        "):\n",
        "    \"\"\"Transform the given shl dataset into a memory efficient TFRecord.\"\"\"\n",
        "    target_dir = f'{dataset_dir}.tfrecord'\n",
        "    if os.path.isfile(target_dir):\n",
        "        print(f'{target_dir} already exists.')\n",
        "        return\n",
        "\n",
        "    print(f'Exporting to {target_dir}.')\n",
        "\n",
        "    n_samples = count_samples(dataset_dir)\n",
        "    chunksize = int(np.floor(n_samples / n_chunks))\n",
        "    X_attr_readers, y_attr_reader = create_chunked_readers(dataset_dir, chunksize)    \n",
        "\n",
        "    with tf.io.TFRecordWriter(str(target_dir)) as file_writer:\n",
        "        with tqdm(total=n_samples, desc=f'Reading samples to {target_dir}') as pbar:\n",
        "            for X_feature_tracks, y_attr_track in read_chunks(\n",
        "                n_chunks, X_attr_readers, y_attr_reader\n",
        "            ):\n",
        "                for X, y in zip(X_feature_tracks, y_attr_track):\n",
        "                    X_flat = X.flatten() # TFRecords don't support multidimensional arrays\n",
        "                    record_bytes = tf.train.Example(features=tf.train.Features(feature={\n",
        "                        'X': tf.train.Feature(float_list=tf.train.FloatList(value=X_flat)),\n",
        "                        'y': tf.train.Feature(int64_list=tf.train.Int64List(value=[y])) \n",
        "                    })).SerializeToString()\n",
        "                    file_writer.write(record_bytes)\n",
        "                pbar.update(chunksize)\n",
        "\n",
        "for dataset_dir in TRAIN_DATASET_DIRS:\n",
        "    export_tfrecords(dataset_dir)"
      ]
    },
    {
      "cell_type": "markdown",
      "metadata": {
        "id": "mc8Ss-CN9WjV"
      },
      "source": [
        "### Load the TFRecord files into iterable dataset proxies"
      ]
    },
    {
      "cell_type": "code",
      "execution_count": 19,
      "metadata": {
        "colab": {
          "base_uri": "https://localhost:8080/"
        },
        "id": "weYDZUofD4TD",
        "outputId": "f6193d6c-8759-4183-9b7e-a3092dd77a87"
      },
      "outputs": [
        {
          "name": "stdout",
          "output_type": "stream",
          "text": [
            "Creating train and validation dataset over ['shl-dataset/challenge-2019-user1_torso/train/Torso.tfrecord', 'shl-dataset/challenge-2019-user1_bag/train/Bag.tfrecord', 'shl-dataset/challenge-2019-user1_hips/train/Hips.tfrecord', 'shl-dataset/challenge-2020-user1_hand/train/Hand.tfrecord', 'shl-dataset/challenge-2020-users23_torso_bag_hips_hand/validation/Torso.tfrecord', 'shl-dataset/challenge-2020-users23_torso_bag_hips_hand/validation/Bag.tfrecord', 'shl-dataset/challenge-2020-users23_torso_bag_hips_hand/validation/Hips.tfrecord', 'shl-dataset/challenge-2020-users23_torso_bag_hips_hand/validation/Hand.tfrecord'].\n",
            "Counted 899392 samples in combined dataset.\n",
            "Counted 44992 samples in validation dataset.\n",
            "Counted 854400 samples in train dataset.\n"
          ]
        }
      ],
      "source": [
        "def decode_tfrecord(record_bytes) -> Tuple[tf.Tensor, tf.Tensor]:\n",
        "    \"\"\"Decode a TFRecord example to X, y from its serialized representation.\"\"\"\n",
        "    example = tf.io.parse_single_example(record_bytes, {\n",
        "        'X': tf.io.FixedLenFeature([SAMPLE_LENGTH, len(X_features)], tf.float32),\n",
        "        'y': tf.io.FixedLenFeature([1], tf.int64)\n",
        "    })\n",
        "    return example['X'], example['y']\n",
        "\n",
        "def create_train_validation_datasets(\n",
        "    dataset_dirs: List[Path], \n",
        "    batch_size=64, # 128 can lead to GPU OOM crashes\n",
        "    shuffle_size=0.1, # Part of the dataset to keep in memory while shuffling\n",
        "    validation_size=0.05 # Part of the dataset to use for validation\n",
        ") -> Tuple[tf.data.Dataset, tf.data.Dataset]:\n",
        "    \"\"\"\n",
        "    Create interleaved, shuffled and batched train and \n",
        "    validation datasets from the dataset dirs.\n",
        "    \n",
        "    Note that this function reads previously generated TFRecords under \n",
        "    `dataset_dir.tfrecord` -> use `export_tfrecords` for that.\n",
        "    \"\"\"\n",
        "    tfrecord_dirs = [f'{d}.tfrecord' for d in dataset_dirs]\n",
        "    print(f'Creating train and validation dataset over {tfrecord_dirs}.')\n",
        "\n",
        "    # Create a strategy to interleave the datasets\n",
        "    dataset = tf.data.Dataset.from_tensor_slices(tfrecord_dirs)\n",
        "    # Combine the partial datasets\n",
        "    dataset = dataset.interleave(\n",
        "        lambda x: tf.data.TFRecordDataset(x), \n",
        "        cycle_length=batch_size, # Number of input elements that are processed concurrently\n",
        "        block_length=1 # Return only one element at a time, batching is done later\n",
        "    )\n",
        "    sample_count = sum(1 for _ in dataset)\n",
        "    print(f'Counted {sample_count} samples in combined dataset.')\n",
        "\n",
        "    # Shuffle the dataset, but only once to avoid train-test-overlaps\n",
        "    shuffle_shard_size = int(np.floor(sample_count * shuffle_size))\n",
        "    dataset = dataset.shuffle(shuffle_shard_size, reshuffle_each_iteration=False)\n",
        "    # Decode the dataset and distribute the calls across the available cpus\n",
        "    dataset = dataset.map(decode_tfrecord, num_parallel_calls=tf.data.AUTOTUNE)\n",
        "    # Split the dataset into batches\n",
        "    dataset = dataset.batch(batch_size)\n",
        "\n",
        "    # Every 1 / validation_size batch becomes a validation batch\n",
        "    validation_modulus = int(np.floor(1.0 / validation_size))\n",
        "\n",
        "    validation_dataset = dataset.enumerate()\n",
        "    validation_dataset = validation_dataset.filter(lambda i, batch: i % validation_modulus == 0)\n",
        "    validation_dataset = validation_dataset.map(lambda i, batch: batch)\n",
        "    print(f'Counted {sum(1 for _ in validation_dataset) * batch_size} samples in validation dataset.')\n",
        "\n",
        "    train_dataset = dataset.enumerate()\n",
        "    train_dataset = train_dataset.filter(lambda i, batch: i % validation_modulus != 0)\n",
        "    train_dataset = train_dataset.map(lambda i, batch: batch)\n",
        "    print(f'Counted {sum(1 for _ in train_dataset) * batch_size} samples in train dataset.')\n",
        "\n",
        "    return train_dataset, validation_dataset\n",
        "\n",
        "train_dataset, validation_dataset = create_train_validation_datasets(TRAIN_DATASET_DIRS)"
      ]
    },
    {
      "cell_type": "markdown",
      "metadata": {
        "id": "q_XrWfnWApRI"
      },
      "source": [
        "### Visualize the Data\n",
        "\n",
        "This part is entirely optional and just to check if the data is somehow malformed to be sure no mistakes were made during preprocessing."
      ]
    },
    {
      "cell_type": "code",
      "execution_count": 43,
      "metadata": {
        "colab": {
          "base_uri": "https://localhost:8080/",
          "height": 873
        },
        "id": "xQeDpc1eArfU",
        "outputId": "6ebe13f9-eb0b-4e05-f52f-f70afd1896e3"
      },
      "outputs": [
        {
          "data": {
            "image/png": "[encoded data removed]",
            "text/plain": [
              "<Figure size 720x864 with 27 Axes>"
            ]
          },
          "metadata": {
            "needs_background": "light"
          },
          "output_type": "display_data"
        }
      ],
      "source": [
        "from matplotlib import pyplot as plt\n",
        "from google.colab.files import download\n",
        "\n",
        "fig, axs = plt.subplots(len(LABEL_ORDER), 3)\n",
        "fig.set_size_inches(10, 12)\n",
        "\n",
        "val_iter = iter(validation_dataset)\n",
        "for i in range(4):\n",
        "    X_batch, y_batch = next(val_iter)\n",
        "\n",
        "    for X, y in zip(X_batch, y_batch):\n",
        "        axs[y[0], 0].plot(X.numpy()[:, 0], color=(0, 0, 0, 0.2))\n",
        "        axs[y[0], 1].plot(X.numpy()[:, 1], color=(0, 0, 0, 0.2))\n",
        "        axs[y[0], 2].plot(X.numpy()[:, 2], color=(0, 0, 0, 0.2))\n",
        "\n",
        "for i, label in enumerate(LABEL_ORDER):\n",
        "    axs[i, 1].set_title(label)\n",
        "\n",
        "plt.tight_layout()\n",
        "plt.savefig(\n",
        "    f'../images/shl/preprocessed-features.pdf',\n",
        "    dpi=1200,\n",
        "    bbox_inches='tight'\n",
        ")"
      ]
    },
    {
      "cell_type": "code",
      "execution_count": 44,
      "metadata": {
        "colab": {
          "base_uri": "https://localhost:8080/",
          "height": 16
        },
        "id": "0tYRvmofVUZ-",
        "outputId": "0a1eac23-a6de-41cd-8fbf-def4d1c6e697"
      },
      "outputs": [
        {
          "data": {
            "application/javascript": "\n    async function download(id, filename, size) {\n      if (!google.colab.kernel.accessAllowed) {\n        return;\n      }\n      const div = document.createElement('div');\n      const label = document.createElement('label');\n      label.textContent = `Downloading \"${filename}\": `;\n      div.appendChild(label);\n      const progress = document.createElement('progress');\n      progress.max = size;\n      div.appendChild(progress);\n      document.body.appendChild(div);\n\n      const buffers = [];\n      let downloaded = 0;\n\n      const channel = await google.colab.kernel.comms.open(id);\n      // Send a message to notify the kernel that we're ready.\n      channel.send({})\n\n      for await (const message of channel.messages) {\n        // Send a message to notify the kernel that we're ready.\n        channel.send({})\n        if (message.buffers) {\n          for (const buffer of message.buffers) {\n            buffers.push(buffer);\n            downloaded += buffer.byteLength;\n            progress.value = downloaded;\n          }\n        }\n      }\n      const blob = new Blob(buffers, {type: 'application/binary'});\n      const a = document.createElement('a');\n      a.href = window.URL.createObjectURL(blob);\n      a.download = filename;\n      div.appendChild(a);\n      a.click();\n      div.remove();\n    }\n  ",
            "text/plain": [
              "<IPython.core.display.Javascript object>"
            ]
          },
          "metadata": {},
          "output_type": "display_data"
        },
        {
          "data": {
            "application/javascript": "download(\"download_5ed5b2ef-26b9-44c8-9fee-8d7c84148980\", \"preprocessed-features.pdf\", 1667626)",
            "text/plain": [
              "<IPython.core.display.Javascript object>"
            ]
          },
          "metadata": {},
          "output_type": "display_data"
        }
      ],
      "source": [
        "download('../images/shl/preprocessed-features.pdf')"
      ]
    },
    {
      "cell_type": "markdown",
      "metadata": {
        "id": "m4Z5YjUuymu9"
      },
      "source": [
        "# Model definition"
      ]
    },
    {
      "cell_type": "markdown",
      "metadata": {
        "id": "-JQ0M2Hv9PHg"
      },
      "source": [
        "### Install the gridsearch framework"
      ]
    },
    {
      "cell_type": "code",
      "execution_count": 20,
      "metadata": {
        "colab": {
          "base_uri": "https://localhost:8080/"
        },
        "id": "WXmk4SKK_LCF",
        "outputId": "c9f1f9d7-8a04-42db-ba50-8378a9c96d19"
      },
      "outputs": [
        {
          "name": "stdout",
          "output_type": "stream",
          "text": [
            "\u001b[?25l\r\u001b[K     |███▍                            | 10 kB 34.7 MB/s eta 0:00:01\r\u001b[K     |██████▊                         | 20 kB 6.3 MB/s eta 0:00:01\r\u001b[K     |██████████                      | 30 kB 8.1 MB/s eta 0:00:01\r\u001b[K     |█████████████▍                  | 40 kB 7.7 MB/s eta 0:00:01\r\u001b[K     |████████████████▊               | 51 kB 4.1 MB/s eta 0:00:01\r\u001b[K     |████████████████████            | 61 kB 4.4 MB/s eta 0:00:01\r\u001b[K     |███████████████████████▍        | 71 kB 4.6 MB/s eta 0:00:01\r\u001b[K     |██████████████████████████▊     | 81 kB 5.2 MB/s eta 0:00:01\r\u001b[K     |██████████████████████████████▏ | 92 kB 5.3 MB/s eta 0:00:01\r\u001b[K     |████████████████████████████████| 97 kB 3.4 MB/s \n",
            "\u001b[?25h"
          ]
        }
      ],
      "source": [
        "import sys\n",
        "\n",
        "!{sys.executable} -m pip install keras-tuner -q"
      ]
    },
    {
      "cell_type": "markdown",
      "metadata": {
        "id": "4oK-UDql9J0i"
      },
      "source": [
        "### Define a custom hyperband tuner"
      ]
    },
    {
      "cell_type": "code",
      "execution_count": 22,
      "metadata": {
        "id": "D3dP3vAlxe9r"
      },
      "outputs": [],
      "source": [
        "import os\n",
        "import tempfile\n",
        "\n",
        "from datetime import datetime\n",
        "\n",
        "from keras_tuner import Hyperband\n",
        "from keras_tuner.engine import hypermodel as hm_module\n",
        "from keras_tuner.engine.logger import Logger\n",
        "\n",
        "class Tuner(Hyperband):\n",
        "    \"\"\"\n",
        "    A custom hyperband tuner.\n",
        "    \"\"\"\n",
        "    def __init__(self, gridsearch_dir: Path, log_dir: Path, *init_args, **init_kwargs):\n",
        "        self.gridsearch_dir = gridsearch_dir\n",
        "        self.log_dir = log_dir\n",
        "        super().__init__(*init_args, **init_kwargs)\n",
        "\n",
        "    def run_trial(self, trial, *fit_args, **fit_kwargs):\n",
        "        \"\"\"\n",
        "        Zip our progress and save to Google Drive every time a trial is run.\n",
        "        \"\"\"\n",
        "        datestr = datetime.today().strftime('%Y-%m-%d')\n",
        "        if os.path.isdir(self.gridsearch_dir):\n",
        "            with tempfile.TemporaryDirectory() as tempdir:\n",
        "                # Save gridsearch progress\n",
        "                files_to_ignore = shutil.ignore_patterns('checkpoints*')\n",
        "                shutil.copytree(self.gridsearch_dir, f'{tempdir}/gridsearch', ignore=files_to_ignore)\n",
        "                shutil.make_archive(f'{tempdir}/gridsearch', 'zip', f'{tempdir}/gridsearch')\n",
        "                shutil.copyfile(f'{tempdir}/gridsearch.zip', f'/content/drive/MyDrive/gridsearch-{datestr}.zip')\n",
        "        if os.path.isdir(self.log_dir):\n",
        "            with tempfile.TemporaryDirectory() as tempdir:\n",
        "                # Save TensorFlow logs\n",
        "                shutil.copytree(self.log_dir, f'{tempdir}/logs')\n",
        "                shutil.make_archive(f'{tempdir}/logs', 'zip', f'{tempdir}/logs')\n",
        "                shutil.copyfile(f'{tempdir}/logs.zip', f'/content/drive/MyDrive/logs-{datestr}.zip')\n",
        "        super().run_trial(trial, *fit_args, **fit_kwargs)"
      ]
    },
    {
      "cell_type": "markdown",
      "metadata": {
        "id": "S9Dt52u-9Eo-"
      },
      "source": [
        "### Load and import model definition packages"
      ]
    },
    {
      "cell_type": "code",
      "execution_count": 23,
      "metadata": {
        "id": "U302m77jRPO6"
      },
      "outputs": [],
      "source": [
        "!{sys.executable} -m pip install kapre -q"
      ]
    },
    {
      "cell_type": "code",
      "execution_count": 24,
      "metadata": {
        "id": "19DAjiwzb4US"
      },
      "outputs": [],
      "source": [
        "import tensorflow as tf\n",
        "import tensorflow.keras as keras\n",
        "from tensorflow.keras import backend\n",
        "from tensorflow.keras import layers\n",
        "\n",
        "from keras_tuner import HyperParameters, HyperModel"
      ]
    },
    {
      "cell_type": "markdown",
      "metadata": {
        "id": "OORdhCny9AF3"
      },
      "source": [
        "### Define generic helpers that will help us to take 2d and 1d ResNet inputs"
      ]
    },
    {
      "cell_type": "code",
      "execution_count": 25,
      "metadata": {
        "id": "CPmY9EFURweY"
      },
      "outputs": [],
      "source": [
        "INPUT_DIM_2D = 3 # (width, height, n_channels)\n",
        "INPUT_DIM_1D = 2 # (n_timesteps, n_features)\n",
        "\n",
        "def generic_zero_padding(input_dim: int, padding: int, *layer_args, **layer_kwargs) -> layers.Layer:\n",
        "    if input_dim == INPUT_DIM_2D:\n",
        "        padding_2d = ((padding, padding), (padding, padding))\n",
        "        return layers.ZeroPadding2D(padding_2d, *layer_args, **layer_kwargs)\n",
        "    elif input_dim == INPUT_DIM_1D:\n",
        "        padding_1d = padding\n",
        "        return layers.ZeroPadding1D(padding_1d, *layer_args, **layer_kwargs)\n",
        "    else:\n",
        "        raise ValueError(f'Unsupported zero padding dimension: {input_dim}')\n",
        "\n",
        "def generic_batch_norm(input_dim: int, *layer_args, **layer_kwargs) -> layers.Layer:\n",
        "    if input_dim == INPUT_DIM_2D:\n",
        "        bn_axis = 3 if backend.image_data_format() == 'channels_last' else 1\n",
        "    elif input_dim == INPUT_DIM_1D:\n",
        "        bn_axis = 2\n",
        "    else:\n",
        "        raise ValueError(f'Unsupported batchnorm dimension: {input_dim}')\n",
        "    return layers.BatchNormalization(bn_axis, *layer_args, **layer_kwargs)\n",
        "\n",
        "def _generic_layer(input_dim: int, dim_1d_proto, dim_2d_proto, *layer_args, **layer_kwargs) -> layers.Layer:\n",
        "    if input_dim == INPUT_DIM_2D:\n",
        "        return dim_2d_proto(*layer_args, **layer_kwargs)\n",
        "    elif input_dim == INPUT_DIM_1D:\n",
        "        return dim_1d_proto(*layer_args, **layer_kwargs)\n",
        "    else:\n",
        "        raise ValueError(f'Unsupported dimension: {input_dim}')\n",
        "\n",
        "def generic_conv(input_dim: int, separable=False, *layer_args, **layer_kwargs) -> layers.Layer:\n",
        "    if separable:\n",
        "        return _generic_layer(input_dim, layers.SeparableConv1D, layers.SeparableConv2D, *layer_args, **layer_kwargs)\n",
        "    return _generic_layer(input_dim, layers.Conv1D, layers.Conv2D, *layer_args, **layer_kwargs)\n",
        "\n",
        "def generic_max_pool(input_dim: int, *layer_args, **layer_kwargs) -> layers.Layer:\n",
        "    return _generic_layer(input_dim, layers.MaxPooling1D, layers.MaxPooling2D, *layer_args, **layer_kwargs)\n",
        "\n",
        "def generic_global_avg_pool(input_dim: int, *layer_args, **layer_kwargs) -> layers.Layer:\n",
        "    return _generic_layer(input_dim, layers.GlobalAveragePooling1D, layers.GlobalAveragePooling2D, *layer_args, **layer_kwargs)\n",
        "\n",
        "def generic_global_max_pool(input_dim: int, *layer_args, **layer_kwargs) -> layers.Layer:\n",
        "    return _generic_layer(input_dim, layers.GlobalMaxPooling1D, layers.GlobalMaxPooling2D, *layer_args, **layer_kwargs)"
      ]
    },
    {
      "cell_type": "markdown",
      "metadata": {
        "id": "oKrj1_pg88MT"
      },
      "source": [
        "### Define ResNetV1 blocks and stacks\n",
        "See https://arxiv.org/abs/1512.03385"
      ]
    },
    {
      "cell_type": "code",
      "execution_count": 26,
      "metadata": {
        "id": "jZLPPLIabtTP"
      },
      "outputs": [],
      "source": [
        "def block1(input_dim, x, filters, kernel_size=3, stride=1, conv_shortcut=True, name=None, separable=False):\n",
        "    \"\"\"\n",
        "    A ResNetV1 residual block.\n",
        "\n",
        "    The code of this function is partially based on https://github.com/keras-team/keras-tuner\n",
        "    which is licensed under Apache License 2.0, see https://www.apache.org/licenses/LICENSE-2.0\n",
        "    \"\"\"\n",
        "    if conv_shortcut is True:\n",
        "        shortcut = generic_conv(input_dim, separable, 4 * filters, 1, strides=stride, name=name + '_0_conv')(x)\n",
        "        shortcut = generic_batch_norm(input_dim, epsilon=1.001e-5, name=name + '_0_bn')(shortcut)\n",
        "    else:\n",
        "        shortcut = x\n",
        "\n",
        "    x = generic_conv(input_dim, separable, filters, 1, strides=stride, name=name + '_1_conv')(x)\n",
        "    x = generic_batch_norm(input_dim, epsilon=1.001e-5, name=name + '_1_bn')(x)\n",
        "    x = layers.Activation('relu', name=name + '_1_relu')(x)\n",
        "\n",
        "    x = generic_conv(input_dim, separable, filters, kernel_size, padding='same', name=name + '_2_conv')(x)\n",
        "    x = generic_batch_norm(input_dim, epsilon=1.001e-5, name=name + '_2_bn')(x)\n",
        "    x = layers.Activation('relu', name=name + '_2_relu')(x)\n",
        "\n",
        "    x = generic_conv(input_dim, separable, 4 * filters, 1, name=name + '_3_conv')(x)\n",
        "    x = generic_batch_norm(input_dim, epsilon=1.001e-5, name=name + '_3_bn')(x)\n",
        "\n",
        "    x = layers.Add(name=name + '_add')([shortcut, x])\n",
        "    x = layers.Activation('relu', name=name + '_out')(x)\n",
        "    return x\n",
        "\n",
        "def stack1(input_dim, x, filters, blocks, stride1=2, name=None, separable=False):\n",
        "    \"\"\"\n",
        "    A set of stacked ResNetV1 blocks.\n",
        "\n",
        "    The code of this function is partially based on https://github.com/keras-team/keras-tuner\n",
        "    which is licensed under Apache License 2.0, see https://www.apache.org/licenses/LICENSE-2.0\n",
        "    \"\"\"\n",
        "    x = block1(input_dim, x, filters, stride=stride1, name=name + '_block1', separable=separable)\n",
        "    for i in range(2, blocks + 1):\n",
        "        x = block1(input_dim, x, filters, conv_shortcut=False, name=name + '_block' + str(i), separable=separable)\n",
        "    return x"
      ]
    },
    {
      "cell_type": "markdown",
      "metadata": {
        "id": "9xeMtNb-85Ji"
      },
      "source": [
        "### Define ResNetV2 blocks and stacks\n",
        "\n",
        "See https://arxiv.org/abs/1603.05027"
      ]
    },
    {
      "cell_type": "code",
      "execution_count": 27,
      "metadata": {
        "id": "OsvK33NAdBCr"
      },
      "outputs": [],
      "source": [
        "def block2(input_dim, x, filters, kernel_size=3, stride=1, conv_shortcut=False, name=None, separable=False):\n",
        "    \"\"\"\n",
        "    A residual block.\n",
        "\n",
        "    The code of this function is partially based on https://github.com/keras-team/keras-tuner\n",
        "    which is licensed under Apache License 2.0, see https://www.apache.org/licenses/LICENSE-2.0\n",
        "    \"\"\"\n",
        "    preact = generic_batch_norm(input_dim, epsilon=1.001e-5, name=name + '_preact_bn')(x)\n",
        "    preact = layers.Activation('relu', name=name + '_preact_relu')(preact)\n",
        "\n",
        "    if conv_shortcut is True:\n",
        "        shortcut = generic_conv(input_dim, separable, 4 * filters, 1, strides=stride, name=name + '_0_conv')(preact)\n",
        "    else:\n",
        "        shortcut = generic_max_pool(input_dim, 1, strides=stride)(x) if stride > 1 else x\n",
        "\n",
        "    x = generic_conv(input_dim, separable, filters, 1, strides=1, use_bias=False, name=name + '_1_conv')(preact)\n",
        "    x = generic_batch_norm(input_dim, epsilon=1.001e-5, name=name + '_1_bn')(x)\n",
        "    x = layers.Activation('relu', name=name + '_1_relu')(x)\n",
        "\n",
        "    x = generic_zero_padding(input_dim, padding=1, name=name + '_2_pad')(x)\n",
        "    x = generic_conv(input_dim, separable, filters, kernel_size, strides=stride, use_bias=False, name=name + '_2_conv')(x)\n",
        "    x = generic_batch_norm(input_dim, epsilon=1.001e-5, name=name + '_2_bn')(x)\n",
        "    x = layers.Activation('relu', name=name + '_2_relu')(x)\n",
        "\n",
        "    x = generic_conv(input_dim, separable, 4 * filters, 1, name=name + '_3_conv')(x)\n",
        "    x = layers.Add(name=name + '_out')([shortcut, x])\n",
        "    return x\n",
        "\n",
        "\n",
        "def stack2(input_dim, x, filters, blocks, stride1=2, name=None, separable=False):\n",
        "    \"\"\"\n",
        "    A set of stacked residual blocks.\n",
        "\n",
        "    The code of this function is partially based on https://github.com/keras-team/keras-tuner\n",
        "    which is licensed under Apache License 2.0, see https://www.apache.org/licenses/LICENSE-2.0\n",
        "    \"\"\"\n",
        "    x = block2(input_dim, x, filters, conv_shortcut=True, name=name + '_block1', separable=separable)\n",
        "    for i in range(2, blocks):\n",
        "        x = block2(input_dim, x, filters, name=name + '_block' + str(i), separable=separable)\n",
        "    x = block2(input_dim, x, filters, stride=stride1, name=name + '_block' + str(blocks), separable=separable)\n",
        "    return x"
      ]
    },
    {
      "cell_type": "markdown",
      "metadata": {
        "id": "2sR1hkPt83b3"
      },
      "source": [
        "### Create a combined hypermodel"
      ]
    },
    {
      "cell_type": "code",
      "execution_count": 28,
      "metadata": {
        "id": "sv6pscDnbokt"
      },
      "outputs": [],
      "source": [
        "class HyperResNet(HyperModel):\n",
        "    \"\"\"\n",
        "    A ResNet hypermodel.\n",
        "\n",
        "    The code of this class is partially based on https://github.com/keras-team/keras-tuner\n",
        "    which is licensed under Apache License 2.0, see https://www.apache.org/licenses/LICENSE-2.0\n",
        "    \"\"\"\n",
        "\n",
        "    def __init__(\n",
        "        self,\n",
        "        separable=False,\n",
        "        include_top=True,\n",
        "        input_shape=None,\n",
        "        input_tensor=None,\n",
        "        classes=None,\n",
        "        **kwargs\n",
        "    ):\n",
        "        super().__init__(**kwargs)\n",
        "        if include_top and classes is None:\n",
        "            raise ValueError('You must specify `classes` when ' '`include_top=True`')\n",
        "\n",
        "        if input_shape is None and input_tensor is None:\n",
        "            raise ValueError(\n",
        "                'You must specify either `input_shape` ' 'or `input_tensor`.'\n",
        "            )\n",
        "\n",
        "        self.separable = separable\n",
        "        self.include_top = include_top\n",
        "        self.input_shape = input_shape\n",
        "        self.input_tensor = input_tensor\n",
        "        self.classes = classes\n",
        "    \n",
        "    def _get_input(self):\n",
        "        if self.input_tensor is not None:\n",
        "            inputs = tf.keras.utils.get_source_inputs(self.input_tensor)\n",
        "            input_dim = len(self.input_tensor.get_shape())\n",
        "            x = self.input_tensor\n",
        "        else:\n",
        "            inputs = layers.Input(shape=self.input_shape)\n",
        "            input_dim = len(self.input_shape)\n",
        "            x = inputs\n",
        "        return inputs, input_dim, x\n",
        "\n",
        "    def build(self, hp):\n",
        "        version = hp.Choice('version', ['ResNetV1', 'ResNetV2'], default='ResNetV2')\n",
        "        conv3_depth = hp.Choice('conv3_depth', [4, 8])\n",
        "        conv4_depth = hp.Choice('conv4_depth', [6, 23, 36])\n",
        "        n_stacks = hp.Int('n_stacks', min_value=1, max_value=4, step=1)\n",
        "\n",
        "        # Version-conditional fixed parameters\n",
        "        preact = True if version == 'v2' else False\n",
        "        use_bias = False if version == 'next' else True\n",
        "\n",
        "        # Model definition.\n",
        "        bn_axis = 3 if backend.image_data_format() == 'channels_last' else 1\n",
        "\n",
        "        inputs, input_dim, x = self._get_input()\n",
        "\n",
        "        # Initial conv2d block.\n",
        "        x = generic_zero_padding(input_dim, padding=3, name='conv1_pad')(x)\n",
        "        x = generic_conv(input_dim, self.separable, 64, 7, strides=2, use_bias=use_bias, name='conv1_conv')(x)\n",
        "\n",
        "        if preact is False:\n",
        "            x = generic_batch_norm(input_dim, epsilon=1.001e-5, name='conv1_bn')(x)\n",
        "            x = layers.Activation('relu', name='conv1_relu')(x)\n",
        "        x = generic_zero_padding(input_dim, padding=1, name='pool1_pad')(x)\n",
        "        x = generic_max_pool(input_dim, 3, strides=2, name='pool1_pool')(x)\n",
        "\n",
        "        # Middle hypertunable stack.\n",
        "        if version == 'ResNetV1':\n",
        "            x = stack1(input_dim, x, 64, 3, stride1=1, name='conv2', separable=self.separable)\n",
        "            if n_stacks > 1:\n",
        "                x = stack1(input_dim, x, 128, conv3_depth, name='conv3', separable=self.separable)\n",
        "            if n_stacks > 2:\n",
        "                x = stack1(input_dim, x, 256, conv4_depth, name='conv4', separable=self.separable)\n",
        "            if n_stacks > 3:\n",
        "                x = stack1(input_dim, x, 512, 3, name='conv5', separable=self.separable)\n",
        "        elif version == 'ResNetV2':\n",
        "            x = stack2(input_dim, x, 64, 3, name='conv2', separable=self.separable)\n",
        "            if n_stacks > 1:\n",
        "                x = stack2(input_dim, x, 128, conv3_depth, name='conv3', separable=self.separable)\n",
        "            if n_stacks > 2:\n",
        "                x = stack2(input_dim, x, 256, conv4_depth, name='conv4', separable=self.separable)\n",
        "            if n_stacks > 3:\n",
        "                x = stack2(input_dim, x, 512, 3, stride1=1, name='conv5', separable=self.separable)\n",
        "\n",
        "        # Top of the model.\n",
        "        if preact is True:\n",
        "            x = generic_batch_norm(input_dim, epsilon=1.001e-5, name='post_bn')(x)\n",
        "            x = layers.Activation('relu', name='post_relu')(x)\n",
        "\n",
        "        pooling = hp.Choice('pooling', ['avg', 'max'], default='avg')\n",
        "        if pooling == 'avg':\n",
        "            x = generic_global_avg_pool(input_dim, name='avg_pool')(x)\n",
        "        elif pooling == 'max':\n",
        "            x = generic_global_max_pool(input_dim, name='max_pool')(x)\n",
        "\n",
        "        if self.include_top:\n",
        "            x = layers.Dense(self.classes, activation='softmax', name='probs')(x)\n",
        "            model = keras.Model(inputs, x, name=version)\n",
        "            optimizer_name = hp.Choice('optimizer', ['adam', 'rmsprop', 'sgd'], default='adam')\n",
        "            optimizer = keras.optimizers.get(optimizer_name)\n",
        "            optimizer.learning_rate = hp.Choice('learning_rate', [0.1, 0.01, 0.001], default=0.01)\n",
        "            model.compile(optimizer=optimizer, loss='categorical_crossentropy', metrics=['acc'])\n",
        "            return model\n",
        "        else:\n",
        "            return keras.Model(inputs, x, name=version)"
      ]
    },
    {
      "cell_type": "code",
      "execution_count": 29,
      "metadata": {
        "id": "m-Xd0mWdi5ri"
      },
      "outputs": [],
      "source": [
        "import kapre\n",
        "\n",
        "from tensorflow.keras import layers, models, optimizers\n",
        "\n",
        "def combined_hypermodel(hp: HyperParameters, train=True, separable=False) -> models.Model:\n",
        "    \"\"\"\n",
        "    Make a combined resnet hypermodel.\n",
        "\n",
        "    When called in train mode, 2D models will not include TFLite compatible\n",
        "    STFT layers to support batch-based training. Call this function only in\n",
        "    non-train mode if you want to load the pretrained weights for\n",
        "    export to a TFLite model or inference.\n",
        "    See: https://github.com/keunwoochoi/kapre/issues/130\n",
        "    \n",
        "    Use either a 1D model to directly classify the timeseries data,\n",
        "    or use a 2D model on a preceding STFT transform layer.\n",
        "    \"\"\"\n",
        "\n",
        "    model_type = hp.Choice('model_type', ['1d', '2d'], default='2d')\n",
        "\n",
        "    input_shape = (SAMPLE_LENGTH, len(X_features))\n",
        "    n_outputs = len(LABEL_ORDER)\n",
        "\n",
        "    model = models.Sequential()\n",
        "\n",
        "    if model_type == '1d':\n",
        "        # Direct timeseries classification\n",
        "        model.add(HyperResNet(\n",
        "            separable=separable,\n",
        "            include_top=True,\n",
        "            input_shape=input_shape,\n",
        "            input_tensor=None,\n",
        "            classes=n_outputs\n",
        "        ).build(hp))\n",
        "    elif model_type == '2d':\n",
        "        # Short-time fourier transform pre-model\n",
        "        stft_layer_proto = kapre.STFT if train else kapre.STFTTflite\n",
        "        stft_magnitude_proto = kapre.Magnitude if train else kapre.MagnitudeTflite\n",
        "        stft_input = keras.layers.Input(input_shape)\n",
        "        stft_output = stft_layer_proto(\n",
        "            n_fft=100,\n",
        "            hop_length=5,\n",
        "            pad_end=False,\n",
        "            input_data_format='channels_last', \n",
        "            output_data_format='channels_last',\n",
        "            name='stft-transform'\n",
        "        )(stft_input)\n",
        "        stft_output = stft_magnitude_proto(name='stft-magnitude')(stft_output)\n",
        "        stft_output = kapre.MagnitudeToDecibel(name='stft-decibel')(stft_output)\n",
        "        stft_output = layers.LayerNormalization(name='stft-norm')(stft_output)\n",
        "        stft_model = models.Model(stft_input, stft_output)\n",
        "        model.add(stft_model)\n",
        "\n",
        "        # Add our ResNet classifier hypermodel\n",
        "        resnet_input_shape = (stft_output.shape[1], stft_output.shape[2], stft_output.shape[3])\n",
        "        model.add(HyperResNet(\n",
        "            separable=separable,\n",
        "            include_top=True, \n",
        "            input_shape=resnet_input_shape, # Output shape of our upsampled STFT layer\n",
        "            input_tensor=None, \n",
        "            classes=n_outputs\n",
        "        ).build(hp))\n",
        "    else:\n",
        "        raise ValueError('Unknown meta architecture!')\n",
        "\n",
        "    model.compile(\n",
        "        loss='sparse_categorical_crossentropy', # No OHE necessary\n",
        "        optimizer=optimizers.Adam(learning_rate=0.001),\n",
        "        metrics=['acc']\n",
        "    )\n",
        "\n",
        "    return model"
      ]
    },
    {
      "cell_type": "markdown",
      "metadata": {
        "id": "G_ZAn9le2fmy"
      },
      "source": [
        "# Hyperband gridsearch"
      ]
    },
    {
      "cell_type": "code",
      "execution_count": 30,
      "metadata": {
        "colab": {
          "base_uri": "https://localhost:8080/"
        },
        "id": "vOH7F65U7fYx",
        "outputId": "e81a2217-18b3-4e76-8a79-ad6b9c6c7f7f"
      },
      "outputs": [
        {
          "name": "stdout",
          "output_type": "stream",
          "text": [
            "INFO:tensorflow:Reloading Oracle from existing project models/shl-gridsearch/oracle.json\n",
            "INFO:tensorflow:Reloading Tuner from models/shl-gridsearch/tuner0.json\n",
            "Search space summary\n",
            "Default search space size: 8\n",
            "model_type (Choice)\n",
            "{'default': '2d', 'conditions': [], 'values': ['1d', '2d'], 'ordered': False}\n",
            "version (Choice)\n",
            "{'default': 'ResNetV2', 'conditions': [], 'values': ['ResNetV1', 'ResNetV2'], 'ordered': False}\n",
            "conv3_depth (Choice)\n",
            "{'default': 4, 'conditions': [], 'values': [4, 8], 'ordered': True}\n",
            "conv4_depth (Choice)\n",
            "{'default': 6, 'conditions': [], 'values': [6, 23, 36], 'ordered': True}\n",
            "n_stacks (Int)\n",
            "{'default': None, 'conditions': [], 'min_value': 1, 'max_value': 4, 'step': 1, 'sampling': None}\n",
            "pooling (Choice)\n",
            "{'default': 'avg', 'conditions': [], 'values': ['avg', 'max'], 'ordered': False}\n",
            "optimizer (Choice)\n",
            "{'default': 'adam', 'conditions': [], 'values': ['adam', 'rmsprop', 'sgd'], 'ordered': False}\n",
            "learning_rate (Choice)\n",
            "{'default': 0.01, 'conditions': [], 'values': [0.1, 0.01, 0.001], 'ordered': True}\n"
          ]
        }
      ],
      "source": [
        "tuner = Tuner(\n",
        "    gridsearch_dir=Path('models/shl-gridsearch'),\n",
        "    log_dir=Path('logs/shl-gridsearch'),\n",
        "    hypermodel=combined_hypermodel, \n",
        "    objective='val_acc', \n",
        "    max_epochs=15,\n",
        "    factor=3,\n",
        "    seed=1337,\n",
        "    overwrite=False,\n",
        "    directory='models',\n",
        "    project_name='shl-gridsearch',\n",
        ")\n",
        "\n",
        "tuner.search_space_summary()"
      ]
    },
    {
      "cell_type": "markdown",
      "metadata": {
        "id": "2iVcZS2M8u-E"
      },
      "source": [
        "### Define callbacks for our gridsearch"
      ]
    },
    {
      "cell_type": "code",
      "execution_count": 31,
      "metadata": {
        "id": "MmEnc_5l8Wln"
      },
      "outputs": [],
      "source": [
        "from tensorflow.keras import callbacks\n",
        "\n",
        "decay_lr = callbacks.ReduceLROnPlateau(\n",
        "    monitor='val_acc',\n",
        "    factor=0.5, \n",
        "    patience=1, # Epochs\n",
        "    min_lr=0.00001, \n",
        "    verbose=1\n",
        ")\n",
        "\n",
        "stop_early = callbacks.EarlyStopping(\n",
        "    monitor='val_acc', \n",
        "    patience=3, # Epochs\n",
        "    verbose=1\n",
        ")\n",
        "\n",
        "update_tensorboard = callbacks.TensorBoard(\n",
        "    'logs/shl-gridsearch',\n",
        "    write_graph=False, # Save some processing time\n",
        ")"
      ]
    },
    {
      "cell_type": "markdown",
      "metadata": {
        "id": "ERPuNNNd8sM5"
      },
      "source": [
        "### Activate TensorBoard"
      ]
    },
    {
      "cell_type": "code",
      "execution_count": null,
      "metadata": {
        "id": "haG_mrDCVuCQ"
      },
      "outputs": [],
      "source": [
        "%load_ext tensorboard\n",
        "%tensorboard --logdir logs/shl-gridsearch"
      ]
    },
    {
      "cell_type": "markdown",
      "metadata": {
        "id": "GuFuzsHJ8nVY"
      },
      "source": [
        "### Keras tuner grid search training"
      ]
    },
    {
      "cell_type": "code",
      "execution_count": null,
      "metadata": {
        "id": "cX8Z0ZyW-nJ9"
      },
      "outputs": [],
      "source": [
        "tuner.search(\n",
        "    train_dataset,\n",
        "    epochs=15,\n",
        "    callbacks=[decay_lr, stop_early, update_tensorboard],\n",
        "    validation_data=validation_dataset,\n",
        "    verbose=1,\n",
        "    shuffle=False,\n",
        "    class_weight=CLASS_WEIGHTS,\n",
        ")"
      ]
    },
    {
      "cell_type": "markdown",
      "metadata": {
        "id": "HaooYcGOycak"
      },
      "source": [
        "# Model finalization and export"
      ]
    },
    {
      "cell_type": "markdown",
      "metadata": {
        "id": "O2GZVu7K8fi4"
      },
      "source": [
        "### Define helper functions"
      ]
    },
    {
      "cell_type": "code",
      "execution_count": 32,
      "metadata": {
        "id": "txNnDkSmuetH"
      },
      "outputs": [],
      "source": [
        "def finalize_model(hp: HyperParameters, log_dir: Path, model_cp_dir: Path, separable=False):\n",
        "    \"\"\"\n",
        "    Finalize a model. \n",
        "    \n",
        "    Train the model until a maximum number of\n",
        "    epochs is reached or early stopping kicks in. \n",
        "    \"\"\"\n",
        "    log_csv = callbacks.CSVLogger(str(log_dir / 'log.csv'))\n",
        "    save_model = callbacks.ModelCheckpoint(str(model_cp_dir), save_best_only=True, verbose=1)\n",
        "\n",
        "    model = combined_hypermodel(hp, train=True, separable=separable)\n",
        "    model.fit(\n",
        "        train_dataset,\n",
        "        epochs=15,\n",
        "        callbacks=[decay_lr, stop_early, log_csv, save_model],\n",
        "        validation_data=validation_dataset,\n",
        "        verbose=1,\n",
        "        shuffle=False,\n",
        "        class_weight=CLASS_WEIGHTS, \n",
        "    )"
      ]
    },
    {
      "cell_type": "code",
      "execution_count": 33,
      "metadata": {
        "id": "mSUB6lhL3ne0"
      },
      "outputs": [],
      "source": [
        "def export_model(hp: HyperParameters, model_cp_dir: Path, tflite_export_dir: Path, separable=False):\n",
        "    \"\"\"\n",
        "    Export a model to the TFLite format.\n",
        "    \"\"\"\n",
        "    trained_model = models.load_model(str(model_cp_dir))\n",
        "    # Transfer the model weights to an exportable model\n",
        "    exportable_model = combined_hypermodel(hp, train=False, separable=separable)\n",
        "    exportable_model.set_weights(trained_model.get_weights())\n",
        "    # Convert the model to TFLite\n",
        "    if not os.path.isdir(tflite_export_dir):\n",
        "        os.mkdir(tflite_export_dir)\n",
        "    converter = tf.lite.TFLiteConverter.from_keras_model(exportable_model)\n",
        "    tflite_model = converter.convert()\n",
        "    with open(tflite_export_dir / 'model.tflite', 'wb') as f:\n",
        "        f.write(tflite_model)\n"
      ]
    },
    {
      "cell_type": "markdown",
      "metadata": {
        "id": "OPPChfMO8hAv"
      },
      "source": [
        "### Finalize and Export the models to TFLite"
      ]
    },
    {
      "cell_type": "code",
      "execution_count": null,
      "metadata": {
        "id": "8lCBRtJszm3N"
      },
      "outputs": [],
      "source": [
        "best_trials = tuner.oracle.get_best_trials(num_trials=10)\n",
        "\n",
        "for trial in best_trials:\n",
        "    hp = trial.hyperparameters\n",
        "    trial_id = trial.trial_id\n",
        "    log_dir = Path(f'logs/shl-finalization/{trial_id}/')\n",
        "    model_cp_dir = Path(f'models/shl-finalization/{trial_id}/checkpoint/')\n",
        "    tflite_export_dir = Path(f'models/shl-finalization/{trial_id}/export/')\n",
        "\n",
        "    for d in [log_dir, model_cp_dir, tflite_export_dir]:\n",
        "        if not os.path.isdir(d):\n",
        "            os.makedirs(d)\n",
        "\n",
        "    if os.path.isfile(f'/content/drive/MyDrive/finalization-tflite-model-{trial_id}.zip'):\n",
        "        print(f'Skipping trial {trial_id} (already finalized)')\n",
        "        continue\n",
        "\n",
        "    print(f'Finalizing model from trial {trial_id}...')\n",
        "    finalize_model(hp, log_dir, model_cp_dir)\n",
        "\n",
        "    with tempfile.TemporaryDirectory() as tempdir:\n",
        "        # Save log\n",
        "        shutil.copytree(log_dir, f'{tempdir}/log')\n",
        "        shutil.make_archive(f'{tempdir}/log', 'zip', f'{tempdir}/log')\n",
        "        shutil.copyfile(f'{tempdir}/log.zip', f'/content/drive/MyDrive/finalization-log-{trial_id}.zip')\n",
        "\n",
        "    with tempfile.TemporaryDirectory() as tempdir:\n",
        "        # Save checkpoint\n",
        "        shutil.copytree(model_cp_dir, f'{tempdir}/cp')\n",
        "        shutil.make_archive(f'{tempdir}/cp', 'zip', f'{tempdir}/cp')\n",
        "        shutil.copyfile(f'{tempdir}/cp.zip', f'/content/drive/MyDrive/finalization-cp-{trial_id}.zip')\n",
        "\n",
        "    print(f'Exporting model from trial {trial_id}...')\n",
        "    export_model(hp, model_cp_dir, tflite_export_dir)\n",
        "\n",
        "    with tempfile.TemporaryDirectory() as tempdir:\n",
        "        # Save TFLite model\n",
        "        shutil.copytree(tflite_export_dir, f'{tempdir}/model')\n",
        "        shutil.make_archive(f'{tempdir}/model', 'zip', f'{tempdir}/model')\n",
        "        shutil.copyfile(f'{tempdir}/model.zip', f'/content/drive/MyDrive/finalization-tflite-model-{trial_id}.zip')"
      ]
    },
    {
      "cell_type": "markdown",
      "metadata": {
        "id": "SeKTN5o82qjm"
      },
      "source": [
        "# Model optimization\n",
        "\n",
        "Note that the following steps are partially specific to the selected best model architecture, i.e. a 1D ResNet. Since we don't have 2D STFT layers, we wont need to convert those into a TFLite compatible version.\n",
        "\n",
        "Significant parts of this code originate from: \n",
        "\n",
        "https://www.tensorflow.org/model_optimization/guide/combine/pcqat_example\n",
        "\n",
        "and\n",
        "\n",
        "https://www.tensorflow.org/model_optimization/guide/pruning/pruning_for_on_device_inference"
      ]
    },
    {
      "cell_type": "markdown",
      "metadata": {
        "id": "_q2z2el6b8wC"
      },
      "source": [
        "### Train the best model from tradeoff analysis with separable convolution layers"
      ]
    },
    {
      "cell_type": "code",
      "execution_count": null,
      "metadata": {
        "colab": {
          "base_uri": "https://localhost:8080/"
        },
        "id": "m105UBo2cEfo",
        "outputId": "60c2f03a-1f76-45a2-d5cc-323fcb0247a1"
      },
      "outputs": [
        {
          "name": "stdout",
          "output_type": "stream",
          "text": [
            "Exporting separable model from trial 4ad2e771492aac5b42c89d9b5a835857...\n"
          ]
        },
        {
          "name": "stderr",
          "output_type": "stream",
          "text": [
            "WARNING:absl:Function `_wrapped_model` contains input name(s) ResNetV1_input with unsupported characters which will be renamed to resnetv1_input in the SavedModel.\n"
          ]
        },
        {
          "name": "stdout",
          "output_type": "stream",
          "text": [
            "INFO:tensorflow:Assets written to: /tmp/tmpovdv46xt/assets\n"
          ]
        },
        {
          "name": "stderr",
          "output_type": "stream",
          "text": [
            "INFO:tensorflow:Assets written to: /tmp/tmpovdv46xt/assets\n",
            "/usr/local/lib/python3.7/dist-packages/keras/utils/generic_utils.py:497: CustomMaskWarning: Custom mask layers require a config and must override get_config. When loading, the custom mask layer must be passed to the custom_objects argument.\n",
            "  category=CustomMaskWarning)\n"
          ]
        }
      ],
      "source": [
        "# Result from tradeoff analysis\n",
        "best_model_trial_id = '4ad2e771492aac5b42c89d9b5a835857'\n",
        "\n",
        "best_trials = tuner.oracle.get_best_trials(num_trials=10)\n",
        "\n",
        "for trial in best_trials:\n",
        "    if trial.trial_id != best_model_trial_id:\n",
        "        continue # only train the best model\n",
        "\n",
        "    hp = trial.hyperparameters\n",
        "    trial_id = trial.trial_id\n",
        "    log_dir = Path(f'logs/shl-optimization/{trial_id}/')\n",
        "    model_cp_dir = Path(f'models/shl-optimization/{trial_id}/checkpoint/')\n",
        "    tflite_export_dir = Path(f'models/shl-optimization/{trial_id}/export/')\n",
        "\n",
        "    for d in [log_dir, model_cp_dir, tflite_export_dir]:\n",
        "        if not os.path.isdir(d):\n",
        "            os.makedirs(d)\n",
        "\n",
        "    if os.path.isfile(f'/content/drive/MyDrive/optimization-tflite-model-{trial_id}.zip'):\n",
        "        print(f'Skipping trial {trial_id} (already optimized)')\n",
        "        continue\n",
        "\n",
        "    print(f'Training model from trial {trial_id} on separable layers...')\n",
        "    finalize_model(hp, log_dir, model_cp_dir, separable=True)\n",
        "\n",
        "    with tempfile.TemporaryDirectory() as tempdir:\n",
        "        # Save log\n",
        "        shutil.copytree(log_dir, f'{tempdir}/log')\n",
        "        shutil.make_archive(f'{tempdir}/log', 'zip', f'{tempdir}/log')\n",
        "        shutil.copyfile(f'{tempdir}/log.zip', f'/content/drive/MyDrive/optimization-log-{trial_id}.zip')\n",
        "\n",
        "    with tempfile.TemporaryDirectory() as tempdir:\n",
        "        # Save checkpoint\n",
        "        shutil.copytree(model_cp_dir, f'{tempdir}/cp')\n",
        "        shutil.make_archive(f'{tempdir}/cp', 'zip', f'{tempdir}/cp')\n",
        "        shutil.copyfile(f'{tempdir}/cp.zip', f'/content/drive/MyDrive/optimization-cp-{trial_id}.zip')\n",
        "\n",
        "    print(f'Exporting separable model from trial {trial_id}...')\n",
        "    export_model(hp, model_cp_dir, tflite_export_dir, separable=True)\n",
        "\n",
        "    with tempfile.TemporaryDirectory() as tempdir:\n",
        "        # Save TFLite model\n",
        "        shutil.copytree(tflite_export_dir, f'{tempdir}/model')\n",
        "        shutil.make_archive(f'{tempdir}/model', 'zip', f'{tempdir}/model')\n",
        "        shutil.copyfile(f'{tempdir}/model.zip', f'/content/drive/MyDrive/optimization-tflite-model-{trial_id}.zip')"
      ]
    },
    {
      "cell_type": "markdown",
      "metadata": {
        "id": "0WxGpQw_MRpN"
      },
      "source": [
        "### Load the best model from tradeoff analysis"
      ]
    },
    {
      "cell_type": "code",
      "execution_count": null,
      "metadata": {
        "id": "Pnr9FhJw2sVs"
      },
      "outputs": [],
      "source": [
        "# Result from tradeoff analysis\n",
        "best_model_trial_id = '4ad2e771492aac5b42c89d9b5a835857'\n",
        "\n",
        "with tempfile.TemporaryDirectory() as tempdir:\n",
        "    shutil.copyfile(f'/content/drive/MyDrive/finalization-cp-{best_model_trial_id}.zip', f'models/model-cp.zip')\n",
        "    shutil.unpack_archive(f'models/model-cp.zip', 'models/best-model')\n",
        "    best_model = keras.models.load_model('models/best-model')\n",
        "\n",
        "with tempfile.TemporaryDirectory() as tempdir:\n",
        "    shutil.copyfile(f'/content/drive/MyDrive/optimization-cp-{best_model_trial_id}.zip', f'models/model-cp-separable.zip')\n",
        "    shutil.unpack_archive(f'models/model-cp-separable.zip', 'models/best-model-separable')\n",
        "    best_model_separable = keras.models.load_model('models/best-model-separable')"
      ]
    },
    {
      "cell_type": "code",
      "execution_count": null,
      "metadata": {
        "colab": {
          "base_uri": "https://localhost:8080/"
        },
        "id": "Ar_R0pNfdfAv",
        "outputId": "886db683-489f-47af-a07b-aa0a1a9aa19b"
      },
      "outputs": [
        {
          "name": "stdout",
          "output_type": "stream",
          "text": [
            "Model: \"sequential_6\"\n",
            "_________________________________________________________________\n",
            "Layer (type)                 Output Shape              Param #   \n",
            "=================================================================\n",
            "ResNetV1 (Functional)        (None, 9)                 989705    \n",
            "=================================================================\n",
            "Total params: 989,705\n",
            "Trainable params: 979,593\n",
            "Non-trainable params: 10,112\n",
            "_________________________________________________________________\n"
          ]
        }
      ],
      "source": [
        "best_model.summary()"
      ]
    },
    {
      "cell_type": "code",
      "execution_count": null,
      "metadata": {
        "colab": {
          "base_uri": "https://localhost:8080/"
        },
        "id": "qxKDMlsgdfZ2",
        "outputId": "68f7ee70-eac0-4e44-dc2e-6e1763484be0"
      },
      "outputs": [
        {
          "name": "stdout",
          "output_type": "stream",
          "text": [
            "Model: \"sequential_1\"\n",
            "_________________________________________________________________\n",
            "Layer (type)                 Output Shape              Param #   \n",
            "=================================================================\n",
            "ResNetV1 (Functional)        (None, 9)                 838430    \n",
            "=================================================================\n",
            "Total params: 838,430\n",
            "Trainable params: 828,318\n",
            "Non-trainable params: 10,112\n",
            "_________________________________________________________________\n"
          ]
        }
      ],
      "source": [
        "best_model_separable.summary()"
      ]
    },
    {
      "cell_type": "markdown",
      "metadata": {
        "id": "lm5uN1-8MUcV"
      },
      "source": [
        "### Install required packages"
      ]
    },
    {
      "cell_type": "code",
      "execution_count": 34,
      "metadata": {
        "colab": {
          "base_uri": "https://localhost:8080/"
        },
        "id": "yzUZsFYJMXf8",
        "outputId": "665af9ea-119d-4eb1-8e8f-9d499dbcf34f"
      },
      "outputs": [
        {
          "name": "stdout",
          "output_type": "stream",
          "text": [
            "\u001b[?25l\r\u001b[K     |█▌                              | 10 kB 35.0 MB/s eta 0:00:01\r\u001b[K     |███                             | 20 kB 26.4 MB/s eta 0:00:01\r\u001b[K     |████▋                           | 30 kB 12.7 MB/s eta 0:00:01\r\u001b[K     |██████▏                         | 40 kB 9.8 MB/s eta 0:00:01\r\u001b[K     |███████▊                        | 51 kB 4.3 MB/s eta 0:00:01\r\u001b[K     |█████████▎                      | 61 kB 4.7 MB/s eta 0:00:01\r\u001b[K     |██████████▉                     | 71 kB 4.4 MB/s eta 0:00:01\r\u001b[K     |████████████▍                   | 81 kB 5.0 MB/s eta 0:00:01\r\u001b[K     |██████████████                  | 92 kB 5.0 MB/s eta 0:00:01\r\u001b[K     |███████████████▌                | 102 kB 4.2 MB/s eta 0:00:01\r\u001b[K     |█████████████████               | 112 kB 4.2 MB/s eta 0:00:01\r\u001b[K     |██████████████████▋             | 122 kB 4.2 MB/s eta 0:00:01\r\u001b[K     |████████████████████▏           | 133 kB 4.2 MB/s eta 0:00:01\r\u001b[K     |█████████████████████▊          | 143 kB 4.2 MB/s eta 0:00:01\r\u001b[K     |███████████████████████▎        | 153 kB 4.2 MB/s eta 0:00:01\r\u001b[K     |████████████████████████▉       | 163 kB 4.2 MB/s eta 0:00:01\r\u001b[K     |██████████████████████████▍     | 174 kB 4.2 MB/s eta 0:00:01\r\u001b[K     |████████████████████████████    | 184 kB 4.2 MB/s eta 0:00:01\r\u001b[K     |█████████████████████████████▌  | 194 kB 4.2 MB/s eta 0:00:01\r\u001b[K     |███████████████████████████████ | 204 kB 4.2 MB/s eta 0:00:01\r\u001b[K     |████████████████████████████████| 211 kB 4.2 MB/s \n",
            "\u001b[?25h"
          ]
        }
      ],
      "source": [
        "!{sys.executable} -m pip install tensorflow-model-optimization -q"
      ]
    },
    {
      "cell_type": "markdown",
      "metadata": {
        "id": "fhQjqFrvD50F"
      },
      "source": [
        "### Define helper functions"
      ]
    },
    {
      "cell_type": "code",
      "execution_count": 35,
      "metadata": {
        "id": "pOy9F3P_D7-F"
      },
      "outputs": [],
      "source": [
        "def print_model_weights_sparsity(model):\n",
        "    for layer in model.layers:\n",
        "        if isinstance(layer, tf.keras.layers.Wrapper):\n",
        "            weights = layer.trainable_weights\n",
        "        else:\n",
        "            weights = layer.weights\n",
        "        for weight in weights:\n",
        "            if \"kernel\" not in weight.name or \"centroid\" in weight.name:\n",
        "                continue\n",
        "            weight_size = weight.numpy().size\n",
        "            zero_num = np.count_nonzero(weight == 0)\n",
        "            print(\n",
        "                f\"{weight.name}: {zero_num/weight_size:.2%} sparsity \",\n",
        "                f\"({zero_num}/{weight_size})\",\n",
        "            )"
      ]
    },
    {
      "cell_type": "markdown",
      "metadata": {
        "id": "qRmwytut8Z2k"
      },
      "source": [
        "### Prune the best model for on-device inference and fine-tune to 50% sparsity"
      ]
    },
    {
      "cell_type": "code",
      "execution_count": null,
      "metadata": {
        "id": "7BW-xQ5JQHI5"
      },
      "outputs": [],
      "source": [
        "n_epochs = 15\n",
        "num_iterations_per_epoch = sum(1 for _ in train_dataset)\n",
        "end_step = num_iterations_per_epoch * n_epochs"
      ]
    },
    {
      "cell_type": "code",
      "execution_count": null,
      "metadata": {
        "colab": {
          "base_uri": "https://localhost:8080/"
        },
        "id": "7Q0JDemp5hX5",
        "outputId": "c2a5dd75-43e2-4fcb-d108-437ce064e94b"
      },
      "outputs": [
        {
          "name": "stderr",
          "output_type": "stream",
          "text": [
            "/usr/local/lib/python3.7/dist-packages/keras/engine/base_layer.py:2223: UserWarning: `layer.add_variable` is deprecated and will be removed in a future version. Please use `layer.add_weight` method instead.\n",
            "  warnings.warn('`layer.add_variable` is deprecated and '\n"
          ]
        },
        {
          "name": "stdout",
          "output_type": "stream",
          "text": [
            "Epoch 1/15\n",
            "13350/13350 [==============================] - 706s 51ms/step - loss: 0.2970 - acc: 0.8768 - val_loss: 0.3709 - val_acc: 0.8635\n",
            "Epoch 2/15\n",
            "13350/13350 [==============================] - 690s 52ms/step - loss: 0.3020 - acc: 0.8741 - val_loss: 0.3727 - val_acc: 0.8634\n",
            "Epoch 3/15\n",
            "13350/13350 [==============================] - 693s 52ms/step - loss: 0.3089 - acc: 0.8708 - val_loss: 0.3805 - val_acc: 0.8605\n",
            "Epoch 4/15\n",
            "13350/13350 [==============================] - 692s 52ms/step - loss: 0.3192 - acc: 0.8661 - val_loss: 0.3903 - val_acc: 0.8568\n",
            "Epoch 5/15\n",
            "13350/13350 [==============================] - 693s 52ms/step - loss: 0.3300 - acc: 0.8616 - val_loss: 0.4003 - val_acc: 0.8517\n",
            "Epoch 6/15\n",
            "13350/13350 [==============================] - 691s 52ms/step - loss: 0.3388 - acc: 0.8575 - val_loss: 0.4148 - val_acc: 0.8461\n",
            "Epoch 7/15\n",
            "13350/13350 [==============================] - 686s 51ms/step - loss: 0.3491 - acc: 0.8532 - val_loss: 0.4207 - val_acc: 0.8435\n",
            "Epoch 8/15\n",
            "13350/13350 [==============================] - 678s 51ms/step - loss: 0.3545 - acc: 0.8512 - val_loss: 0.4280 - val_acc: 0.8396\n",
            "Epoch 9/15\n",
            "13350/13350 [==============================] - 679s 51ms/step - loss: 0.3601 - acc: 0.8487 - val_loss: 0.4343 - val_acc: 0.8379\n",
            "Epoch 10/15\n",
            "13350/13350 [==============================] - 682s 51ms/step - loss: 0.3639 - acc: 0.8471 - val_loss: 0.4329 - val_acc: 0.8375\n",
            "Epoch 11/15\n",
            "13350/13350 [==============================] - 683s 51ms/step - loss: 0.3644 - acc: 0.8470 - val_loss: 0.4287 - val_acc: 0.8394\n",
            "Epoch 12/15\n",
            "13350/13350 [==============================] - 682s 51ms/step - loss: 0.3617 - acc: 0.8482 - val_loss: 0.4300 - val_acc: 0.8403\n",
            "Epoch 13/15\n",
            "13350/13350 [==============================] - 682s 51ms/step - loss: 0.3627 - acc: 0.8478 - val_loss: 0.4257 - val_acc: 0.8413\n",
            "Epoch 14/15\n",
            "13350/13350 [==============================] - 683s 51ms/step - loss: 0.3565 - acc: 0.8504 - val_loss: 0.4213 - val_acc: 0.8430\n",
            "Epoch 15/15\n",
            "13350/13350 [==============================] - 681s 51ms/step - loss: 0.3517 - acc: 0.8525 - val_loss: 0.4184 - val_acc: 0.8438\n",
            "Epoch 1/15\n",
            "13350/13350 [==============================] - 700s 51ms/step - loss: 0.3418 - acc: 0.8568 - val_loss: 0.4221 - val_acc: 0.8435\n",
            "Epoch 2/15\n",
            "13350/13350 [==============================] - 679s 51ms/step - loss: 0.3376 - acc: 0.8586 - val_loss: 0.4176 - val_acc: 0.8452\n",
            "Epoch 3/15\n",
            "13350/13350 [==============================] - 682s 51ms/step - loss: 0.3337 - acc: 0.8602 - val_loss: 0.4138 - val_acc: 0.8466\n",
            "Epoch 4/15\n",
            "13350/13350 [==============================] - 678s 51ms/step - loss: 0.3309 - acc: 0.8615 - val_loss: 0.4108 - val_acc: 0.8467\n",
            "Epoch 5/15\n",
            "13350/13350 [==============================] - 678s 51ms/step - loss: 0.3289 - acc: 0.8623 - val_loss: 0.4085 - val_acc: 0.8475\n",
            "Epoch 6/15\n",
            "13350/13350 [==============================] - 679s 51ms/step - loss: 0.3274 - acc: 0.8629 - val_loss: 0.4075 - val_acc: 0.8484\n",
            "Epoch 7/15\n",
            "13350/13350 [==============================] - 679s 51ms/step - loss: 0.3266 - acc: 0.8633 - val_loss: 0.4069 - val_acc: 0.8491\n",
            "Epoch 8/15\n",
            "13350/13350 [==============================] - 678s 51ms/step - loss: 0.3264 - acc: 0.8633 - val_loss: 0.4071 - val_acc: 0.8490\n",
            "Epoch 9/15\n",
            "13350/13350 [==============================] - 678s 51ms/step - loss: 0.3269 - acc: 0.8632 - val_loss: 0.4073 - val_acc: 0.8484\n",
            "Epoch 10/15\n",
            "13350/13350 [==============================] - 681s 51ms/step - loss: 0.3276 - acc: 0.8629 - val_loss: 0.4073 - val_acc: 0.8484\n",
            "Epoch 11/15\n",
            "13350/13350 [==============================] - 688s 52ms/step - loss: 0.3286 - acc: 0.8624 - val_loss: 0.4072 - val_acc: 0.8489\n",
            "Epoch 12/15\n",
            "13350/13350 [==============================] - 693s 52ms/step - loss: 0.3294 - acc: 0.8620 - val_loss: 0.4078 - val_acc: 0.8477\n",
            "Epoch 13/15\n",
            "13350/13350 [==============================] - 688s 52ms/step - loss: 0.3298 - acc: 0.8618 - val_loss: 0.4076 - val_acc: 0.8485\n",
            "Epoch 14/15\n",
            "13350/13350 [==============================] - 684s 51ms/step - loss: 0.3300 - acc: 0.8618 - val_loss: 0.4079 - val_acc: 0.8485\n",
            "Epoch 15/15\n",
            "13350/13350 [==============================] - 682s 51ms/step - loss: 0.3294 - acc: 0.8621 - val_loss: 0.4072 - val_acc: 0.8491\n"
          ]
        }
      ],
      "source": [
        "import tensorflow_model_optimization as tfmot\n",
        "\n",
        "def prune_model(model):\n",
        "    pruning_callbacks = [\n",
        "        tfmot.sparsity.keras.UpdatePruningStep(),\n",
        "    ]\n",
        "\n",
        "    pruned_model = tfmot.sparsity.keras.prune_low_magnitude(\n",
        "        best_model, \n",
        "        pruning_schedule=tfmot.sparsity.keras.PolynomialDecay(\n",
        "            initial_sparsity=0.25,\n",
        "            final_sparsity=0.75,\n",
        "            begin_step=0,\n",
        "            end_step=end_step\n",
        "        ),\n",
        "        # Unavailable, because some convolutional layers are not supported\n",
        "        # pruning_policy=tfmot.sparsity.keras.PruneForLatencyOnXNNPack()\n",
        "    )\n",
        "\n",
        "    pruning_optimizer = tf.keras.optimizers.Adam(learning_rate=1e-5)\n",
        "\n",
        "    pruned_model.compile(\n",
        "      loss='sparse_categorical_crossentropy',\n",
        "      optimizer=pruning_optimizer,\n",
        "      metrics=['acc']\n",
        "    )\n",
        "\n",
        "    pruned_model.fit(\n",
        "        train_dataset,\n",
        "        epochs=n_epochs,\n",
        "        callbacks=pruning_callbacks,\n",
        "        validation_data=validation_dataset,\n",
        "        verbose=1,\n",
        "        shuffle=False,\n",
        "        class_weight=CLASS_WEIGHTS,\n",
        "    )\n",
        "\n",
        "    return pruned_model\n",
        "\n",
        "pruned_best_model = prune_model(best_model)\n",
        "pruned_best_model_separable = prune_model(best_model_separable)"
      ]
    },
    {
      "cell_type": "code",
      "execution_count": null,
      "metadata": {
        "colab": {
          "base_uri": "https://localhost:8080/"
        },
        "id": "MfWBGoQ6BDc0",
        "outputId": "500f45f9-69d2-471f-d004-006be24dbab3"
      },
      "outputs": [
        {
          "name": "stdout",
          "output_type": "stream",
          "text": [
            "conv1_conv/kernel:0: 75.00% sparsity  (1008/1344)\n",
            "conv2_block1_1_conv/kernel:0: 75.00% sparsity  (3072/4096)\n",
            "conv2_block1_2_conv/kernel:0: 75.00% sparsity  (9216/12288)\n",
            "conv2_block1_0_conv/kernel:0: 75.00% sparsity  (12288/16384)\n",
            "conv2_block1_3_conv/kernel:0: 75.00% sparsity  (12288/16384)\n",
            "conv2_block2_1_conv/kernel:0: 75.00% sparsity  (12288/16384)\n",
            "conv2_block2_2_conv/kernel:0: 75.00% sparsity  (9216/12288)\n",
            "conv2_block2_3_conv/kernel:0: 75.00% sparsity  (12288/16384)\n",
            "conv2_block3_1_conv/kernel:0: 75.00% sparsity  (12288/16384)\n",
            "conv2_block3_2_conv/kernel:0: 75.00% sparsity  (9216/12288)\n",
            "conv2_block3_3_conv/kernel:0: 75.00% sparsity  (12288/16384)\n",
            "conv3_block1_1_conv/kernel:0: 75.00% sparsity  (24576/32768)\n",
            "conv3_block1_2_conv/kernel:0: 75.00% sparsity  (36864/49152)\n",
            "conv3_block1_0_conv/kernel:0: 75.00% sparsity  (98304/131072)\n",
            "conv3_block1_3_conv/kernel:0: 75.00% sparsity  (49152/65536)\n",
            "conv3_block2_1_conv/kernel:0: 75.00% sparsity  (49152/65536)\n",
            "conv3_block2_2_conv/kernel:0: 75.00% sparsity  (36864/49152)\n",
            "conv3_block2_3_conv/kernel:0: 75.00% sparsity  (49152/65536)\n",
            "conv3_block3_1_conv/kernel:0: 75.00% sparsity  (49152/65536)\n",
            "conv3_block3_2_conv/kernel:0: 75.00% sparsity  (36864/49152)\n",
            "conv3_block3_3_conv/kernel:0: 75.00% sparsity  (49152/65536)\n",
            "conv3_block4_1_conv/kernel:0: 75.00% sparsity  (49152/65536)\n",
            "conv3_block4_2_conv/kernel:0: 75.00% sparsity  (36864/49152)\n",
            "conv3_block4_3_conv/kernel:0: 75.00% sparsity  (49152/65536)\n",
            "probs/kernel:0: 75.00% sparsity  (3456/4608)\n",
            "conv1_conv/kernel:0: 75.00% sparsity  (1008/1344)\n",
            "conv2_block1_1_conv/kernel:0: 75.00% sparsity  (3072/4096)\n",
            "conv2_block1_2_conv/kernel:0: 75.00% sparsity  (9216/12288)\n",
            "conv2_block1_0_conv/kernel:0: 75.00% sparsity  (12288/16384)\n",
            "conv2_block1_3_conv/kernel:0: 75.00% sparsity  (12288/16384)\n",
            "conv2_block2_1_conv/kernel:0: 75.00% sparsity  (12288/16384)\n",
            "conv2_block2_2_conv/kernel:0: 75.00% sparsity  (9216/12288)\n",
            "conv2_block2_3_conv/kernel:0: 75.00% sparsity  (12288/16384)\n",
            "conv2_block3_1_conv/kernel:0: 75.00% sparsity  (12288/16384)\n",
            "conv2_block3_2_conv/kernel:0: 75.00% sparsity  (9216/12288)\n",
            "conv2_block3_3_conv/kernel:0: 75.00% sparsity  (12288/16384)\n",
            "conv3_block1_1_conv/kernel:0: 75.00% sparsity  (24576/32768)\n",
            "conv3_block1_2_conv/kernel:0: 75.00% sparsity  (36864/49152)\n",
            "conv3_block1_0_conv/kernel:0: 75.00% sparsity  (98304/131072)\n",
            "conv3_block1_3_conv/kernel:0: 75.00% sparsity  (49152/65536)\n",
            "conv3_block2_1_conv/kernel:0: 75.00% sparsity  (49152/65536)\n",
            "conv3_block2_2_conv/kernel:0: 75.00% sparsity  (36864/49152)\n",
            "conv3_block2_3_conv/kernel:0: 75.00% sparsity  (49152/65536)\n",
            "conv3_block3_1_conv/kernel:0: 75.00% sparsity  (49152/65536)\n",
            "conv3_block3_2_conv/kernel:0: 75.00% sparsity  (36864/49152)\n",
            "conv3_block3_3_conv/kernel:0: 75.00% sparsity  (49152/65536)\n",
            "conv3_block4_1_conv/kernel:0: 75.00% sparsity  (49152/65536)\n",
            "conv3_block4_2_conv/kernel:0: 75.00% sparsity  (36864/49152)\n",
            "conv3_block4_3_conv/kernel:0: 75.00% sparsity  (49152/65536)\n",
            "probs/kernel:0: 75.00% sparsity  (3456/4608)\n"
          ]
        }
      ],
      "source": [
        "stripped_pruned_best_model = tfmot.sparsity.keras.strip_pruning(pruned_best_model)\n",
        "stripped_pruned_best_model_separable = tfmot.sparsity.keras.strip_pruning(pruned_best_model_separable)\n",
        "\n",
        "print_model_weights_sparsity(stripped_pruned_best_model)\n",
        "print_model_weights_sparsity(stripped_pruned_best_model_separable)"
      ]
    },
    {
      "cell_type": "markdown",
      "metadata": {
        "id": "Sep_7nVNJ_Jh"
      },
      "source": [
        "### Export the optimized model to TFLite format"
      ]
    },
    {
      "cell_type": "code",
      "execution_count": null,
      "metadata": {
        "colab": {
          "base_uri": "https://localhost:8080/",
          "height": 180
        },
        "id": "-6v7Ca9LKHLq",
        "outputId": "a5c41a6e-acd6-4d77-ff0a-9f0325e258d1"
      },
      "outputs": [
        {
          "name": "stdout",
          "output_type": "stream",
          "text": [
            "WARNING:tensorflow:Compiled the loaded model, but the compiled metrics have yet to be built. `model.compile_metrics` will be empty until you train or evaluate the model.\n"
          ]
        },
        {
          "name": "stderr",
          "output_type": "stream",
          "text": [
            "WARNING:tensorflow:Compiled the loaded model, but the compiled metrics have yet to be built. `model.compile_metrics` will be empty until you train or evaluate the model.\n",
            "WARNING:absl:Function `_wrapped_model` contains input name(s) ResNetV1_input with unsupported characters which will be renamed to resnetv1_input in the SavedModel.\n"
          ]
        },
        {
          "name": "stdout",
          "output_type": "stream",
          "text": [
            "INFO:tensorflow:Assets written to: /tmp/tmprfik7hsa/assets\n"
          ]
        },
        {
          "name": "stderr",
          "output_type": "stream",
          "text": [
            "INFO:tensorflow:Assets written to: /tmp/tmprfik7hsa/assets\n",
            "/usr/local/lib/python3.7/dist-packages/keras/utils/generic_utils.py:497: CustomMaskWarning: Custom mask layers require a config and must override get_config. When loading, the custom mask layer must be passed to the custom_objects argument.\n",
            "  category=CustomMaskWarning)\n"
          ]
        },
        {
          "data": {
            "application/vnd.google.colaboratory.intrinsic+json": {
              "type": "string"
            },
            "text/plain": [
              "'/content/drive/MyDrive/optimization-model.zip'"
            ]
          },
          "execution_count": 57,
          "metadata": {},
          "output_type": "execute_result"
        }
      ],
      "source": [
        "converter = tf.lite.TFLiteConverter.from_keras_model(stripped_pruned_best_model)\n",
        "# Enable sparse tensor encoding, otherwise the model is converted as dense.\n",
        "converter.optimizations = [tf.lite.Optimize.EXPERIMENTAL_SPARSITY]\n",
        "optimized_tflite_model = converter.convert()\n",
        "\n",
        "optimized_export_dir = Path('models/shl-optimized')\n",
        "if not os.path.isdir(optimized_export_dir):\n",
        "    os.mkdir(optimized_export_dir)\n",
        "\n",
        "with open(optimized_export_dir / 'optimized_model.tflite', 'wb') as f:\n",
        "    f.write(optimized_tflite_model)\n",
        "shutil.make_archive(optimized_export_dir, 'zip', optimized_export_dir)\n",
        "shutil.copyfile(f'{optimized_export_dir}.zip', f'/content/drive/MyDrive/optimization-model.zip')"
      ]
    },
    {
      "cell_type": "code",
      "execution_count": null,
      "metadata": {
        "colab": {
          "base_uri": "https://localhost:8080/",
          "height": 180
        },
        "id": "qsL9Fo_6SJN_",
        "outputId": "e32f915f-fd53-4150-dcbb-22afd6eec7d2"
      },
      "outputs": [
        {
          "name": "stdout",
          "output_type": "stream",
          "text": [
            "WARNING:tensorflow:Compiled the loaded model, but the compiled metrics have yet to be built. `model.compile_metrics` will be empty until you train or evaluate the model.\n"
          ]
        },
        {
          "name": "stderr",
          "output_type": "stream",
          "text": [
            "WARNING:tensorflow:Compiled the loaded model, but the compiled metrics have yet to be built. `model.compile_metrics` will be empty until you train or evaluate the model.\n",
            "WARNING:absl:Function `_wrapped_model` contains input name(s) ResNetV1_input with unsupported characters which will be renamed to resnetv1_input in the SavedModel.\n"
          ]
        },
        {
          "name": "stdout",
          "output_type": "stream",
          "text": [
            "INFO:tensorflow:Assets written to: /tmp/tmpuzt8mwfw/assets\n"
          ]
        },
        {
          "name": "stderr",
          "output_type": "stream",
          "text": [
            "INFO:tensorflow:Assets written to: /tmp/tmpuzt8mwfw/assets\n",
            "/usr/local/lib/python3.7/dist-packages/keras/utils/generic_utils.py:497: CustomMaskWarning: Custom mask layers require a config and must override get_config. When loading, the custom mask layer must be passed to the custom_objects argument.\n",
            "  category=CustomMaskWarning)\n"
          ]
        },
        {
          "data": {
            "application/vnd.google.colaboratory.intrinsic+json": {
              "type": "string"
            },
            "text/plain": [
              "'/content/drive/MyDrive/optimization-model-separable.zip'"
            ]
          },
          "execution_count": 58,
          "metadata": {},
          "output_type": "execute_result"
        }
      ],
      "source": [
        "converter = tf.lite.TFLiteConverter.from_keras_model(stripped_pruned_best_model_separable)\n",
        "# Enable sparse tensor encoding, otherwise the model is converted as dense.\n",
        "converter.optimizations = [tf.lite.Optimize.EXPERIMENTAL_SPARSITY]\n",
        "optimized_tflite_model = converter.convert()\n",
        "\n",
        "optimized_export_dir = Path('models/shl-optimized-separable')\n",
        "if not os.path.isdir(optimized_export_dir):\n",
        "    os.mkdir(optimized_export_dir)\n",
        "\n",
        "with open(optimized_export_dir / 'optimized_model.tflite', 'wb') as f:\n",
        "    f.write(optimized_tflite_model)\n",
        "shutil.make_archive(optimized_export_dir, 'zip', optimized_export_dir)\n",
        "shutil.copyfile(f'{optimized_export_dir}.zip', f'/content/drive/MyDrive/optimization-model-separable.zip')"
      ]
    },
    {
      "cell_type": "markdown",
      "metadata": {
        "id": "q0tOmUmuLgWl"
      },
      "source": [
        "### Model comparison"
      ]
    },
    {
      "cell_type": "markdown",
      "metadata": {
        "id": "q6N1_kiHaRpH"
      },
      "source": [
        "See https://www.tensorflow.org/lite/guide/inference#load_and_run_a_model_in_python"
      ]
    },
    {
      "cell_type": "code",
      "execution_count": 46,
      "metadata": {
        "id": "d7AUi58PYQaz"
      },
      "outputs": [],
      "source": [
        "!{sys.executable} -m pip install --index-url https://google-coral.github.io/py-repo/ tflite_runtime -q"
      ]
    },
    {
      "cell_type": "code",
      "execution_count": 63,
      "metadata": {
        "id": "s47YCmTmYWqZ"
      },
      "outputs": [],
      "source": [
        "from tflite_runtime import interpreter\n",
        "\n",
        "def load_zipped_tflite_model(path_to_zip, name_within_zip):\n",
        "    with tempfile.TemporaryDirectory() as tempdir:\n",
        "        shutil.unpack_archive(path_to_zip, tempdir)\n",
        "        model = interpreter.Interpreter(f'{tempdir}/{name_within_zip}')\n",
        "        model.allocate_tensors()\n",
        "    return model\n",
        "\n",
        "plain_model = load_zipped_tflite_model(\n",
        "    '/content/drive/MyDrive/finalization-tflite-model-4ad2e771492aac5b42c89d9b5a835857.zip', 'model.tflite'\n",
        ")\n",
        "pruned_model = load_zipped_tflite_model(\n",
        "    '/content/drive/MyDrive/optimization-model.zip', 'optimized_model.tflite'\n",
        ")\n",
        "separable_model = load_zipped_tflite_model(\n",
        "    '/content/drive/MyDrive/optimization-tflite-model-4ad2e771492aac5b42c89d9b5a835857.zip', 'model.tflite'\n",
        ")\n",
        "pruned_separable_model = load_zipped_tflite_model(\n",
        "    '/content/drive/MyDrive/optimization-model-separable.zip', 'optimized_model.tflite'\n",
        ")"
      ]
    },
    {
      "cell_type": "code",
      "execution_count": 87,
      "metadata": {
        "id": "KWJJ2lk1ame-"
      },
      "outputs": [],
      "source": [
        "def predict_tflite(model_interpreter, dataset):\n",
        "    input_details = model_interpreter.get_input_details()\n",
        "    output_details = model_interpreter.get_output_details()\n",
        "\n",
        "    true_labels = []\n",
        "    predicted_labels = []\n",
        "    for X_batch, y_batch in tqdm(dataset):\n",
        "        for X, y in zip(X_batch.numpy(), y_batch.numpy()):\n",
        "            input_data = X.reshape((1, 500, 3))\n",
        "\n",
        "            model_interpreter.set_tensor(input_details[0]['index'], input_data)\n",
        "            model_interpreter.invoke()\n",
        "            output_data = model_interpreter.get_tensor(output_details[0]['index'])\n",
        "\n",
        "            true_labels.append(y[0])\n",
        "            predicted_labels.append(np.argmax(output_data[0]))\n",
        "    return true_labels, predicted_labels"
      ]
    },
    {
      "cell_type": "code",
      "execution_count": 91,
      "metadata": {
        "colab": {
          "base_uri": "https://localhost:8080/",
          "height": 1000
        },
        "id": "EKDLlcr8lXLu",
        "outputId": "bd2ffa9e-743c-4b12-f715-63fee7ea47c3"
      },
      "outputs": [
        {
          "name": "stdout",
          "output_type": "stream",
          "text": [
            "Will need 703 iterations.\n"
          ]
        },
        {
          "name": "stderr",
          "output_type": "stream",
          "text": [
            "703it [04:53,  2.39it/s]\n"
          ]
        },
        {
          "name": "stdout",
          "output_type": "stream",
          "text": [
            "Computed confusion matrix for model \"Keine Optimierung\":\n",
            "[[5685   53    0   23   38   42  128   67]\n",
            " [ 186 5701   11   26   10   17   21   32]\n",
            " [   4    7 1745    1    0    1    0    0]\n",
            " [ 101   41    2 4970   22   25   15   15]\n",
            " [  92    9    0   14 6573  395   89   57]\n",
            " [ 163   20    1   20  507 5161  196   51]\n",
            " [ 486   26    1    7  148  161 5353  961]\n",
            " [ 318   24    0    1  107   56 1270 3736]]\n"
          ]
        },
        {
          "name": "stderr",
          "output_type": "stream",
          "text": [
            "703it [04:51,  2.41it/s]\n"
          ]
        },
        {
          "name": "stdout",
          "output_type": "stream",
          "text": [
            "Computed confusion matrix for model \"Pruning\":\n",
            "[[5738   55    0   19   33   39   89   63]\n",
            " [ 219 5652   12   48    8   12   15   38]\n",
            " [   4   10 1743    0    1    0    0    0]\n",
            " [ 132   43    3 4945   25   26    7   10]\n",
            " [ 115    8    0   18 6546  413   73   56]\n",
            " [ 211   24    0   31  558 5061  184   50]\n",
            " [ 605   22    0   10  152  183 5107 1064]\n",
            " [ 383   18    1    5  111   71 1260 3663]]\n"
          ]
        },
        {
          "name": "stderr",
          "output_type": "stream",
          "text": [
            "703it [04:18,  2.72it/s]\n"
          ]
        },
        {
          "name": "stdout",
          "output_type": "stream",
          "text": [
            "Computed confusion matrix for model \"Separierbare Convolution-Schichten\":\n",
            "[[5524   46    0   42   92  146  128   58]\n",
            " [ 159 5713    7   39   13   18   36   19]\n",
            " [   3    9 1741    4    1    0    0    0]\n",
            " [ 112   47    0 4923   37   41   17   14]\n",
            " [  75    4    0   14 6368  611  110   47]\n",
            " [ 126   19    0   22  653 5103  152   44]\n",
            " [ 494   22    0    7  205  258 5392  765]\n",
            " [ 319   13    0    8  170  102 1433 3467]]\n"
          ]
        },
        {
          "name": "stderr",
          "output_type": "stream",
          "text": [
            "703it [04:48,  2.43it/s]\n"
          ]
        },
        {
          "name": "stdout",
          "output_type": "stream",
          "text": [
            "Computed confusion matrix for model \"Separierbare Schichten + Pruning\":\n",
            "[[5738   55    0   19   33   39   89   63]\n",
            " [ 219 5652   12   48    8   12   15   38]\n",
            " [   4   10 1743    0    1    0    0    0]\n",
            " [ 132   43    3 4945   25   26    7   10]\n",
            " [ 115    8    0   18 6546  413   73   56]\n",
            " [ 211   24    0   31  558 5061  184   50]\n",
            " [ 605   22    0   10  152  183 5107 1064]\n",
            " [ 383   18    1    5  111   71 1260 3663]]\n"
          ]
        },
        {
          "data": {
            "image/png": "[encoded data removed]",
            "text/plain": [
              "<Figure size 720x720 with 8 Axes>"
            ]
          },
          "metadata": {
            "needs_background": "light"
          },
          "output_type": "display_data"
        }
      ],
      "source": [
        "import matplotlib.pyplot as plt\n",
        "\n",
        "from sklearn.metrics import ConfusionMatrixDisplay, confusion_matrix\n",
        "\n",
        "np.set_printoptions(precision=1)\n",
        "\n",
        "models_to_test = [\n",
        "    (plain_model, 'Keine Optimierung'), \n",
        "    (pruned_model, 'Pruning'),\n",
        "    (separable_model, 'Separierbare Convolution-Schichten'), \n",
        "    (pruned_separable_model, 'Separierbare Schichten + Pruning'),\n",
        "]\n",
        "\n",
        "f, axs = plt.subplots(2, 2, figsize=(10, 10))\n",
        "\n",
        "confusion_dataset = validation_dataset\n",
        "print(f'Will need {sum(1 for _ in confusion_dataset)} iterations.')\n",
        "\n",
        "for ax, (model_interpreter, name) in zip(axs.flatten(), models_to_test):\n",
        "    y_test, y_pred = predict_tflite(model_interpreter, confusion_dataset)\n",
        "    conf_mat = confusion_matrix(y_test, y_pred)\n",
        "    print(f'Computed confusion matrix for model \"{name}\":')\n",
        "    print(conf_mat)\n",
        "    conf_mat_disp = ConfusionMatrixDisplay(\n",
        "        confusion_matrix=conf_mat,\n",
        "        display_labels=LABEL_ORDER[1:]\n",
        "    )\n",
        "    conf_mat_disp.plot(cmap=plt.cm.binary, ax=ax, xticks_rotation=45, values_format='')\n",
        "    ax.set_title(name)\n",
        "\n",
        "plt.tight_layout()\n",
        "plt.savefig('../images/shl/optimization-results.pdf', dpi=1200, bbox_inches='tight')"
      ]
    },
    {
      "cell_type": "code",
      "execution_count": 95,
      "metadata": {
        "colab": {
          "base_uri": "https://localhost:8080/",
          "height": 16
        },
        "id": "RNpwbKktlenG",
        "outputId": "501f1776-34e6-48d4-b36b-d6ecf2e1f5c6"
      },
      "outputs": [
        {
          "data": {
            "application/javascript": "\n    async function download(id, filename, size) {\n      if (!google.colab.kernel.accessAllowed) {\n        return;\n      }\n      const div = document.createElement('div');\n      const label = document.createElement('label');\n      label.textContent = `Downloading \"${filename}\": `;\n      div.appendChild(label);\n      const progress = document.createElement('progress');\n      progress.max = size;\n      div.appendChild(progress);\n      document.body.appendChild(div);\n\n      const buffers = [];\n      let downloaded = 0;\n\n      const channel = await google.colab.kernel.comms.open(id);\n      // Send a message to notify the kernel that we're ready.\n      channel.send({})\n\n      for await (const message of channel.messages) {\n        // Send a message to notify the kernel that we're ready.\n        channel.send({})\n        if (message.buffers) {\n          for (const buffer of message.buffers) {\n            buffers.push(buffer);\n            downloaded += buffer.byteLength;\n            progress.value = downloaded;\n          }\n        }\n      }\n      const blob = new Blob(buffers, {type: 'application/binary'});\n      const a = document.createElement('a');\n      a.href = window.URL.createObjectURL(blob);\n      a.download = filename;\n      div.appendChild(a);\n      a.click();\n      div.remove();\n    }\n  ",
            "text/plain": [
              "<IPython.core.display.Javascript object>"
            ]
          },
          "metadata": {},
          "output_type": "display_data"
        },
        {
          "data": {
            "application/javascript": "download(\"download_9d9928df-878b-4e11-b092-1ecbdda7310c\", \"optimization-results.pdf\", 263238)",
            "text/plain": [
              "<IPython.core.display.Javascript object>"
            ]
          },
          "metadata": {},
          "output_type": "display_data"
        }
      ],
      "source": [
        "from google.colab.files import download\n",
        "\n",
        "download('../images/shl/optimization-results.pdf')"
      ]
    }
  ],
  "metadata": {
    "accelerator": "GPU",
    "colab": {
      "include_colab_link": true,
      "machine_shape": "hm",
      "name": "shl-deep-learning-timeseries.ipynb",
      "provenance": []
    },
    "kernelspec": {
      "display_name": "Python 3.8.9 64-bit",
      "language": "python",
      "name": "python3"
    },
    "language_info": {
      "codemirror_mode": {
        "name": "ipython",
        "version": 3
      },
      "file_extension": ".py",
      "mimetype": "text/x-python",
      "name": "python",
      "nbconvert_exporter": "python",
      "pygments_lexer": "ipython3",
      "version": "3.8.9"
    },
    "orig_nbformat": 4,
    "vscode": {
      "interpreter": {
        "hash": "31f2aee4e71d21fbe5cf8b01ff0e069b9275f58929596ceb00d14d90e3e16cd6"
      }
    }
  },
  "nbformat": 4,
  "nbformat_minor": 0
}
