{
  "cells": [
    {
      "cell_type": "markdown",
      "metadata": {
        "id": "m8Tz2ASGfz81"
      },
      "source": [
        "# Using traditional models and feature engineering to classify SHL timeseries"
      ]
    },
    {
      "cell_type": "code",
      "execution_count": null,
      "metadata": {
        "id": "wJ5G0px8fz83"
      },
      "outputs": [],
      "source": [
        "import zipfile\n",
        "import tempfile\n",
        "import pathlib\n",
        "\n",
        "import pandas as pd\n",
        "import numpy as np\n",
        "\n",
        "\n",
        "shl_dataset_label_order = [\n",
        "    'Null',\n",
        "    'Still',\n",
        "    'Walking',\n",
        "    'Run',\n",
        "    'Bike',\n",
        "    'Car',\n",
        "    'Bus',\n",
        "    'Train',\n",
        "    'Subway',\n",
        "]\n",
        "\n",
        "\n",
        "class SHLDataset:\n",
        "    def __init__(\n",
        "        self,\n",
        "        acc_x, acc_y, acc_z,\n",
        "        acc_mag,\n",
        "        mag_x, mag_y, mag_z,\n",
        "        mag_mag,\n",
        "        gyr_x, gyr_y, gyr_z,\n",
        "        gyr_mag,\n",
        "        labels\n",
        "    ):\n",
        "        self.acc_x = acc_x\n",
        "        self.acc_y = acc_y\n",
        "        self.acc_z = acc_z\n",
        "        self.acc_mag = acc_mag\n",
        "\n",
        "        self.mag_x = mag_x\n",
        "        self.mag_y = mag_y\n",
        "        self.mag_z = mag_z\n",
        "        self.mag_mag = mag_mag\n",
        "\n",
        "        self.gyr_x = gyr_x\n",
        "        self.gyr_y = gyr_y\n",
        "        self.gyr_z = gyr_z\n",
        "        self.gyr_mag = gyr_mag\n",
        "        \n",
        "        self.labels = labels\n",
        "\n",
        "    def concat_inplace(self, other):\n",
        "        self.acc_x = np.concatenate((self.acc_x, other.acc_x), axis=0)\n",
        "        self.acc_y = np.concatenate((self.acc_y, other.acc_y), axis=0)\n",
        "        self.acc_z = np.concatenate((self.acc_z, other.acc_z), axis=0)\n",
        "        self.acc_mag = np.concatenate((self.acc_mag, other.acc_mag), axis=0)\n",
        "\n",
        "        self.mag_x = np.concatenate((self.mag_x, other.mag_x), axis=0)\n",
        "        self.mag_y = np.concatenate((self.mag_y, other.mag_y), axis=0)\n",
        "        self.mag_z = np.concatenate((self.mag_z, other.mag_z), axis=0)\n",
        "        self.mag_mag = np.concatenate((self.mag_mag, other.mag_mag), axis=0)\n",
        "\n",
        "        self.gyr_x = np.concatenate((self.gyr_x, other.gyr_x), axis=0)\n",
        "        self.gyr_y = np.concatenate((self.gyr_y, other.gyr_y), axis=0)\n",
        "        self.gyr_z = np.concatenate((self.gyr_z, other.gyr_z), axis=0)\n",
        "        self.gyr_mag = np.concatenate((self.gyr_mag, other.gyr_mag), axis=0)\n",
        "\n",
        "        self.labels = np.concatenate((self.labels, other.labels), axis=0)\n",
        "\n",
        "\n",
        "def load_shl_dataset(dataset_dir: pathlib.Path, nrows=None):\n",
        "    acc_x = np.nan_to_num(pd.read_csv(dataset_dir / 'Acc_x.txt', header=None, sep=' ', nrows=nrows).to_numpy())\n",
        "    print('Acc_x Import Done')\n",
        "    acc_y = np.nan_to_num(pd.read_csv(dataset_dir / 'Acc_y.txt', header=None, sep=' ', nrows=nrows).to_numpy())\n",
        "    print('Acc_y Import Done')\n",
        "    acc_z = np.nan_to_num(pd.read_csv(dataset_dir / 'Acc_z.txt', header=None, sep=' ', nrows=nrows).to_numpy())\n",
        "    print('Acc_z Import Done')\n",
        "    acc_mag = np.sqrt(acc_x**2 + acc_y**2 + acc_z**2)\n",
        "    print('Acc_mag Import Done')\n",
        "\n",
        "    mag_x = np.nan_to_num(pd.read_csv(dataset_dir / 'Mag_x.txt', header=None, sep=' ', nrows=nrows).to_numpy())\n",
        "    print('Mag_x Import Done')\n",
        "    mag_y = np.nan_to_num(pd.read_csv(dataset_dir / 'Mag_y.txt', header=None, sep=' ', nrows=nrows).to_numpy())\n",
        "    print('Mag_y Import Done')\n",
        "    mag_z = np.nan_to_num(pd.read_csv(dataset_dir / 'Mag_z.txt', header=None, sep=' ', nrows=nrows).to_numpy())\n",
        "    print('Mag_z Import Done')\n",
        "    mag_mag = np.sqrt(mag_x**2 + mag_y**2 + mag_z**2)\n",
        "    print('Mag_mag Import Done')\n",
        "\n",
        "    gyr_x = np.nan_to_num(pd.read_csv(dataset_dir / 'Gyr_x.txt', header=None, sep=' ', nrows=nrows).to_numpy())\n",
        "    print('Gyr_x Import Done')\n",
        "    gyr_y = np.nan_to_num(pd.read_csv(dataset_dir / 'Gyr_y.txt', header=None, sep=' ', nrows=nrows).to_numpy())\n",
        "    print('Gyr_y Import Done')\n",
        "    gyr_z = np.nan_to_num(pd.read_csv(dataset_dir / 'Gyr_z.txt', header=None, sep=' ', nrows=nrows).to_numpy())\n",
        "    print('Gyr_z Import Done')\n",
        "    gyr_mag = np.sqrt(gyr_x**2 + gyr_y**2 + gyr_z**2)\n",
        "    print('Gyr_mag Import Done')\n",
        "\n",
        "    labels = np.nan_to_num(pd.read_csv(dataset_dir / 'Label.txt', header=None, sep=' ', nrows=nrows).mode(axis=1).to_numpy().flatten())\n",
        "    print('Labels Import Done')\n",
        "\n",
        "    return SHLDataset(\n",
        "        acc_x, acc_y, acc_z,\n",
        "        acc_mag,\n",
        "        mag_x, mag_y, mag_z, \n",
        "        mag_mag,\n",
        "        gyr_x, gyr_y, gyr_z, \n",
        "        gyr_mag,\n",
        "        labels\n",
        "    )\n",
        "\n",
        "\n",
        "def load_zipped_shl_dataset(zip_dir: pathlib.Path, tqdm=None, nrows=None, subdir_in_zip='train'):\n",
        "    with tempfile.TemporaryDirectory() as unzip_dir:\n",
        "        with zipfile.ZipFile(zip_dir, 'r') as zip_ref:\n",
        "            if tqdm:\n",
        "                for member in tqdm(zip_ref.infolist(), desc=f'Extracting {zip_dir}'):\n",
        "                    zip_ref.extract(member, unzip_dir)\n",
        "            else:\n",
        "                zip_ref.extractall(unzip_dir)\n",
        "\n",
        "        train_dir = pathlib.Path(unzip_dir) / subdir_in_zip\n",
        "        sub_dirs = [x for x in train_dir.iterdir() if train_dir.is_dir()]\n",
        "\n",
        "        result_dataset = None\n",
        "        for sub_dir in sub_dirs:\n",
        "            sub_dataset = load_shl_dataset(train_dir / sub_dir, nrows=nrows)\n",
        "            if result_dataset is None:\n",
        "                result_dataset = sub_dataset\n",
        "            else:\n",
        "                result_dataset.concat_inplace(sub_dataset)\n",
        "            del sub_dataset\n",
        "        return result_dataset"
      ]
    },
    {
      "cell_type": "code",
      "execution_count": null,
      "metadata": {
        "id": "0aReVK3Gfz88"
      },
      "outputs": [],
      "source": [
        "from pathlib import Path\n",
        "\n",
        "# We are going to train the models on a small subsample of the whole dataset\n",
        "# The assumption behind this is that traditional models require significantly\n",
        "# less amount of training data\n",
        "\n",
        "DATASET_DIRS = [\n",
        "    Path('shl-dataset/challenge-2019-train_torso.zip'),\n",
        "    Path('shl-dataset/challenge-2019-train_bag.zip'),\n",
        "    Path('shl-dataset/challenge-2019-train_hips.zip'),\n",
        "    Path('shl-dataset/challenge-2020-train_hand.zip'),\n",
        "]\n",
        "\n",
        "NROWS_PER_DATASET = 5000"
      ]
    },
    {
      "cell_type": "code",
      "execution_count": null,
      "metadata": {
        "id": "rJEzpUGyfz88"
      },
      "outputs": [],
      "source": [
        "import numpy as np\n",
        "\n",
        "from tqdm import tqdm\n",
        "from sklearn.utils.class_weight import compute_class_weight\n",
        "\n",
        "# Join all datasets\n",
        "acc_mag_conc = None\n",
        "mag_mag_conc = None\n",
        "gyr_mag_conc = None\n",
        "y_conc = None\n",
        "\n",
        "for dataset_dir in DATASET_DIRS:\n",
        "    # Load dataset from zip file into temporary directory\n",
        "    dataset = load_zipped_shl_dataset(dataset_dir, tqdm=tqdm, nrows=NROWS_PER_DATASET)\n",
        "    if acc_mag_conc is None:\n",
        "        acc_mag_conc = dataset.acc_mag\n",
        "    else:\n",
        "        acc_mag_conc = np.concatenate((acc_mag_conc, dataset.acc_mag), axis=0)\n",
        "    if mag_mag_conc is None:\n",
        "        mag_mag_conc = dataset.mag_mag\n",
        "    else:\n",
        "        mag_mag_conc = np.concatenate((mag_mag_conc, dataset.mag_mag), axis=0)\n",
        "    if gyr_mag_conc is None:\n",
        "        gyr_mag_conc = dataset.gyr_mag\n",
        "    else:    \n",
        "        gyr_mag_conc = np.concatenate((gyr_mag_conc, dataset.gyr_mag), axis=0)\n",
        "    if y_conc is None:\n",
        "        y_conc = dataset.labels\n",
        "    else:\n",
        "        y_conc = np.concatenate((y_conc, dataset.labels), axis=0)\n",
        "    del dataset"
      ]
    },
    {
      "cell_type": "code",
      "execution_count": null,
      "metadata": {
        "id": "sAU4md2ufz8-"
      },
      "outputs": [],
      "source": [
        "# Check that we don't have NaNs in our dataset\n",
        "assert not np.isnan(acc_mag_conc).any()\n",
        "assert not np.isnan(mag_mag_conc).any()\n",
        "assert not np.isnan(gyr_mag_conc).any()"
      ]
    },
    {
      "cell_type": "code",
      "execution_count": null,
      "metadata": {
        "id": "8jSRnGSgfz8_"
      },
      "outputs": [],
      "source": [
        "import joblib\n",
        "\n",
        "from sklearn.preprocessing import PowerTransformer\n",
        "\n",
        "acc_scaler = joblib.load('models/acc-scaler.joblib')\n",
        "mag_scaler = joblib.load('models/mag-scaler.joblib')\n",
        "gyr_scaler = joblib.load('models/gyr-scaler.joblib')"
      ]
    },
    {
      "cell_type": "code",
      "execution_count": null,
      "metadata": {
        "id": "YAjlRAubfz8_"
      },
      "outputs": [],
      "source": [
        "# Fit and export scalers\n",
        "acc_mag_scaled = acc_scaler.fit_transform(acc_mag_conc)\n",
        "del acc_mag_conc\n",
        "mag_mag_scaled = mag_scaler.fit_transform(mag_mag_conc)\n",
        "del mag_mag_conc\n",
        "gyr_mag_scaled = gyr_scaler.fit_transform(gyr_mag_conc)\n",
        "del gyr_mag_conc"
      ]
    },
    {
      "cell_type": "code",
      "execution_count": null,
      "metadata": {
        "id": "qES8ektMfz8_",
        "outputId": "c9093ca7-8380-4d9e-9a6b-62cbade1d1bb"
      },
      "outputs": [
        {
          "name": "stdout",
          "output_type": "stream",
          "text": [
            "X shape:  (20000, 24)\n",
            "y shape:  (20000,)\n",
            "Feature Extraction Done\n"
          ]
        }
      ],
      "source": [
        "import numpy as np\n",
        "\n",
        "from scipy import signal\n",
        "from scipy.special import entr\n",
        "\n",
        "\n",
        "def magnitude(x,y,z):\n",
        "  return np.sqrt(x**2 + y**2 + z**2)\n",
        "\n",
        "def entrop(pk,axis=0):\n",
        "     pk = pk / np.sum(pk, axis=axis, keepdims=True)\n",
        "     vec = entr(pk)\n",
        "     S = np.sum(vec, axis=axis)\n",
        "     return S\n",
        "\n",
        "def autocorr(x,axis=0):\n",
        "    result = np.correlate(x, x, mode='full')\n",
        "    return result[result.size // 2:]\n",
        "\n",
        "# Statistical Feature Calculation\n",
        "acc_mean = np.mean(acc_mag_scaled,axis=1)\n",
        "acc_std = np.std(acc_mag_scaled,axis=1)\n",
        "acc_max = np.max(acc_mag_scaled,axis=1)\n",
        "acc_min = np.min(acc_mag_scaled,axis=1)\n",
        "\n",
        "mag_mean = np.mean(mag_mag_scaled,axis=1)\n",
        "mag_std = np.std(mag_mag_scaled,axis=1)\n",
        "mag_max = np.max(mag_mag_scaled,axis=1)\n",
        "mag_min = np.min(mag_mag_scaled,axis=1)\n",
        "\n",
        "gyr_mean = np.mean(gyr_mag_scaled,axis=1)\n",
        "gyr_std = np.std(gyr_mag_scaled,axis=1)\n",
        "gyr_max = np.max(gyr_mag_scaled,axis=1)\n",
        "gyr_min = np.min(gyr_mag_scaled,axis=1)\n",
        "\n",
        "# Frequency Domain Feature Calculation\n",
        "fs = 100\n",
        "acc_FREQ,acc_PSD = signal.welch(acc_mag_scaled,fs,nperseg=500,axis=1)\n",
        "mag_FREQ,mag_PSD = signal.welch(mag_mag_scaled,fs,nperseg=500,axis=1)\n",
        "gyr_FREQ,gyr_PSD = signal.welch(gyr_mag_scaled,fs,nperseg=500,axis=1)\n",
        "\n",
        "# Max PSD value\n",
        "acc_PSDmax = np.max(acc_PSD,axis=1)\n",
        "mag_PSDmax = np.max(mag_PSD,axis=1)\n",
        "gyr_PSDmax = np.max(gyr_PSD,axis=1)\n",
        "acc_PSDmin = np.min(acc_PSD,axis=1)\n",
        "mag_PSDmin = np.min(mag_PSD,axis=1)\n",
        "gyr_PSDmin = np.min(gyr_PSD,axis=1)\n",
        "\n",
        "# Frequency Entropy\n",
        "acc_entropy = entrop(acc_PSD,axis=1)\n",
        "mag_entropy = entrop(mag_PSD,axis=1)\n",
        "gyr_entropy = entrop(gyr_PSD,axis=1)\n",
        "\n",
        "# Frequency Center\n",
        "acc_fc = np.sum((acc_FREQ*acc_PSD),axis=1) / np.sum(acc_PSD,axis=1)\n",
        "mag_fc = np.sum((mag_FREQ*mag_PSD),axis=1) / np.sum(mag_PSD,axis=1)\n",
        "gyr_fc = np.sum((gyr_FREQ*gyr_PSD),axis=1) / np.sum(gyr_PSD,axis=1)\n",
        "\n",
        "# Autocorrelation Calculation\n",
        "acc_acr = np.apply_along_axis(autocorr,1,acc_mag_scaled)\n",
        "mag_acr = np.apply_along_axis(autocorr,1,mag_mag_scaled)\n",
        "gyr_acr = np.apply_along_axis(autocorr,1,gyr_mag_scaled)\n",
        "\n",
        "acc_features = np.stack((acc_mean,acc_std,acc_max,acc_min,acc_PSDmax,acc_PSDmin,acc_entropy,acc_fc),axis=1)\n",
        "mag_features = np.stack((mag_mean,mag_std,mag_max,mag_min,mag_PSDmax,mag_PSDmin,mag_entropy,mag_fc),axis=1)\n",
        "gyr_features = np.stack((gyr_mean,gyr_std,gyr_max,gyr_min,gyr_PSDmax,gyr_PSDmin,gyr_entropy,gyr_fc),axis=1)\n",
        "\n",
        "X = np.concatenate([acc_features,mag_features,gyr_features],axis=1)\n",
        "\n",
        "print(\"X shape: \",X.shape)\n",
        "print(\"y shape: \",y_conc.shape)\n",
        "\n",
        "print(\"Feature Extraction Done\")"
      ]
    },
    {
      "cell_type": "code",
      "execution_count": null,
      "metadata": {
        "id": "y_TTiuYJfz9B",
        "outputId": "481d2261-51af-4f3e-ea29-7658a8ff4f80"
      },
      "outputs": [
        {
          "name": "stdout",
          "output_type": "stream",
          "text": [
            "Requirement already satisfied: imbalanced-learn in c:\\users\\anwender\\appdata\\local\\programs\\python\\python36\\lib\\site-packages (0.8.0)\n",
            "Requirement already satisfied: scikit-learn>=0.24 in c:\\users\\anwender\\appdata\\roaming\\python\\python36\\site-packages (from imbalanced-learn) (0.24.2)\n",
            "Requirement already satisfied: numpy>=1.13.3 in c:\\users\\anwender\\appdata\\local\\programs\\python\\python36\\lib\\site-packages (from imbalanced-learn) (1.16.4)\n",
            "Requirement already satisfied: scipy>=0.19.1 in c:\\users\\anwender\\appdata\\local\\programs\\python\\python36\\lib\\site-packages (from imbalanced-learn) (1.1.0)\n",
            "Requirement already satisfied: joblib>=0.11 in c:\\users\\anwender\\appdata\\local\\programs\\python\\python36\\lib\\site-packages (from imbalanced-learn) (0.13.2)\n",
            "Requirement already satisfied: threadpoolctl>=2.0.0 in c:\\users\\anwender\\appdata\\local\\programs\\python\\python36\\lib\\site-packages (from scikit-learn>=0.24->imbalanced-learn) (2.2.0)\n"
          ]
        },
        {
          "name": "stderr",
          "output_type": "stream",
          "text": [
            "You are using pip version 18.1, however version 21.2.2 is available.\n",
            "You should consider upgrading via the 'python -m pip install --upgrade pip' command.\n"
          ]
        }
      ],
      "source": [
        "# Install imblearn, a package with functionalities to balance our dataset\n",
        "import sys\n",
        "!{sys.executable} -m pip install imbalanced-learn"
      ]
    },
    {
      "cell_type": "code",
      "execution_count": null,
      "metadata": {
        "id": "OVfkNXx8fz9B"
      },
      "outputs": [],
      "source": [
        "from sklearn.model_selection import train_test_split\n",
        "\n",
        "X_train, X_test, y_train, y_test = train_test_split(X, y_conc, test_size=0.33, random_state=1337)"
      ]
    },
    {
      "cell_type": "code",
      "execution_count": null,
      "metadata": {
        "id": "BJAWc2aZfz9C"
      },
      "outputs": [],
      "source": [
        "# Weight train dataset classes using SMOTE\n",
        "from imblearn.over_sampling import SMOTE\n",
        "\n",
        "oversampler = SMOTE()\n",
        "X_train, y_train = oversampler.fit_resample(X_train, y_train)"
      ]
    },
    {
      "cell_type": "code",
      "execution_count": null,
      "metadata": {
        "id": "lHJjtfbGfz9C",
        "outputId": "7cf5da01-f922-4936-ca18-7c23ef1d9516"
      },
      "outputs": [
        {
          "name": "stdout",
          "output_type": "stream",
          "text": [
            "[1. 1. 1. 1. 1.]\n"
          ]
        }
      ],
      "source": [
        "# Check that classes are now balanced\n",
        "print(compute_class_weight('balanced', classes=np.unique(y_train), y=y_train))"
      ]
    },
    {
      "cell_type": "code",
      "execution_count": null,
      "metadata": {
        "id": "uGgxEqNYfz9D"
      },
      "outputs": [],
      "source": [
        "from sklearn.metrics import accuracy_score, f1_score\n",
        "from sklearn.neural_network import MLPClassifier\n",
        "from sklearn.neighbors import KNeighborsClassifier\n",
        "from sklearn.svm import SVC\n",
        "from sklearn.tree import DecisionTreeClassifier\n",
        "from sklearn.ensemble import RandomForestClassifier\n",
        "\n",
        "names = [\n",
        "    \"KNN\", \"SVM\",\n",
        "    \"DT\", \"RF\", \"MLP\",\n",
        "]\n",
        "\n",
        "classifiers = [\n",
        "    KNeighborsClassifier(3),\n",
        "    SVC(kernel=\"linear\", C=0.025),\n",
        "    DecisionTreeClassifier(max_depth=5),\n",
        "    RandomForestClassifier(max_depth=5, n_estimators=10, max_features=1),\n",
        "    MLPClassifier(alpha=1, max_iter=1000),\n",
        "]"
      ]
    },
    {
      "cell_type": "code",
      "execution_count": null,
      "metadata": {
        "id": "8IjxaJmZfz9D",
        "outputId": "597db214-c228-49e4-d7a6-d8c83e898e9e"
      },
      "outputs": [
        {
          "name": "stdout",
          "output_type": "stream",
          "text": [
            "Acc of KNN: 0.6665151515151515\n",
            "F1 of KNN: 0.6683342010733391\n",
            "Size of KNN in Bytes: 6710000\n",
            "Acc of SVM: 0.6357575757575757\n",
            "F1 of SVM: 0.6422544914428083\n",
            "Size of SVM in Bytes: 4666066\n",
            "Acc of DT: 0.6239393939393939\n",
            "F1 of DT: 0.6115928220416167\n",
            "Size of DT in Bytes: 7020\n",
            "Acc of RF: 0.6310606060606061\n",
            "F1 of RF: 0.6348319867600494\n",
            "Size of RF in Bytes: 58734\n",
            "Acc of MLP: 0.7031818181818181\n",
            "F1 of MLP: 0.7041660371422821\n",
            "Size of MLP in Bytes: 105138\n"
          ]
        }
      ],
      "source": [
        "import tempfile\n",
        "import os\n",
        "\n",
        "from joblib import dump\n",
        "\n",
        "accuracies = []\n",
        "f1scores = []\n",
        "model_sizes = []\n",
        "\n",
        "for model_name, model in zip(names, classifiers):\n",
        "    model.fit(X_train, y_train)\n",
        "    y_pred = model.predict(X_test)\n",
        "    accuracy = accuracy_score(y_test, y_pred)\n",
        "    accuracies.append(accuracy)\n",
        "    print(f'Acc of {model_name}: {accuracy}')\n",
        "    f1 = f1_score(y_test, y_pred, average='weighted')\n",
        "    f1scores.append(f1)\n",
        "    print(f'F1 of {model_name}: {f1}')\n",
        "\n",
        "    with tempfile.TemporaryDirectory() as tmp_dir:\n",
        "        filename = f\"{tmp_dir}/model.joblib\"\n",
        "        dump(model, filename)\n",
        "        model_size = os.path.getsize(filename)\n",
        "        model_sizes.append(model_size)\n",
        "        print(f'Size of {model_name} in Bytes: {model_size}')\n"
      ]
    },
    {
      "cell_type": "code",
      "execution_count": null,
      "metadata": {
        "id": "8fetkJzkfz9E",
        "outputId": "322d96c8-efeb-4959-ca7d-ec7ec8792a85"
      },
      "outputs": [
        {
          "data": {
            "image/png": "[encoded data removed]",
            "image/svg+xml": "<?xml version=\"1.0\" encoding=\"utf-8\" standalone=\"no\"?>\r\n<!DOCTYPE svg PUBLIC \"-//W3C//DTD SVG 1.1//EN\"\r\n  \"http://www.w3.org/Graphics/SVG/1.1/DTD/svg11.dtd\">\r\n<!-- Created with matplotlib (https://matplotlib.org/) -->\r\n<svg height=\"262.19625pt\" version=\"1.1\" viewBox=\"0 0 1063.523438 262.19625\" width=\"1063.523438pt\" xmlns=\"http://www.w3.org/2000/svg\" xmlns:xlink=\"http://www.w3.org/1999/xlink\">\r\n <defs>\r\n  <style type=\"text/css\">\r\n*{stroke-linecap:butt;stroke-linejoin:round;}\r\n  </style>\r\n </defs>\r\n <g id=\"figure_1\">\r\n  <g id=\"patch_1\">\r\n   <path d=\"M 0 262.19625 \r\nL 1063.523438 262.19625 \r\nL 1063.523438 0 \r\nL 0 0 \r\nz\r\n\" style=\"fill:none;\"/>\r\n  </g>\r\n  <g id=\"axes_1\">\r\n   <g id=\"patch_2\">\r\n    <path d=\"M 36.017188 224.64 \r\nL 331.428952 224.64 \r\nL 331.428952 7.2 \r\nL 36.017188 7.2 \r\nz\r\n\" style=\"fill:#ffffff;\"/>\r\n   </g>\r\n   <g id=\"patch_3\">\r\n    <path clip-path=\"url(#pc63a524dcf)\" d=\"M 36.017188 214.756364 \r\nL 232.913605 214.756364 \r\nL 232.913605 181.810909 \r\nL 36.017188 181.810909 \r\nz\r\n\" style=\"fill:#808080;\"/>\r\n   </g>\r\n   <g id=\"patch_4\">\r\n    <path clip-path=\"url(#pc63a524dcf)\" d=\"M 36.017188 173.574545 \r\nL 223.827455 173.574545 \r\nL 223.827455 140.629091 \r\nL 36.017188 140.629091 \r\nz\r\n\" style=\"fill:#808080;\"/>\r\n   </g>\r\n   <g id=\"patch_5\">\r\n    <path clip-path=\"url(#pc63a524dcf)\" d=\"M 36.017188 132.392727 \r\nL 220.336225 132.392727 \r\nL 220.336225 99.447273 \r\nL 36.017188 99.447273 \r\nz\r\n\" style=\"fill:#808080;\"/>\r\n   </g>\r\n   <g id=\"patch_6\">\r\n    <path clip-path=\"url(#pc63a524dcf)\" d=\"M 36.017188 91.210909 \r\nL 222.439915 91.210909 \r\nL 222.439915 58.265455 \r\nL 36.017188 58.265455 \r\nz\r\n\" style=\"fill:#808080;\"/>\r\n   </g>\r\n   <g id=\"patch_7\">\r\n    <path clip-path=\"url(#pc63a524dcf)\" d=\"M 36.017188 50.029091 \r\nL 243.745369 50.029091 \r\nL 243.745369 17.083636 \r\nL 36.017188 17.083636 \r\nz\r\n\" style=\"fill:#808080;\"/>\r\n   </g>\r\n   <g id=\"matplotlib.axis_1\">\r\n    <g id=\"xtick_1\">\r\n     <g id=\"line2d_1\">\r\n      <path clip-path=\"url(#pc63a524dcf)\" d=\"M 36.017188 224.64 \r\nL 36.017188 7.2 \r\n\" style=\"fill:none;stroke:#808080;stroke-dasharray:3.2,0.8,0.5,0.8;stroke-dashoffset:0;stroke-opacity:0.2;stroke-width:0.5;\"/>\r\n     </g>\r\n     <g id=\"line2d_2\">\r\n      <defs>\r\n       <path d=\"M 0 0 \r\nL 0 3.5 \r\n\" id=\"m94a7a27a0a\" style=\"stroke:#000000;stroke-width:0.8;\"/>\r\n      </defs>\r\n      <g>\r\n       <use style=\"stroke:#000000;stroke-width:0.8;\" x=\"36.017188\" xlink:href=\"#m94a7a27a0a\" y=\"224.64\"/>\r\n      </g>\r\n     </g>\r\n     <g id=\"text_1\">\r\n      <!-- 0 -->\r\n      <defs>\r\n       <path d=\"M 31.78125 66.40625 \r\nQ 24.171875 66.40625 20.328125 58.90625 \r\nQ 16.5 51.421875 16.5 36.375 \r\nQ 16.5 21.390625 20.328125 13.890625 \r\nQ 24.171875 6.390625 31.78125 6.390625 \r\nQ 39.453125 6.390625 43.28125 13.890625 \r\nQ 47.125 21.390625 47.125 36.375 \r\nQ 47.125 51.421875 43.28125 58.90625 \r\nQ 39.453125 66.40625 31.78125 66.40625 \r\nz\r\nM 31.78125 74.21875 \r\nQ 44.046875 74.21875 50.515625 64.515625 \r\nQ 56.984375 54.828125 56.984375 36.375 \r\nQ 56.984375 17.96875 50.515625 8.265625 \r\nQ 44.046875 -1.421875 31.78125 -1.421875 \r\nQ 19.53125 -1.421875 13.0625 8.265625 \r\nQ 6.59375 17.96875 6.59375 36.375 \r\nQ 6.59375 54.828125 13.0625 64.515625 \r\nQ 19.53125 74.21875 31.78125 74.21875 \r\nz\r\n\" id=\"DejaVuSans-48\"/>\r\n      </defs>\r\n      <g transform=\"translate(32.835938 239.238437)scale(0.1 -0.1)\">\r\n       <use xlink:href=\"#DejaVuSans-48\"/>\r\n      </g>\r\n     </g>\r\n    </g>\r\n    <g id=\"xtick_2\">\r\n     <g id=\"line2d_3\">\r\n      <path clip-path=\"url(#pc63a524dcf)\" d=\"M 95.09954 224.64 \r\nL 95.09954 7.2 \r\n\" style=\"fill:none;stroke:#808080;stroke-dasharray:3.2,0.8,0.5,0.8;stroke-dashoffset:0;stroke-opacity:0.2;stroke-width:0.5;\"/>\r\n     </g>\r\n     <g id=\"line2d_4\">\r\n      <g>\r\n       <use style=\"stroke:#000000;stroke-width:0.8;\" x=\"95.09954\" xlink:href=\"#m94a7a27a0a\" y=\"224.64\"/>\r\n      </g>\r\n     </g>\r\n     <g id=\"text_2\">\r\n      <!-- 20 -->\r\n      <defs>\r\n       <path d=\"M 19.1875 8.296875 \r\nL 53.609375 8.296875 \r\nL 53.609375 0 \r\nL 7.328125 0 \r\nL 7.328125 8.296875 \r\nQ 12.9375 14.109375 22.625 23.890625 \r\nQ 32.328125 33.6875 34.8125 36.53125 \r\nQ 39.546875 41.84375 41.421875 45.53125 \r\nQ 43.3125 49.21875 43.3125 52.78125 \r\nQ 43.3125 58.59375 39.234375 62.25 \r\nQ 35.15625 65.921875 28.609375 65.921875 \r\nQ 23.96875 65.921875 18.8125 64.3125 \r\nQ 13.671875 62.703125 7.8125 59.421875 \r\nL 7.8125 69.390625 \r\nQ 13.765625 71.78125 18.9375 73 \r\nQ 24.125 74.21875 28.421875 74.21875 \r\nQ 39.75 74.21875 46.484375 68.546875 \r\nQ 53.21875 62.890625 53.21875 53.421875 \r\nQ 53.21875 48.921875 51.53125 44.890625 \r\nQ 49.859375 40.875 45.40625 35.40625 \r\nQ 44.1875 33.984375 37.640625 27.21875 \r\nQ 31.109375 20.453125 19.1875 8.296875 \r\nz\r\n\" id=\"DejaVuSans-50\"/>\r\n      </defs>\r\n      <g transform=\"translate(88.73704 239.238437)scale(0.1 -0.1)\">\r\n       <use xlink:href=\"#DejaVuSans-50\"/>\r\n       <use x=\"63.623047\" xlink:href=\"#DejaVuSans-48\"/>\r\n      </g>\r\n     </g>\r\n    </g>\r\n    <g id=\"xtick_3\">\r\n     <g id=\"line2d_5\">\r\n      <path clip-path=\"url(#pc63a524dcf)\" d=\"M 154.181893 224.64 \r\nL 154.181893 7.2 \r\n\" style=\"fill:none;stroke:#808080;stroke-dasharray:3.2,0.8,0.5,0.8;stroke-dashoffset:0;stroke-opacity:0.2;stroke-width:0.5;\"/>\r\n     </g>\r\n     <g id=\"line2d_6\">\r\n      <g>\r\n       <use style=\"stroke:#000000;stroke-width:0.8;\" x=\"154.181893\" xlink:href=\"#m94a7a27a0a\" y=\"224.64\"/>\r\n      </g>\r\n     </g>\r\n     <g id=\"text_3\">\r\n      <!-- 40 -->\r\n      <defs>\r\n       <path d=\"M 37.796875 64.3125 \r\nL 12.890625 25.390625 \r\nL 37.796875 25.390625 \r\nz\r\nM 35.203125 72.90625 \r\nL 47.609375 72.90625 \r\nL 47.609375 25.390625 \r\nL 58.015625 25.390625 \r\nL 58.015625 17.1875 \r\nL 47.609375 17.1875 \r\nL 47.609375 0 \r\nL 37.796875 0 \r\nL 37.796875 17.1875 \r\nL 4.890625 17.1875 \r\nL 4.890625 26.703125 \r\nz\r\n\" id=\"DejaVuSans-52\"/>\r\n      </defs>\r\n      <g transform=\"translate(147.819393 239.238437)scale(0.1 -0.1)\">\r\n       <use xlink:href=\"#DejaVuSans-52\"/>\r\n       <use x=\"63.623047\" xlink:href=\"#DejaVuSans-48\"/>\r\n      </g>\r\n     </g>\r\n    </g>\r\n    <g id=\"xtick_4\">\r\n     <g id=\"line2d_7\">\r\n      <path clip-path=\"url(#pc63a524dcf)\" d=\"M 213.264246 224.64 \r\nL 213.264246 7.2 \r\n\" style=\"fill:none;stroke:#808080;stroke-dasharray:3.2,0.8,0.5,0.8;stroke-dashoffset:0;stroke-opacity:0.2;stroke-width:0.5;\"/>\r\n     </g>\r\n     <g id=\"line2d_8\">\r\n      <g>\r\n       <use style=\"stroke:#000000;stroke-width:0.8;\" x=\"213.264246\" xlink:href=\"#m94a7a27a0a\" y=\"224.64\"/>\r\n      </g>\r\n     </g>\r\n     <g id=\"text_4\">\r\n      <!-- 60 -->\r\n      <defs>\r\n       <path d=\"M 33.015625 40.375 \r\nQ 26.375 40.375 22.484375 35.828125 \r\nQ 18.609375 31.296875 18.609375 23.390625 \r\nQ 18.609375 15.53125 22.484375 10.953125 \r\nQ 26.375 6.390625 33.015625 6.390625 \r\nQ 39.65625 6.390625 43.53125 10.953125 \r\nQ 47.40625 15.53125 47.40625 23.390625 \r\nQ 47.40625 31.296875 43.53125 35.828125 \r\nQ 39.65625 40.375 33.015625 40.375 \r\nz\r\nM 52.59375 71.296875 \r\nL 52.59375 62.3125 \r\nQ 48.875 64.0625 45.09375 64.984375 \r\nQ 41.3125 65.921875 37.59375 65.921875 \r\nQ 27.828125 65.921875 22.671875 59.328125 \r\nQ 17.53125 52.734375 16.796875 39.40625 \r\nQ 19.671875 43.65625 24.015625 45.921875 \r\nQ 28.375 48.1875 33.59375 48.1875 \r\nQ 44.578125 48.1875 50.953125 41.515625 \r\nQ 57.328125 34.859375 57.328125 23.390625 \r\nQ 57.328125 12.15625 50.6875 5.359375 \r\nQ 44.046875 -1.421875 33.015625 -1.421875 \r\nQ 20.359375 -1.421875 13.671875 8.265625 \r\nQ 6.984375 17.96875 6.984375 36.375 \r\nQ 6.984375 53.65625 15.1875 63.9375 \r\nQ 23.390625 74.21875 37.203125 74.21875 \r\nQ 40.921875 74.21875 44.703125 73.484375 \r\nQ 48.484375 72.75 52.59375 71.296875 \r\nz\r\n\" id=\"DejaVuSans-54\"/>\r\n      </defs>\r\n      <g transform=\"translate(206.901746 239.238437)scale(0.1 -0.1)\">\r\n       <use xlink:href=\"#DejaVuSans-54\"/>\r\n       <use x=\"63.623047\" xlink:href=\"#DejaVuSans-48\"/>\r\n      </g>\r\n     </g>\r\n    </g>\r\n    <g id=\"xtick_5\">\r\n     <g id=\"line2d_9\">\r\n      <path clip-path=\"url(#pc63a524dcf)\" d=\"M 272.346599 224.64 \r\nL 272.346599 7.2 \r\n\" style=\"fill:none;stroke:#808080;stroke-dasharray:3.2,0.8,0.5,0.8;stroke-dashoffset:0;stroke-opacity:0.2;stroke-width:0.5;\"/>\r\n     </g>\r\n     <g id=\"line2d_10\">\r\n      <g>\r\n       <use style=\"stroke:#000000;stroke-width:0.8;\" x=\"272.346599\" xlink:href=\"#m94a7a27a0a\" y=\"224.64\"/>\r\n      </g>\r\n     </g>\r\n     <g id=\"text_5\">\r\n      <!-- 80 -->\r\n      <defs>\r\n       <path d=\"M 31.78125 34.625 \r\nQ 24.75 34.625 20.71875 30.859375 \r\nQ 16.703125 27.09375 16.703125 20.515625 \r\nQ 16.703125 13.921875 20.71875 10.15625 \r\nQ 24.75 6.390625 31.78125 6.390625 \r\nQ 38.8125 6.390625 42.859375 10.171875 \r\nQ 46.921875 13.96875 46.921875 20.515625 \r\nQ 46.921875 27.09375 42.890625 30.859375 \r\nQ 38.875 34.625 31.78125 34.625 \r\nz\r\nM 21.921875 38.8125 \r\nQ 15.578125 40.375 12.03125 44.71875 \r\nQ 8.5 49.078125 8.5 55.328125 \r\nQ 8.5 64.0625 14.71875 69.140625 \r\nQ 20.953125 74.21875 31.78125 74.21875 \r\nQ 42.671875 74.21875 48.875 69.140625 \r\nQ 55.078125 64.0625 55.078125 55.328125 \r\nQ 55.078125 49.078125 51.53125 44.71875 \r\nQ 48 40.375 41.703125 38.8125 \r\nQ 48.828125 37.15625 52.796875 32.3125 \r\nQ 56.78125 27.484375 56.78125 20.515625 \r\nQ 56.78125 9.90625 50.3125 4.234375 \r\nQ 43.84375 -1.421875 31.78125 -1.421875 \r\nQ 19.734375 -1.421875 13.25 4.234375 \r\nQ 6.78125 9.90625 6.78125 20.515625 \r\nQ 6.78125 27.484375 10.78125 32.3125 \r\nQ 14.796875 37.15625 21.921875 38.8125 \r\nz\r\nM 18.3125 54.390625 \r\nQ 18.3125 48.734375 21.84375 45.5625 \r\nQ 25.390625 42.390625 31.78125 42.390625 \r\nQ 38.140625 42.390625 41.71875 45.5625 \r\nQ 45.3125 48.734375 45.3125 54.390625 \r\nQ 45.3125 60.0625 41.71875 63.234375 \r\nQ 38.140625 66.40625 31.78125 66.40625 \r\nQ 25.390625 66.40625 21.84375 63.234375 \r\nQ 18.3125 60.0625 18.3125 54.390625 \r\nz\r\n\" id=\"DejaVuSans-56\"/>\r\n      </defs>\r\n      <g transform=\"translate(265.984099 239.238437)scale(0.1 -0.1)\">\r\n       <use xlink:href=\"#DejaVuSans-56\"/>\r\n       <use x=\"63.623047\" xlink:href=\"#DejaVuSans-48\"/>\r\n      </g>\r\n     </g>\r\n    </g>\r\n    <g id=\"xtick_6\">\r\n     <g id=\"line2d_11\">\r\n      <path clip-path=\"url(#pc63a524dcf)\" d=\"M 331.428952 224.64 \r\nL 331.428952 7.2 \r\n\" style=\"fill:none;stroke:#808080;stroke-dasharray:3.2,0.8,0.5,0.8;stroke-dashoffset:0;stroke-opacity:0.2;stroke-width:0.5;\"/>\r\n     </g>\r\n     <g id=\"line2d_12\">\r\n      <g>\r\n       <use style=\"stroke:#000000;stroke-width:0.8;\" x=\"331.428952\" xlink:href=\"#m94a7a27a0a\" y=\"224.64\"/>\r\n      </g>\r\n     </g>\r\n     <g id=\"text_6\">\r\n      <!-- 100 -->\r\n      <defs>\r\n       <path d=\"M 12.40625 8.296875 \r\nL 28.515625 8.296875 \r\nL 28.515625 63.921875 \r\nL 10.984375 60.40625 \r\nL 10.984375 69.390625 \r\nL 28.421875 72.90625 \r\nL 38.28125 72.90625 \r\nL 38.28125 8.296875 \r\nL 54.390625 8.296875 \r\nL 54.390625 0 \r\nL 12.40625 0 \r\nz\r\n\" id=\"DejaVuSans-49\"/>\r\n      </defs>\r\n      <g transform=\"translate(321.885202 239.238437)scale(0.1 -0.1)\">\r\n       <use xlink:href=\"#DejaVuSans-49\"/>\r\n       <use x=\"63.623047\" xlink:href=\"#DejaVuSans-48\"/>\r\n       <use x=\"127.246094\" xlink:href=\"#DejaVuSans-48\"/>\r\n      </g>\r\n     </g>\r\n    </g>\r\n    <g id=\"text_7\">\r\n     <!-- Accuracy in % -->\r\n     <defs>\r\n      <path d=\"M 34.1875 63.1875 \r\nL 20.796875 26.90625 \r\nL 47.609375 26.90625 \r\nz\r\nM 28.609375 72.90625 \r\nL 39.796875 72.90625 \r\nL 67.578125 0 \r\nL 57.328125 0 \r\nL 50.6875 18.703125 \r\nL 17.828125 18.703125 \r\nL 11.1875 0 \r\nL 0.78125 0 \r\nz\r\n\" id=\"DejaVuSans-65\"/>\r\n      <path d=\"M 48.78125 52.59375 \r\nL 48.78125 44.1875 \r\nQ 44.96875 46.296875 41.140625 47.34375 \r\nQ 37.3125 48.390625 33.40625 48.390625 \r\nQ 24.65625 48.390625 19.8125 42.84375 \r\nQ 14.984375 37.3125 14.984375 27.296875 \r\nQ 14.984375 17.28125 19.8125 11.734375 \r\nQ 24.65625 6.203125 33.40625 6.203125 \r\nQ 37.3125 6.203125 41.140625 7.25 \r\nQ 44.96875 8.296875 48.78125 10.40625 \r\nL 48.78125 2.09375 \r\nQ 45.015625 0.34375 40.984375 -0.53125 \r\nQ 36.96875 -1.421875 32.421875 -1.421875 \r\nQ 20.0625 -1.421875 12.78125 6.34375 \r\nQ 5.515625 14.109375 5.515625 27.296875 \r\nQ 5.515625 40.671875 12.859375 48.328125 \r\nQ 20.21875 56 33.015625 56 \r\nQ 37.15625 56 41.109375 55.140625 \r\nQ 45.0625 54.296875 48.78125 52.59375 \r\nz\r\n\" id=\"DejaVuSans-99\"/>\r\n      <path d=\"M 8.5 21.578125 \r\nL 8.5 54.6875 \r\nL 17.484375 54.6875 \r\nL 17.484375 21.921875 \r\nQ 17.484375 14.15625 20.5 10.265625 \r\nQ 23.53125 6.390625 29.59375 6.390625 \r\nQ 36.859375 6.390625 41.078125 11.03125 \r\nQ 45.3125 15.671875 45.3125 23.6875 \r\nL 45.3125 54.6875 \r\nL 54.296875 54.6875 \r\nL 54.296875 0 \r\nL 45.3125 0 \r\nL 45.3125 8.40625 \r\nQ 42.046875 3.421875 37.71875 1 \r\nQ 33.40625 -1.421875 27.6875 -1.421875 \r\nQ 18.265625 -1.421875 13.375 4.4375 \r\nQ 8.5 10.296875 8.5 21.578125 \r\nz\r\nM 31.109375 56 \r\nz\r\n\" id=\"DejaVuSans-117\"/>\r\n      <path d=\"M 41.109375 46.296875 \r\nQ 39.59375 47.171875 37.8125 47.578125 \r\nQ 36.03125 48 33.890625 48 \r\nQ 26.265625 48 22.1875 43.046875 \r\nQ 18.109375 38.09375 18.109375 28.8125 \r\nL 18.109375 0 \r\nL 9.078125 0 \r\nL 9.078125 54.6875 \r\nL 18.109375 54.6875 \r\nL 18.109375 46.1875 \r\nQ 20.953125 51.171875 25.484375 53.578125 \r\nQ 30.03125 56 36.53125 56 \r\nQ 37.453125 56 38.578125 55.875 \r\nQ 39.703125 55.765625 41.0625 55.515625 \r\nz\r\n\" id=\"DejaVuSans-114\"/>\r\n      <path d=\"M 34.28125 27.484375 \r\nQ 23.390625 27.484375 19.1875 25 \r\nQ 14.984375 22.515625 14.984375 16.5 \r\nQ 14.984375 11.71875 18.140625 8.90625 \r\nQ 21.296875 6.109375 26.703125 6.109375 \r\nQ 34.1875 6.109375 38.703125 11.40625 \r\nQ 43.21875 16.703125 43.21875 25.484375 \r\nL 43.21875 27.484375 \r\nz\r\nM 52.203125 31.203125 \r\nL 52.203125 0 \r\nL 43.21875 0 \r\nL 43.21875 8.296875 \r\nQ 40.140625 3.328125 35.546875 0.953125 \r\nQ 30.953125 -1.421875 24.3125 -1.421875 \r\nQ 15.921875 -1.421875 10.953125 3.296875 \r\nQ 6 8.015625 6 15.921875 \r\nQ 6 25.140625 12.171875 29.828125 \r\nQ 18.359375 34.515625 30.609375 34.515625 \r\nL 43.21875 34.515625 \r\nL 43.21875 35.40625 \r\nQ 43.21875 41.609375 39.140625 45 \r\nQ 35.0625 48.390625 27.6875 48.390625 \r\nQ 23 48.390625 18.546875 47.265625 \r\nQ 14.109375 46.140625 10.015625 43.890625 \r\nL 10.015625 52.203125 \r\nQ 14.9375 54.109375 19.578125 55.046875 \r\nQ 24.21875 56 28.609375 56 \r\nQ 40.484375 56 46.34375 49.84375 \r\nQ 52.203125 43.703125 52.203125 31.203125 \r\nz\r\n\" id=\"DejaVuSans-97\"/>\r\n      <path d=\"M 32.171875 -5.078125 \r\nQ 28.375 -14.84375 24.75 -17.8125 \r\nQ 21.140625 -20.796875 15.09375 -20.796875 \r\nL 7.90625 -20.796875 \r\nL 7.90625 -13.28125 \r\nL 13.1875 -13.28125 \r\nQ 16.890625 -13.28125 18.9375 -11.515625 \r\nQ 21 -9.765625 23.484375 -3.21875 \r\nL 25.09375 0.875 \r\nL 2.984375 54.6875 \r\nL 12.5 54.6875 \r\nL 29.59375 11.921875 \r\nL 46.6875 54.6875 \r\nL 56.203125 54.6875 \r\nz\r\n\" id=\"DejaVuSans-121\"/>\r\n      <path id=\"DejaVuSans-32\"/>\r\n      <path d=\"M 9.421875 54.6875 \r\nL 18.40625 54.6875 \r\nL 18.40625 0 \r\nL 9.421875 0 \r\nz\r\nM 9.421875 75.984375 \r\nL 18.40625 75.984375 \r\nL 18.40625 64.59375 \r\nL 9.421875 64.59375 \r\nz\r\n\" id=\"DejaVuSans-105\"/>\r\n      <path d=\"M 54.890625 33.015625 \r\nL 54.890625 0 \r\nL 45.90625 0 \r\nL 45.90625 32.71875 \r\nQ 45.90625 40.484375 42.875 44.328125 \r\nQ 39.84375 48.1875 33.796875 48.1875 \r\nQ 26.515625 48.1875 22.3125 43.546875 \r\nQ 18.109375 38.921875 18.109375 30.90625 \r\nL 18.109375 0 \r\nL 9.078125 0 \r\nL 9.078125 54.6875 \r\nL 18.109375 54.6875 \r\nL 18.109375 46.1875 \r\nQ 21.34375 51.125 25.703125 53.5625 \r\nQ 30.078125 56 35.796875 56 \r\nQ 45.21875 56 50.046875 50.171875 \r\nQ 54.890625 44.34375 54.890625 33.015625 \r\nz\r\n\" id=\"DejaVuSans-110\"/>\r\n      <path d=\"M 72.703125 32.078125 \r\nQ 68.453125 32.078125 66.03125 28.46875 \r\nQ 63.625 24.859375 63.625 18.40625 \r\nQ 63.625 12.0625 66.03125 8.421875 \r\nQ 68.453125 4.78125 72.703125 4.78125 \r\nQ 76.859375 4.78125 79.265625 8.421875 \r\nQ 81.6875 12.0625 81.6875 18.40625 \r\nQ 81.6875 24.8125 79.265625 28.4375 \r\nQ 76.859375 32.078125 72.703125 32.078125 \r\nz\r\nM 72.703125 38.28125 \r\nQ 80.421875 38.28125 84.953125 32.90625 \r\nQ 89.5 27.546875 89.5 18.40625 \r\nQ 89.5 9.28125 84.9375 3.921875 \r\nQ 80.375 -1.421875 72.703125 -1.421875 \r\nQ 64.890625 -1.421875 60.34375 3.921875 \r\nQ 55.8125 9.28125 55.8125 18.40625 \r\nQ 55.8125 27.59375 60.375 32.9375 \r\nQ 64.9375 38.28125 72.703125 38.28125 \r\nz\r\nM 22.3125 68.015625 \r\nQ 18.109375 68.015625 15.6875 64.375 \r\nQ 13.28125 60.75 13.28125 54.390625 \r\nQ 13.28125 47.953125 15.671875 44.328125 \r\nQ 18.0625 40.71875 22.3125 40.71875 \r\nQ 26.5625 40.71875 28.96875 44.328125 \r\nQ 31.390625 47.953125 31.390625 54.390625 \r\nQ 31.390625 60.6875 28.953125 64.34375 \r\nQ 26.515625 68.015625 22.3125 68.015625 \r\nz\r\nM 66.40625 74.21875 \r\nL 74.21875 74.21875 \r\nL 28.609375 -1.421875 \r\nL 20.796875 -1.421875 \r\nz\r\nM 22.3125 74.21875 \r\nQ 30.03125 74.21875 34.609375 68.875 \r\nQ 39.203125 63.53125 39.203125 54.390625 \r\nQ 39.203125 45.171875 34.640625 39.84375 \r\nQ 30.078125 34.515625 22.3125 34.515625 \r\nQ 14.546875 34.515625 10.03125 39.859375 \r\nQ 5.515625 45.21875 5.515625 54.390625 \r\nQ 5.515625 63.484375 10.046875 68.84375 \r\nQ 14.59375 74.21875 22.3125 74.21875 \r\nz\r\n\" id=\"DejaVuSans-37\"/>\r\n     </defs>\r\n     <g transform=\"translate(148.321507 252.916562)scale(0.1 -0.1)\">\r\n      <use xlink:href=\"#DejaVuSans-65\"/>\r\n      <use x=\"68.392578\" xlink:href=\"#DejaVuSans-99\"/>\r\n      <use x=\"123.373047\" xlink:href=\"#DejaVuSans-99\"/>\r\n      <use x=\"178.353516\" xlink:href=\"#DejaVuSans-117\"/>\r\n      <use x=\"241.732422\" xlink:href=\"#DejaVuSans-114\"/>\r\n      <use x=\"282.845703\" xlink:href=\"#DejaVuSans-97\"/>\r\n      <use x=\"344.125\" xlink:href=\"#DejaVuSans-99\"/>\r\n      <use x=\"399.105469\" xlink:href=\"#DejaVuSans-121\"/>\r\n      <use x=\"458.285156\" xlink:href=\"#DejaVuSans-32\"/>\r\n      <use x=\"490.072266\" xlink:href=\"#DejaVuSans-105\"/>\r\n      <use x=\"517.855469\" xlink:href=\"#DejaVuSans-110\"/>\r\n      <use x=\"581.234375\" xlink:href=\"#DejaVuSans-32\"/>\r\n      <use x=\"613.021484\" xlink:href=\"#DejaVuSans-37\"/>\r\n     </g>\r\n    </g>\r\n   </g>\r\n   <g id=\"matplotlib.axis_2\">\r\n    <g id=\"ytick_1\">\r\n     <g id=\"line2d_13\">\r\n      <path clip-path=\"url(#pc63a524dcf)\" d=\"M 36.017188 198.283636 \r\nL 331.428952 198.283636 \r\n\" style=\"fill:none;stroke:#808080;stroke-dasharray:3.2,0.8,0.5,0.8;stroke-dashoffset:0;stroke-opacity:0.2;stroke-width:0.5;\"/>\r\n     </g>\r\n     <g id=\"line2d_14\">\r\n      <defs>\r\n       <path d=\"M 0 0 \r\nL -3.5 0 \r\n\" id=\"m547001c4ee\" style=\"stroke:#000000;stroke-width:0.8;\"/>\r\n      </defs>\r\n      <g>\r\n       <use style=\"stroke:#000000;stroke-width:0.8;\" x=\"36.017188\" xlink:href=\"#m547001c4ee\" y=\"198.283636\"/>\r\n      </g>\r\n     </g>\r\n     <g id=\"text_8\">\r\n      <!-- KNN -->\r\n      <defs>\r\n       <path d=\"M 9.8125 72.90625 \r\nL 19.671875 72.90625 \r\nL 19.671875 42.09375 \r\nL 52.390625 72.90625 \r\nL 65.09375 72.90625 \r\nL 28.90625 38.921875 \r\nL 67.671875 0 \r\nL 54.6875 0 \r\nL 19.671875 35.109375 \r\nL 19.671875 0 \r\nL 9.8125 0 \r\nz\r\n\" id=\"DejaVuSans-75\"/>\r\n       <path d=\"M 9.8125 72.90625 \r\nL 23.09375 72.90625 \r\nL 55.421875 11.921875 \r\nL 55.421875 72.90625 \r\nL 64.984375 72.90625 \r\nL 64.984375 0 \r\nL 51.703125 0 \r\nL 19.390625 60.984375 \r\nL 19.390625 0 \r\nL 9.8125 0 \r\nz\r\n\" id=\"DejaVuSans-78\"/>\r\n      </defs>\r\n      <g transform=\"translate(7.496875 202.082855)scale(0.1 -0.1)\">\r\n       <use xlink:href=\"#DejaVuSans-75\"/>\r\n       <use x=\"65.576172\" xlink:href=\"#DejaVuSans-78\"/>\r\n       <use x=\"140.380859\" xlink:href=\"#DejaVuSans-78\"/>\r\n      </g>\r\n     </g>\r\n    </g>\r\n    <g id=\"ytick_2\">\r\n     <g id=\"line2d_15\">\r\n      <path clip-path=\"url(#pc63a524dcf)\" d=\"M 36.017188 157.101818 \r\nL 331.428952 157.101818 \r\n\" style=\"fill:none;stroke:#808080;stroke-dasharray:3.2,0.8,0.5,0.8;stroke-dashoffset:0;stroke-opacity:0.2;stroke-width:0.5;\"/>\r\n     </g>\r\n     <g id=\"line2d_16\">\r\n      <g>\r\n       <use style=\"stroke:#000000;stroke-width:0.8;\" x=\"36.017188\" xlink:href=\"#m547001c4ee\" y=\"157.101818\"/>\r\n      </g>\r\n     </g>\r\n     <g id=\"text_9\">\r\n      <!-- SVM -->\r\n      <defs>\r\n       <path d=\"M 53.515625 70.515625 \r\nL 53.515625 60.890625 \r\nQ 47.90625 63.578125 42.921875 64.890625 \r\nQ 37.9375 66.21875 33.296875 66.21875 \r\nQ 25.25 66.21875 20.875 63.09375 \r\nQ 16.5 59.96875 16.5 54.203125 \r\nQ 16.5 49.359375 19.40625 46.890625 \r\nQ 22.3125 44.4375 30.421875 42.921875 \r\nL 36.375 41.703125 \r\nQ 47.40625 39.59375 52.65625 34.296875 \r\nQ 57.90625 29 57.90625 20.125 \r\nQ 57.90625 9.515625 50.796875 4.046875 \r\nQ 43.703125 -1.421875 29.984375 -1.421875 \r\nQ 24.8125 -1.421875 18.96875 -0.25 \r\nQ 13.140625 0.921875 6.890625 3.21875 \r\nL 6.890625 13.375 \r\nQ 12.890625 10.015625 18.65625 8.296875 \r\nQ 24.421875 6.59375 29.984375 6.59375 \r\nQ 38.421875 6.59375 43.015625 9.90625 \r\nQ 47.609375 13.234375 47.609375 19.390625 \r\nQ 47.609375 24.75 44.3125 27.78125 \r\nQ 41.015625 30.8125 33.5 32.328125 \r\nL 27.484375 33.5 \r\nQ 16.453125 35.6875 11.515625 40.375 \r\nQ 6.59375 45.0625 6.59375 53.421875 \r\nQ 6.59375 63.09375 13.40625 68.65625 \r\nQ 20.21875 74.21875 32.171875 74.21875 \r\nQ 37.3125 74.21875 42.625 73.28125 \r\nQ 47.953125 72.359375 53.515625 70.515625 \r\nz\r\n\" id=\"DejaVuSans-83\"/>\r\n       <path d=\"M 28.609375 0 \r\nL 0.78125 72.90625 \r\nL 11.078125 72.90625 \r\nL 34.1875 11.53125 \r\nL 57.328125 72.90625 \r\nL 67.578125 72.90625 \r\nL 39.796875 0 \r\nz\r\n\" id=\"DejaVuSans-86\"/>\r\n       <path d=\"M 9.8125 72.90625 \r\nL 24.515625 72.90625 \r\nL 43.109375 23.296875 \r\nL 61.8125 72.90625 \r\nL 76.515625 72.90625 \r\nL 76.515625 0 \r\nL 66.890625 0 \r\nL 66.890625 64.015625 \r\nL 48.09375 14.015625 \r\nL 38.1875 14.015625 \r\nL 19.390625 64.015625 \r\nL 19.390625 0 \r\nL 9.8125 0 \r\nz\r\n\" id=\"DejaVuSans-77\"/>\r\n      </defs>\r\n      <g transform=\"translate(7.2 160.901037)scale(0.1 -0.1)\">\r\n       <use xlink:href=\"#DejaVuSans-83\"/>\r\n       <use x=\"63.476562\" xlink:href=\"#DejaVuSans-86\"/>\r\n       <use x=\"131.884766\" xlink:href=\"#DejaVuSans-77\"/>\r\n      </g>\r\n     </g>\r\n    </g>\r\n    <g id=\"ytick_3\">\r\n     <g id=\"line2d_17\">\r\n      <path clip-path=\"url(#pc63a524dcf)\" d=\"M 36.017188 115.92 \r\nL 331.428952 115.92 \r\n\" style=\"fill:none;stroke:#808080;stroke-dasharray:3.2,0.8,0.5,0.8;stroke-dashoffset:0;stroke-opacity:0.2;stroke-width:0.5;\"/>\r\n     </g>\r\n     <g id=\"line2d_18\">\r\n      <g>\r\n       <use style=\"stroke:#000000;stroke-width:0.8;\" x=\"36.017188\" xlink:href=\"#m547001c4ee\" y=\"115.92\"/>\r\n      </g>\r\n     </g>\r\n     <g id=\"text_10\">\r\n      <!-- DT -->\r\n      <defs>\r\n       <path d=\"M 19.671875 64.796875 \r\nL 19.671875 8.109375 \r\nL 31.59375 8.109375 \r\nQ 46.6875 8.109375 53.6875 14.9375 \r\nQ 60.6875 21.78125 60.6875 36.53125 \r\nQ 60.6875 51.171875 53.6875 57.984375 \r\nQ 46.6875 64.796875 31.59375 64.796875 \r\nz\r\nM 9.8125 72.90625 \r\nL 30.078125 72.90625 \r\nQ 51.265625 72.90625 61.171875 64.09375 \r\nQ 71.09375 55.28125 71.09375 36.53125 \r\nQ 71.09375 17.671875 61.125 8.828125 \r\nQ 51.171875 0 30.078125 0 \r\nL 9.8125 0 \r\nz\r\n\" id=\"DejaVuSans-68\"/>\r\n       <path d=\"M -0.296875 72.90625 \r\nL 61.375 72.90625 \r\nL 61.375 64.59375 \r\nL 35.5 64.59375 \r\nL 35.5 0 \r\nL 25.59375 0 \r\nL 25.59375 64.59375 \r\nL -0.296875 64.59375 \r\nz\r\n\" id=\"DejaVuSans-84\"/>\r\n      </defs>\r\n      <g transform=\"translate(15.209375 119.719219)scale(0.1 -0.1)\">\r\n       <use xlink:href=\"#DejaVuSans-68\"/>\r\n       <use x=\"77.001953\" xlink:href=\"#DejaVuSans-84\"/>\r\n      </g>\r\n     </g>\r\n    </g>\r\n    <g id=\"ytick_4\">\r\n     <g id=\"line2d_19\">\r\n      <path clip-path=\"url(#pc63a524dcf)\" d=\"M 36.017188 74.738182 \r\nL 331.428952 74.738182 \r\n\" style=\"fill:none;stroke:#808080;stroke-dasharray:3.2,0.8,0.5,0.8;stroke-dashoffset:0;stroke-opacity:0.2;stroke-width:0.5;\"/>\r\n     </g>\r\n     <g id=\"line2d_20\">\r\n      <g>\r\n       <use style=\"stroke:#000000;stroke-width:0.8;\" x=\"36.017188\" xlink:href=\"#m547001c4ee\" y=\"74.738182\"/>\r\n      </g>\r\n     </g>\r\n     <g id=\"text_11\">\r\n      <!-- RF -->\r\n      <defs>\r\n       <path d=\"M 44.390625 34.1875 \r\nQ 47.5625 33.109375 50.5625 29.59375 \r\nQ 53.5625 26.078125 56.59375 19.921875 \r\nL 66.609375 0 \r\nL 56 0 \r\nL 46.6875 18.703125 \r\nQ 43.0625 26.03125 39.671875 28.421875 \r\nQ 36.28125 30.8125 30.421875 30.8125 \r\nL 19.671875 30.8125 \r\nL 19.671875 0 \r\nL 9.8125 0 \r\nL 9.8125 72.90625 \r\nL 32.078125 72.90625 \r\nQ 44.578125 72.90625 50.734375 67.671875 \r\nQ 56.890625 62.453125 56.890625 51.90625 \r\nQ 56.890625 45.015625 53.6875 40.46875 \r\nQ 50.484375 35.9375 44.390625 34.1875 \r\nz\r\nM 19.671875 64.796875 \r\nL 19.671875 38.921875 \r\nL 32.078125 38.921875 \r\nQ 39.203125 38.921875 42.84375 42.21875 \r\nQ 46.484375 45.515625 46.484375 51.90625 \r\nQ 46.484375 58.296875 42.84375 61.546875 \r\nQ 39.203125 64.796875 32.078125 64.796875 \r\nz\r\n\" id=\"DejaVuSans-82\"/>\r\n       <path d=\"M 9.8125 72.90625 \r\nL 51.703125 72.90625 \r\nL 51.703125 64.59375 \r\nL 19.671875 64.59375 \r\nL 19.671875 43.109375 \r\nL 48.578125 43.109375 \r\nL 48.578125 34.8125 \r\nL 19.671875 34.8125 \r\nL 19.671875 0 \r\nL 9.8125 0 \r\nz\r\n\" id=\"DejaVuSans-70\"/>\r\n      </defs>\r\n      <g transform=\"translate(16.317188 78.537401)scale(0.1 -0.1)\">\r\n       <use xlink:href=\"#DejaVuSans-82\"/>\r\n       <use x=\"69.482422\" xlink:href=\"#DejaVuSans-70\"/>\r\n      </g>\r\n     </g>\r\n    </g>\r\n    <g id=\"ytick_5\">\r\n     <g id=\"line2d_21\">\r\n      <path clip-path=\"url(#pc63a524dcf)\" d=\"M 36.017188 33.556364 \r\nL 331.428952 33.556364 \r\n\" style=\"fill:none;stroke:#808080;stroke-dasharray:3.2,0.8,0.5,0.8;stroke-dashoffset:0;stroke-opacity:0.2;stroke-width:0.5;\"/>\r\n     </g>\r\n     <g id=\"line2d_22\">\r\n      <g>\r\n       <use style=\"stroke:#000000;stroke-width:0.8;\" x=\"36.017188\" xlink:href=\"#m547001c4ee\" y=\"33.556364\"/>\r\n      </g>\r\n     </g>\r\n     <g id=\"text_12\">\r\n      <!-- MLP -->\r\n      <defs>\r\n       <path d=\"M 9.8125 72.90625 \r\nL 19.671875 72.90625 \r\nL 19.671875 8.296875 \r\nL 55.171875 8.296875 \r\nL 55.171875 0 \r\nL 9.8125 0 \r\nz\r\n\" id=\"DejaVuSans-76\"/>\r\n       <path d=\"M 19.671875 64.796875 \r\nL 19.671875 37.40625 \r\nL 32.078125 37.40625 \r\nQ 38.96875 37.40625 42.71875 40.96875 \r\nQ 46.484375 44.53125 46.484375 51.125 \r\nQ 46.484375 57.671875 42.71875 61.234375 \r\nQ 38.96875 64.796875 32.078125 64.796875 \r\nz\r\nM 9.8125 72.90625 \r\nL 32.078125 72.90625 \r\nQ 44.34375 72.90625 50.609375 67.359375 \r\nQ 56.890625 61.8125 56.890625 51.125 \r\nQ 56.890625 40.328125 50.609375 34.8125 \r\nQ 44.34375 29.296875 32.078125 29.296875 \r\nL 19.671875 29.296875 \r\nL 19.671875 0 \r\nL 9.8125 0 \r\nz\r\n\" id=\"DejaVuSans-80\"/>\r\n      </defs>\r\n      <g transform=\"translate(8.7875 37.355582)scale(0.1 -0.1)\">\r\n       <use xlink:href=\"#DejaVuSans-77\"/>\r\n       <use x=\"86.279297\" xlink:href=\"#DejaVuSans-76\"/>\r\n       <use x=\"141.992188\" xlink:href=\"#DejaVuSans-80\"/>\r\n      </g>\r\n     </g>\r\n    </g>\r\n   </g>\r\n   <g id=\"patch_8\">\r\n    <path d=\"M 36.017188 224.64 \r\nL 36.017188 7.2 \r\n\" style=\"fill:none;stroke:#000000;stroke-linecap:square;stroke-linejoin:miter;stroke-width:0.8;\"/>\r\n   </g>\r\n   <g id=\"patch_9\">\r\n    <path d=\"M 331.428952 224.64 \r\nL 331.428952 7.2 \r\n\" style=\"fill:none;stroke:#000000;stroke-linecap:square;stroke-linejoin:miter;stroke-width:0.8;\"/>\r\n   </g>\r\n   <g id=\"patch_10\">\r\n    <path d=\"M 36.017188 224.64 \r\nL 331.428952 224.64 \r\n\" style=\"fill:none;stroke:#000000;stroke-linecap:square;stroke-linejoin:miter;stroke-width:0.8;\"/>\r\n   </g>\r\n   <g id=\"patch_11\">\r\n    <path d=\"M 36.017188 7.2 \r\nL 331.428952 7.2 \r\n\" style=\"fill:none;stroke:#000000;stroke-linecap:square;stroke-linejoin:miter;stroke-width:0.8;\"/>\r\n   </g>\r\n   <g id=\"text_13\">\r\n    <!-- 66.65% -->\r\n    <defs>\r\n     <path d=\"M 10.6875 12.40625 \r\nL 21 12.40625 \r\nL 21 0 \r\nL 10.6875 0 \r\nz\r\n\" id=\"DejaVuSans-46\"/>\r\n     <path d=\"M 10.796875 72.90625 \r\nL 49.515625 72.90625 \r\nL 49.515625 64.59375 \r\nL 19.828125 64.59375 \r\nL 19.828125 46.734375 \r\nQ 21.96875 47.46875 24.109375 47.828125 \r\nQ 26.265625 48.1875 28.421875 48.1875 \r\nQ 40.625 48.1875 47.75 41.5 \r\nQ 54.890625 34.8125 54.890625 23.390625 \r\nQ 54.890625 11.625 47.5625 5.09375 \r\nQ 40.234375 -1.421875 26.90625 -1.421875 \r\nQ 22.3125 -1.421875 17.546875 -0.640625 \r\nQ 12.796875 0.140625 7.71875 1.703125 \r\nL 7.71875 11.625 \r\nQ 12.109375 9.234375 16.796875 8.0625 \r\nQ 21.484375 6.890625 26.703125 6.890625 \r\nQ 35.15625 6.890625 40.078125 11.328125 \r\nQ 45.015625 15.765625 45.015625 23.390625 \r\nQ 45.015625 31 40.078125 35.4375 \r\nQ 35.15625 39.890625 26.703125 39.890625 \r\nQ 22.75 39.890625 18.8125 39.015625 \r\nQ 14.890625 38.140625 10.796875 36.28125 \r\nz\r\n\" id=\"DejaVuSans-53\"/>\r\n    </defs>\r\n    <g transform=\"translate(243.383223 201.043011)scale(0.1 -0.1)\">\r\n     <use xlink:href=\"#DejaVuSans-54\"/>\r\n     <use x=\"63.623047\" xlink:href=\"#DejaVuSans-54\"/>\r\n     <use x=\"127.246094\" xlink:href=\"#DejaVuSans-46\"/>\r\n     <use x=\"159.033203\" xlink:href=\"#DejaVuSans-54\"/>\r\n     <use x=\"222.65625\" xlink:href=\"#DejaVuSans-53\"/>\r\n     <use x=\"286.279297\" xlink:href=\"#DejaVuSans-37\"/>\r\n    </g>\r\n   </g>\r\n   <g id=\"text_14\">\r\n    <!-- 63.58% -->\r\n    <defs>\r\n     <path d=\"M 40.578125 39.3125 \r\nQ 47.65625 37.796875 51.625 33 \r\nQ 55.609375 28.21875 55.609375 21.1875 \r\nQ 55.609375 10.40625 48.1875 4.484375 \r\nQ 40.765625 -1.421875 27.09375 -1.421875 \r\nQ 22.515625 -1.421875 17.65625 -0.515625 \r\nQ 12.796875 0.390625 7.625 2.203125 \r\nL 7.625 11.71875 \r\nQ 11.71875 9.328125 16.59375 8.109375 \r\nQ 21.484375 6.890625 26.8125 6.890625 \r\nQ 36.078125 6.890625 40.9375 10.546875 \r\nQ 45.796875 14.203125 45.796875 21.1875 \r\nQ 45.796875 27.640625 41.28125 31.265625 \r\nQ 36.765625 34.90625 28.71875 34.90625 \r\nL 20.21875 34.90625 \r\nL 20.21875 43.015625 \r\nL 29.109375 43.015625 \r\nQ 36.375 43.015625 40.234375 45.921875 \r\nQ 44.09375 48.828125 44.09375 54.296875 \r\nQ 44.09375 59.90625 40.109375 62.90625 \r\nQ 36.140625 65.921875 28.71875 65.921875 \r\nQ 24.65625 65.921875 20.015625 65.03125 \r\nQ 15.375 64.15625 9.8125 62.3125 \r\nL 9.8125 71.09375 \r\nQ 15.4375 72.65625 20.34375 73.4375 \r\nQ 25.25 74.21875 29.59375 74.21875 \r\nQ 40.828125 74.21875 47.359375 69.109375 \r\nQ 53.90625 64.015625 53.90625 55.328125 \r\nQ 53.90625 49.265625 50.4375 45.09375 \r\nQ 46.96875 40.921875 40.578125 39.3125 \r\nz\r\n\" id=\"DejaVuSans-51\"/>\r\n    </defs>\r\n    <g transform=\"translate(232.934151 159.861193)scale(0.1 -0.1)\">\r\n     <use xlink:href=\"#DejaVuSans-54\"/>\r\n     <use x=\"63.623047\" xlink:href=\"#DejaVuSans-51\"/>\r\n     <use x=\"127.246094\" xlink:href=\"#DejaVuSans-46\"/>\r\n     <use x=\"159.033203\" xlink:href=\"#DejaVuSans-53\"/>\r\n     <use x=\"222.65625\" xlink:href=\"#DejaVuSans-56\"/>\r\n     <use x=\"286.279297\" xlink:href=\"#DejaVuSans-37\"/>\r\n    </g>\r\n   </g>\r\n   <g id=\"text_15\">\r\n    <!-- 62.39% -->\r\n    <defs>\r\n     <path d=\"M 10.984375 1.515625 \r\nL 10.984375 10.5 \r\nQ 14.703125 8.734375 18.5 7.8125 \r\nQ 22.3125 6.890625 25.984375 6.890625 \r\nQ 35.75 6.890625 40.890625 13.453125 \r\nQ 46.046875 20.015625 46.78125 33.40625 \r\nQ 43.953125 29.203125 39.59375 26.953125 \r\nQ 35.25 24.703125 29.984375 24.703125 \r\nQ 19.046875 24.703125 12.671875 31.3125 \r\nQ 6.296875 37.9375 6.296875 49.421875 \r\nQ 6.296875 60.640625 12.9375 67.421875 \r\nQ 19.578125 74.21875 30.609375 74.21875 \r\nQ 43.265625 74.21875 49.921875 64.515625 \r\nQ 56.59375 54.828125 56.59375 36.375 \r\nQ 56.59375 19.140625 48.40625 8.859375 \r\nQ 40.234375 -1.421875 26.421875 -1.421875 \r\nQ 22.703125 -1.421875 18.890625 -0.6875 \r\nQ 15.09375 0.046875 10.984375 1.515625 \r\nz\r\nM 30.609375 32.421875 \r\nQ 37.25 32.421875 41.125 36.953125 \r\nQ 45.015625 41.5 45.015625 49.421875 \r\nQ 45.015625 57.28125 41.125 61.84375 \r\nQ 37.25 66.40625 30.609375 66.40625 \r\nQ 23.96875 66.40625 20.09375 61.84375 \r\nQ 16.21875 57.28125 16.21875 49.421875 \r\nQ 16.21875 41.5 20.09375 36.953125 \r\nQ 23.96875 32.421875 30.609375 32.421875 \r\nz\r\n\" id=\"DejaVuSans-57\"/>\r\n    </defs>\r\n    <g transform=\"translate(228.919237 118.679375)scale(0.1 -0.1)\">\r\n     <use xlink:href=\"#DejaVuSans-54\"/>\r\n     <use x=\"63.623047\" xlink:href=\"#DejaVuSans-50\"/>\r\n     <use x=\"127.246094\" xlink:href=\"#DejaVuSans-46\"/>\r\n     <use x=\"159.033203\" xlink:href=\"#DejaVuSans-51\"/>\r\n     <use x=\"222.65625\" xlink:href=\"#DejaVuSans-57\"/>\r\n     <use x=\"286.279297\" xlink:href=\"#DejaVuSans-37\"/>\r\n    </g>\r\n   </g>\r\n   <g id=\"text_16\">\r\n    <!-- 63.11% -->\r\n    <g transform=\"translate(231.33848 77.497557)scale(0.1 -0.1)\">\r\n     <use xlink:href=\"#DejaVuSans-54\"/>\r\n     <use x=\"63.623047\" xlink:href=\"#DejaVuSans-51\"/>\r\n     <use x=\"127.246094\" xlink:href=\"#DejaVuSans-46\"/>\r\n     <use x=\"159.033203\" xlink:href=\"#DejaVuSans-49\"/>\r\n     <use x=\"222.65625\" xlink:href=\"#DejaVuSans-49\"/>\r\n     <use x=\"286.279297\" xlink:href=\"#DejaVuSans-37\"/>\r\n    </g>\r\n   </g>\r\n   <g id=\"text_17\">\r\n    <!-- 70.32% -->\r\n    <defs>\r\n     <path d=\"M 8.203125 72.90625 \r\nL 55.078125 72.90625 \r\nL 55.078125 68.703125 \r\nL 28.609375 0 \r\nL 18.3125 0 \r\nL 43.21875 64.59375 \r\nL 8.203125 64.59375 \r\nz\r\n\" id=\"DejaVuSans-55\"/>\r\n    </defs>\r\n    <g transform=\"translate(255.839753 36.315739)scale(0.1 -0.1)\">\r\n     <use xlink:href=\"#DejaVuSans-55\"/>\r\n     <use x=\"63.623047\" xlink:href=\"#DejaVuSans-48\"/>\r\n     <use x=\"127.246094\" xlink:href=\"#DejaVuSans-46\"/>\r\n     <use x=\"159.033203\" xlink:href=\"#DejaVuSans-51\"/>\r\n     <use x=\"222.65625\" xlink:href=\"#DejaVuSans-50\"/>\r\n     <use x=\"286.279297\" xlink:href=\"#DejaVuSans-37\"/>\r\n    </g>\r\n   </g>\r\n  </g>\r\n  <g id=\"axes_2\">\r\n   <g id=\"patch_12\">\r\n    <path d=\"M 390.511305 224.64 \r\nL 685.92307 224.64 \r\nL 685.92307 7.2 \r\nL 390.511305 7.2 \r\nz\r\n\" style=\"fill:#ffffff;\"/>\r\n   </g>\r\n   <g id=\"patch_13\">\r\n    <path clip-path=\"url(#p69ae7f3c0a)\" d=\"M 390.511305 214.756364 \r\nL 587.945091 214.756364 \r\nL 587.945091 181.810909 \r\nL 390.511305 181.810909 \r\nz\r\n\" style=\"fill:#808080;\"/>\r\n   </g>\r\n   <g id=\"patch_14\">\r\n    <path clip-path=\"url(#p69ae7f3c0a)\" d=\"M 390.511305 173.574545 \r\nL 580.240838 173.574545 \r\nL 580.240838 140.629091 \r\nL 390.511305 140.629091 \r\nz\r\n\" style=\"fill:#808080;\"/>\r\n   </g>\r\n   <g id=\"patch_15\">\r\n    <path clip-path=\"url(#p69ae7f3c0a)\" d=\"M 390.511305 132.392727 \r\nL 571.18302 132.392727 \r\nL 571.18302 99.447273 \r\nL 390.511305 99.447273 \r\nz\r\n\" style=\"fill:#808080;\"/>\r\n   </g>\r\n   <g id=\"patch_16\">\r\n    <path clip-path=\"url(#p69ae7f3c0a)\" d=\"M 390.511305 91.210909 \r\nL 578.048143 91.210909 \r\nL 578.048143 58.265455 \r\nL 390.511305 58.265455 \r\nz\r\n\" style=\"fill:#808080;\"/>\r\n   </g>\r\n   <g id=\"patch_17\">\r\n    <path clip-path=\"url(#p69ae7f3c0a)\" d=\"M 390.511305 50.029091 \r\nL 598.530237 50.029091 \r\nL 598.530237 17.083636 \r\nL 390.511305 17.083636 \r\nz\r\n\" style=\"fill:#808080;\"/>\r\n   </g>\r\n   <g id=\"matplotlib.axis_3\">\r\n    <g id=\"xtick_7\">\r\n     <g id=\"line2d_23\">\r\n      <path clip-path=\"url(#p69ae7f3c0a)\" d=\"M 390.511305 224.64 \r\nL 390.511305 7.2 \r\n\" style=\"fill:none;stroke:#808080;stroke-dasharray:3.2,0.8,0.5,0.8;stroke-dashoffset:0;stroke-opacity:0.2;stroke-width:0.5;\"/>\r\n     </g>\r\n     <g id=\"line2d_24\">\r\n      <g>\r\n       <use style=\"stroke:#000000;stroke-width:0.8;\" x=\"390.511305\" xlink:href=\"#m94a7a27a0a\" y=\"224.64\"/>\r\n      </g>\r\n     </g>\r\n     <g id=\"text_18\">\r\n      <!-- 0 -->\r\n      <g transform=\"translate(387.330055 239.238437)scale(0.1 -0.1)\">\r\n       <use xlink:href=\"#DejaVuSans-48\"/>\r\n      </g>\r\n     </g>\r\n    </g>\r\n    <g id=\"xtick_8\">\r\n     <g id=\"line2d_25\">\r\n      <path clip-path=\"url(#p69ae7f3c0a)\" d=\"M 449.593658 224.64 \r\nL 449.593658 7.2 \r\n\" style=\"fill:none;stroke:#808080;stroke-dasharray:3.2,0.8,0.5,0.8;stroke-dashoffset:0;stroke-opacity:0.2;stroke-width:0.5;\"/>\r\n     </g>\r\n     <g id=\"line2d_26\">\r\n      <g>\r\n       <use style=\"stroke:#000000;stroke-width:0.8;\" x=\"449.593658\" xlink:href=\"#m94a7a27a0a\" y=\"224.64\"/>\r\n      </g>\r\n     </g>\r\n     <g id=\"text_19\">\r\n      <!-- 20 -->\r\n      <g transform=\"translate(443.231158 239.238437)scale(0.1 -0.1)\">\r\n       <use xlink:href=\"#DejaVuSans-50\"/>\r\n       <use x=\"63.623047\" xlink:href=\"#DejaVuSans-48\"/>\r\n      </g>\r\n     </g>\r\n    </g>\r\n    <g id=\"xtick_9\">\r\n     <g id=\"line2d_27\">\r\n      <path clip-path=\"url(#p69ae7f3c0a)\" d=\"M 508.676011 224.64 \r\nL 508.676011 7.2 \r\n\" style=\"fill:none;stroke:#808080;stroke-dasharray:3.2,0.8,0.5,0.8;stroke-dashoffset:0;stroke-opacity:0.2;stroke-width:0.5;\"/>\r\n     </g>\r\n     <g id=\"line2d_28\">\r\n      <g>\r\n       <use style=\"stroke:#000000;stroke-width:0.8;\" x=\"508.676011\" xlink:href=\"#m94a7a27a0a\" y=\"224.64\"/>\r\n      </g>\r\n     </g>\r\n     <g id=\"text_20\">\r\n      <!-- 40 -->\r\n      <g transform=\"translate(502.313511 239.238437)scale(0.1 -0.1)\">\r\n       <use xlink:href=\"#DejaVuSans-52\"/>\r\n       <use x=\"63.623047\" xlink:href=\"#DejaVuSans-48\"/>\r\n      </g>\r\n     </g>\r\n    </g>\r\n    <g id=\"xtick_10\">\r\n     <g id=\"line2d_29\">\r\n      <path clip-path=\"url(#p69ae7f3c0a)\" d=\"M 567.758364 224.64 \r\nL 567.758364 7.2 \r\n\" style=\"fill:none;stroke:#808080;stroke-dasharray:3.2,0.8,0.5,0.8;stroke-dashoffset:0;stroke-opacity:0.2;stroke-width:0.5;\"/>\r\n     </g>\r\n     <g id=\"line2d_30\">\r\n      <g>\r\n       <use style=\"stroke:#000000;stroke-width:0.8;\" x=\"567.758364\" xlink:href=\"#m94a7a27a0a\" y=\"224.64\"/>\r\n      </g>\r\n     </g>\r\n     <g id=\"text_21\">\r\n      <!-- 60 -->\r\n      <g transform=\"translate(561.395864 239.238437)scale(0.1 -0.1)\">\r\n       <use xlink:href=\"#DejaVuSans-54\"/>\r\n       <use x=\"63.623047\" xlink:href=\"#DejaVuSans-48\"/>\r\n      </g>\r\n     </g>\r\n    </g>\r\n    <g id=\"xtick_11\">\r\n     <g id=\"line2d_31\">\r\n      <path clip-path=\"url(#p69ae7f3c0a)\" d=\"M 626.840717 224.64 \r\nL 626.840717 7.2 \r\n\" style=\"fill:none;stroke:#808080;stroke-dasharray:3.2,0.8,0.5,0.8;stroke-dashoffset:0;stroke-opacity:0.2;stroke-width:0.5;\"/>\r\n     </g>\r\n     <g id=\"line2d_32\">\r\n      <g>\r\n       <use style=\"stroke:#000000;stroke-width:0.8;\" x=\"626.840717\" xlink:href=\"#m94a7a27a0a\" y=\"224.64\"/>\r\n      </g>\r\n     </g>\r\n     <g id=\"text_22\">\r\n      <!-- 80 -->\r\n      <g transform=\"translate(620.478217 239.238437)scale(0.1 -0.1)\">\r\n       <use xlink:href=\"#DejaVuSans-56\"/>\r\n       <use x=\"63.623047\" xlink:href=\"#DejaVuSans-48\"/>\r\n      </g>\r\n     </g>\r\n    </g>\r\n    <g id=\"xtick_12\">\r\n     <g id=\"line2d_33\">\r\n      <path clip-path=\"url(#p69ae7f3c0a)\" d=\"M 685.92307 224.64 \r\nL 685.92307 7.2 \r\n\" style=\"fill:none;stroke:#808080;stroke-dasharray:3.2,0.8,0.5,0.8;stroke-dashoffset:0;stroke-opacity:0.2;stroke-width:0.5;\"/>\r\n     </g>\r\n     <g id=\"line2d_34\">\r\n      <g>\r\n       <use style=\"stroke:#000000;stroke-width:0.8;\" x=\"685.92307\" xlink:href=\"#m94a7a27a0a\" y=\"224.64\"/>\r\n      </g>\r\n     </g>\r\n     <g id=\"text_23\">\r\n      <!-- 100 -->\r\n      <g transform=\"translate(676.37932 239.238437)scale(0.1 -0.1)\">\r\n       <use xlink:href=\"#DejaVuSans-49\"/>\r\n       <use x=\"63.623047\" xlink:href=\"#DejaVuSans-48\"/>\r\n       <use x=\"127.246094\" xlink:href=\"#DejaVuSans-48\"/>\r\n      </g>\r\n     </g>\r\n    </g>\r\n    <g id=\"text_24\">\r\n     <!-- F1-Score in % -->\r\n     <defs>\r\n      <path d=\"M 4.890625 31.390625 \r\nL 31.203125 31.390625 \r\nL 31.203125 23.390625 \r\nL 4.890625 23.390625 \r\nz\r\n\" id=\"DejaVuSans-45\"/>\r\n      <path d=\"M 30.609375 48.390625 \r\nQ 23.390625 48.390625 19.1875 42.75 \r\nQ 14.984375 37.109375 14.984375 27.296875 \r\nQ 14.984375 17.484375 19.15625 11.84375 \r\nQ 23.34375 6.203125 30.609375 6.203125 \r\nQ 37.796875 6.203125 41.984375 11.859375 \r\nQ 46.1875 17.53125 46.1875 27.296875 \r\nQ 46.1875 37.015625 41.984375 42.703125 \r\nQ 37.796875 48.390625 30.609375 48.390625 \r\nz\r\nM 30.609375 56 \r\nQ 42.328125 56 49.015625 48.375 \r\nQ 55.71875 40.765625 55.71875 27.296875 \r\nQ 55.71875 13.875 49.015625 6.21875 \r\nQ 42.328125 -1.421875 30.609375 -1.421875 \r\nQ 18.84375 -1.421875 12.171875 6.21875 \r\nQ 5.515625 13.875 5.515625 27.296875 \r\nQ 5.515625 40.765625 12.171875 48.375 \r\nQ 18.84375 56 30.609375 56 \r\nz\r\n\" id=\"DejaVuSans-111\"/>\r\n      <path d=\"M 56.203125 29.59375 \r\nL 56.203125 25.203125 \r\nL 14.890625 25.203125 \r\nQ 15.484375 15.921875 20.484375 11.0625 \r\nQ 25.484375 6.203125 34.421875 6.203125 \r\nQ 39.59375 6.203125 44.453125 7.46875 \r\nQ 49.3125 8.734375 54.109375 11.28125 \r\nL 54.109375 2.78125 \r\nQ 49.265625 0.734375 44.1875 -0.34375 \r\nQ 39.109375 -1.421875 33.890625 -1.421875 \r\nQ 20.796875 -1.421875 13.15625 6.1875 \r\nQ 5.515625 13.8125 5.515625 26.8125 \r\nQ 5.515625 40.234375 12.765625 48.109375 \r\nQ 20.015625 56 32.328125 56 \r\nQ 43.359375 56 49.78125 48.890625 \r\nQ 56.203125 41.796875 56.203125 29.59375 \r\nz\r\nM 47.21875 32.234375 \r\nQ 47.125 39.59375 43.09375 43.984375 \r\nQ 39.0625 48.390625 32.421875 48.390625 \r\nQ 24.90625 48.390625 20.390625 44.140625 \r\nQ 15.875 39.890625 15.1875 32.171875 \r\nz\r\n\" id=\"DejaVuSans-101\"/>\r\n     </defs>\r\n     <g transform=\"translate(503.75625 252.916562)scale(0.1 -0.1)\">\r\n      <use xlink:href=\"#DejaVuSans-70\"/>\r\n      <use x=\"57.519531\" xlink:href=\"#DejaVuSans-49\"/>\r\n      <use x=\"121.142578\" xlink:href=\"#DejaVuSans-45\"/>\r\n      <use x=\"157.226562\" xlink:href=\"#DejaVuSans-83\"/>\r\n      <use x=\"220.703125\" xlink:href=\"#DejaVuSans-99\"/>\r\n      <use x=\"275.683594\" xlink:href=\"#DejaVuSans-111\"/>\r\n      <use x=\"336.865234\" xlink:href=\"#DejaVuSans-114\"/>\r\n      <use x=\"377.947266\" xlink:href=\"#DejaVuSans-101\"/>\r\n      <use x=\"439.470703\" xlink:href=\"#DejaVuSans-32\"/>\r\n      <use x=\"471.257812\" xlink:href=\"#DejaVuSans-105\"/>\r\n      <use x=\"499.041016\" xlink:href=\"#DejaVuSans-110\"/>\r\n      <use x=\"562.419922\" xlink:href=\"#DejaVuSans-32\"/>\r\n      <use x=\"594.207031\" xlink:href=\"#DejaVuSans-37\"/>\r\n     </g>\r\n    </g>\r\n   </g>\r\n   <g id=\"matplotlib.axis_4\">\r\n    <g id=\"ytick_6\">\r\n     <g id=\"line2d_35\">\r\n      <path clip-path=\"url(#p69ae7f3c0a)\" d=\"M 390.511305 198.283636 \r\nL 685.92307 198.283636 \r\n\" style=\"fill:none;stroke:#808080;stroke-dasharray:3.2,0.8,0.5,0.8;stroke-dashoffset:0;stroke-opacity:0.2;stroke-width:0.5;\"/>\r\n     </g>\r\n     <g id=\"line2d_36\">\r\n      <g>\r\n       <use style=\"stroke:#000000;stroke-width:0.8;\" x=\"390.511305\" xlink:href=\"#m547001c4ee\" y=\"198.283636\"/>\r\n      </g>\r\n     </g>\r\n     <g id=\"text_25\">\r\n      <!-- KNN -->\r\n      <g transform=\"translate(361.990993 202.082855)scale(0.1 -0.1)\">\r\n       <use xlink:href=\"#DejaVuSans-75\"/>\r\n       <use x=\"65.576172\" xlink:href=\"#DejaVuSans-78\"/>\r\n       <use x=\"140.380859\" xlink:href=\"#DejaVuSans-78\"/>\r\n      </g>\r\n     </g>\r\n    </g>\r\n    <g id=\"ytick_7\">\r\n     <g id=\"line2d_37\">\r\n      <path clip-path=\"url(#p69ae7f3c0a)\" d=\"M 390.511305 157.101818 \r\nL 685.92307 157.101818 \r\n\" style=\"fill:none;stroke:#808080;stroke-dasharray:3.2,0.8,0.5,0.8;stroke-dashoffset:0;stroke-opacity:0.2;stroke-width:0.5;\"/>\r\n     </g>\r\n     <g id=\"line2d_38\">\r\n      <g>\r\n       <use style=\"stroke:#000000;stroke-width:0.8;\" x=\"390.511305\" xlink:href=\"#m547001c4ee\" y=\"157.101818\"/>\r\n      </g>\r\n     </g>\r\n     <g id=\"text_26\">\r\n      <!-- SVM -->\r\n      <g transform=\"translate(361.694118 160.901037)scale(0.1 -0.1)\">\r\n       <use xlink:href=\"#DejaVuSans-83\"/>\r\n       <use x=\"63.476562\" xlink:href=\"#DejaVuSans-86\"/>\r\n       <use x=\"131.884766\" xlink:href=\"#DejaVuSans-77\"/>\r\n      </g>\r\n     </g>\r\n    </g>\r\n    <g id=\"ytick_8\">\r\n     <g id=\"line2d_39\">\r\n      <path clip-path=\"url(#p69ae7f3c0a)\" d=\"M 390.511305 115.92 \r\nL 685.92307 115.92 \r\n\" style=\"fill:none;stroke:#808080;stroke-dasharray:3.2,0.8,0.5,0.8;stroke-dashoffset:0;stroke-opacity:0.2;stroke-width:0.5;\"/>\r\n     </g>\r\n     <g id=\"line2d_40\">\r\n      <g>\r\n       <use style=\"stroke:#000000;stroke-width:0.8;\" x=\"390.511305\" xlink:href=\"#m547001c4ee\" y=\"115.92\"/>\r\n      </g>\r\n     </g>\r\n     <g id=\"text_27\">\r\n      <!-- DT -->\r\n      <g transform=\"translate(369.703493 119.719219)scale(0.1 -0.1)\">\r\n       <use xlink:href=\"#DejaVuSans-68\"/>\r\n       <use x=\"77.001953\" xlink:href=\"#DejaVuSans-84\"/>\r\n      </g>\r\n     </g>\r\n    </g>\r\n    <g id=\"ytick_9\">\r\n     <g id=\"line2d_41\">\r\n      <path clip-path=\"url(#p69ae7f3c0a)\" d=\"M 390.511305 74.738182 \r\nL 685.92307 74.738182 \r\n\" style=\"fill:none;stroke:#808080;stroke-dasharray:3.2,0.8,0.5,0.8;stroke-dashoffset:0;stroke-opacity:0.2;stroke-width:0.5;\"/>\r\n     </g>\r\n     <g id=\"line2d_42\">\r\n      <g>\r\n       <use style=\"stroke:#000000;stroke-width:0.8;\" x=\"390.511305\" xlink:href=\"#m547001c4ee\" y=\"74.738182\"/>\r\n      </g>\r\n     </g>\r\n     <g id=\"text_28\">\r\n      <!-- RF -->\r\n      <g transform=\"translate(370.811305 78.537401)scale(0.1 -0.1)\">\r\n       <use xlink:href=\"#DejaVuSans-82\"/>\r\n       <use x=\"69.482422\" xlink:href=\"#DejaVuSans-70\"/>\r\n      </g>\r\n     </g>\r\n    </g>\r\n    <g id=\"ytick_10\">\r\n     <g id=\"line2d_43\">\r\n      <path clip-path=\"url(#p69ae7f3c0a)\" d=\"M 390.511305 33.556364 \r\nL 685.92307 33.556364 \r\n\" style=\"fill:none;stroke:#808080;stroke-dasharray:3.2,0.8,0.5,0.8;stroke-dashoffset:0;stroke-opacity:0.2;stroke-width:0.5;\"/>\r\n     </g>\r\n     <g id=\"line2d_44\">\r\n      <g>\r\n       <use style=\"stroke:#000000;stroke-width:0.8;\" x=\"390.511305\" xlink:href=\"#m547001c4ee\" y=\"33.556364\"/>\r\n      </g>\r\n     </g>\r\n     <g id=\"text_29\">\r\n      <!-- MLP -->\r\n      <g transform=\"translate(363.281618 37.355582)scale(0.1 -0.1)\">\r\n       <use xlink:href=\"#DejaVuSans-77\"/>\r\n       <use x=\"86.279297\" xlink:href=\"#DejaVuSans-76\"/>\r\n       <use x=\"141.992188\" xlink:href=\"#DejaVuSans-80\"/>\r\n      </g>\r\n     </g>\r\n    </g>\r\n   </g>\r\n   <g id=\"patch_18\">\r\n    <path d=\"M 390.511305 224.64 \r\nL 390.511305 7.2 \r\n\" style=\"fill:none;stroke:#000000;stroke-linecap:square;stroke-linejoin:miter;stroke-width:0.8;\"/>\r\n   </g>\r\n   <g id=\"patch_19\">\r\n    <path d=\"M 685.92307 224.64 \r\nL 685.92307 7.2 \r\n\" style=\"fill:none;stroke:#000000;stroke-linecap:square;stroke-linejoin:miter;stroke-width:0.8;\"/>\r\n   </g>\r\n   <g id=\"patch_20\">\r\n    <path d=\"M 390.511305 224.64 \r\nL 685.92307 224.64 \r\n\" style=\"fill:none;stroke:#000000;stroke-linecap:square;stroke-linejoin:miter;stroke-width:0.8;\"/>\r\n   </g>\r\n   <g id=\"patch_21\">\r\n    <path d=\"M 390.511305 7.2 \r\nL 685.92307 7.2 \r\n\" style=\"fill:none;stroke:#000000;stroke-linecap:square;stroke-linejoin:miter;stroke-width:0.8;\"/>\r\n   </g>\r\n   <g id=\"text_30\">\r\n    <!-- 66.83% -->\r\n    <g transform=\"translate(598.495315 201.043011)scale(0.1 -0.1)\">\r\n     <use xlink:href=\"#DejaVuSans-54\"/>\r\n     <use x=\"63.623047\" xlink:href=\"#DejaVuSans-54\"/>\r\n     <use x=\"127.246094\" xlink:href=\"#DejaVuSans-46\"/>\r\n     <use x=\"159.033203\" xlink:href=\"#DejaVuSans-56\"/>\r\n     <use x=\"222.65625\" xlink:href=\"#DejaVuSans-51\"/>\r\n     <use x=\"286.279297\" xlink:href=\"#DejaVuSans-37\"/>\r\n    </g>\r\n   </g>\r\n   <g id=\"text_31\">\r\n    <!-- 64.23% -->\r\n    <g transform=\"translate(589.635424 159.861193)scale(0.1 -0.1)\">\r\n     <use xlink:href=\"#DejaVuSans-54\"/>\r\n     <use x=\"63.623047\" xlink:href=\"#DejaVuSans-52\"/>\r\n     <use x=\"127.246094\" xlink:href=\"#DejaVuSans-46\"/>\r\n     <use x=\"159.033203\" xlink:href=\"#DejaVuSans-50\"/>\r\n     <use x=\"222.65625\" xlink:href=\"#DejaVuSans-51\"/>\r\n     <use x=\"286.279297\" xlink:href=\"#DejaVuSans-37\"/>\r\n    </g>\r\n   </g>\r\n   <g id=\"text_32\">\r\n    <!-- 61.16% -->\r\n    <g transform=\"translate(579.218933 118.679375)scale(0.1 -0.1)\">\r\n     <use xlink:href=\"#DejaVuSans-54\"/>\r\n     <use x=\"63.623047\" xlink:href=\"#DejaVuSans-49\"/>\r\n     <use x=\"127.246094\" xlink:href=\"#DejaVuSans-46\"/>\r\n     <use x=\"159.033203\" xlink:href=\"#DejaVuSans-49\"/>\r\n     <use x=\"222.65625\" xlink:href=\"#DejaVuSans-54\"/>\r\n     <use x=\"286.279297\" xlink:href=\"#DejaVuSans-37\"/>\r\n    </g>\r\n   </g>\r\n   <g id=\"text_33\">\r\n    <!-- 63.48% -->\r\n    <g transform=\"translate(587.113825 77.497557)scale(0.1 -0.1)\">\r\n     <use xlink:href=\"#DejaVuSans-54\"/>\r\n     <use x=\"63.623047\" xlink:href=\"#DejaVuSans-51\"/>\r\n     <use x=\"127.246094\" xlink:href=\"#DejaVuSans-46\"/>\r\n     <use x=\"159.033203\" xlink:href=\"#DejaVuSans-52\"/>\r\n     <use x=\"222.65625\" xlink:href=\"#DejaVuSans-56\"/>\r\n     <use x=\"286.279297\" xlink:href=\"#DejaVuSans-37\"/>\r\n    </g>\r\n   </g>\r\n   <g id=\"text_34\">\r\n    <!-- 70.42% -->\r\n    <g transform=\"translate(610.668233 36.315739)scale(0.1 -0.1)\">\r\n     <use xlink:href=\"#DejaVuSans-55\"/>\r\n     <use x=\"63.623047\" xlink:href=\"#DejaVuSans-48\"/>\r\n     <use x=\"127.246094\" xlink:href=\"#DejaVuSans-46\"/>\r\n     <use x=\"159.033203\" xlink:href=\"#DejaVuSans-52\"/>\r\n     <use x=\"222.65625\" xlink:href=\"#DejaVuSans-50\"/>\r\n     <use x=\"286.279297\" xlink:href=\"#DejaVuSans-37\"/>\r\n    </g>\r\n   </g>\r\n  </g>\r\n  <g id=\"axes_3\">\r\n   <g id=\"patch_22\">\r\n    <path d=\"M 745.005423 224.64 \r\nL 1040.417188 224.64 \r\nL 1040.417188 7.2 \r\nL 745.005423 7.2 \r\nz\r\n\" style=\"fill:#ffffff;\"/>\r\n   </g>\r\n   <g id=\"patch_23\">\r\n    <path clip-path=\"url(#p4fae89914e)\" d=\"M 745.005423 214.756364 \r\nL 943.226717 214.756364 \r\nL 943.226717 181.810909 \r\nL 745.005423 181.810909 \r\nz\r\n\" style=\"fill:#808080;\"/>\r\n   </g>\r\n   <g id=\"patch_24\">\r\n    <path clip-path=\"url(#p4fae89914e)\" d=\"M 745.005423 173.574545 \r\nL 882.846502 173.574545 \r\nL 882.846502 140.629091 \r\nL 745.005423 140.629091 \r\nz\r\n\" style=\"fill:#808080;\"/>\r\n   </g>\r\n   <g id=\"patch_25\">\r\n    <path clip-path=\"url(#p4fae89914e)\" d=\"M 745.005423 132.392727 \r\nL 745.212802 132.392727 \r\nL 745.212802 99.447273 \r\nL 745.005423 99.447273 \r\nz\r\n\" style=\"fill:#808080;\"/>\r\n   </g>\r\n   <g id=\"patch_26\">\r\n    <path clip-path=\"url(#p4fae89914e)\" d=\"M 745.005423 91.210909 \r\nL 746.740494 91.210909 \r\nL 746.740494 58.265455 \r\nL 745.005423 58.265455 \r\nz\r\n\" style=\"fill:#808080;\"/>\r\n   </g>\r\n   <g id=\"patch_27\">\r\n    <path clip-path=\"url(#p4fae89914e)\" d=\"M 745.005423 50.029091 \r\nL 748.111323 50.029091 \r\nL 748.111323 17.083636 \r\nL 745.005423 17.083636 \r\nz\r\n\" style=\"fill:#808080;\"/>\r\n   </g>\r\n   <g id=\"matplotlib.axis_5\">\r\n    <g id=\"xtick_13\">\r\n     <g id=\"line2d_45\">\r\n      <path clip-path=\"url(#p4fae89914e)\" d=\"M 745.005423 224.64 \r\nL 745.005423 7.2 \r\n\" style=\"fill:none;stroke:#808080;stroke-dasharray:3.2,0.8,0.5,0.8;stroke-dashoffset:0;stroke-opacity:0.2;stroke-width:0.5;\"/>\r\n     </g>\r\n     <g id=\"line2d_46\">\r\n      <g>\r\n       <use style=\"stroke:#000000;stroke-width:0.8;\" x=\"745.005423\" xlink:href=\"#m94a7a27a0a\" y=\"224.64\"/>\r\n      </g>\r\n     </g>\r\n     <g id=\"text_35\">\r\n      <!-- 0 -->\r\n      <g transform=\"translate(741.824173 239.238437)scale(0.1 -0.1)\">\r\n       <use xlink:href=\"#DejaVuSans-48\"/>\r\n      </g>\r\n     </g>\r\n    </g>\r\n    <g id=\"xtick_14\">\r\n     <g id=\"line2d_47\">\r\n      <path clip-path=\"url(#p4fae89914e)\" d=\"M 804.087776 224.64 \r\nL 804.087776 7.2 \r\n\" style=\"fill:none;stroke:#808080;stroke-dasharray:3.2,0.8,0.5,0.8;stroke-dashoffset:0;stroke-opacity:0.2;stroke-width:0.5;\"/>\r\n     </g>\r\n     <g id=\"line2d_48\">\r\n      <g>\r\n       <use style=\"stroke:#000000;stroke-width:0.8;\" x=\"804.087776\" xlink:href=\"#m94a7a27a0a\" y=\"224.64\"/>\r\n      </g>\r\n     </g>\r\n     <g id=\"text_36\">\r\n      <!-- 2000 -->\r\n      <g transform=\"translate(791.362776 239.238437)scale(0.1 -0.1)\">\r\n       <use xlink:href=\"#DejaVuSans-50\"/>\r\n       <use x=\"63.623047\" xlink:href=\"#DejaVuSans-48\"/>\r\n       <use x=\"127.246094\" xlink:href=\"#DejaVuSans-48\"/>\r\n       <use x=\"190.869141\" xlink:href=\"#DejaVuSans-48\"/>\r\n      </g>\r\n     </g>\r\n    </g>\r\n    <g id=\"xtick_15\">\r\n     <g id=\"line2d_49\">\r\n      <path clip-path=\"url(#p4fae89914e)\" d=\"M 863.170129 224.64 \r\nL 863.170129 7.2 \r\n\" style=\"fill:none;stroke:#808080;stroke-dasharray:3.2,0.8,0.5,0.8;stroke-dashoffset:0;stroke-opacity:0.2;stroke-width:0.5;\"/>\r\n     </g>\r\n     <g id=\"line2d_50\">\r\n      <g>\r\n       <use style=\"stroke:#000000;stroke-width:0.8;\" x=\"863.170129\" xlink:href=\"#m94a7a27a0a\" y=\"224.64\"/>\r\n      </g>\r\n     </g>\r\n     <g id=\"text_37\">\r\n      <!-- 4000 -->\r\n      <g transform=\"translate(850.445129 239.238437)scale(0.1 -0.1)\">\r\n       <use xlink:href=\"#DejaVuSans-52\"/>\r\n       <use x=\"63.623047\" xlink:href=\"#DejaVuSans-48\"/>\r\n       <use x=\"127.246094\" xlink:href=\"#DejaVuSans-48\"/>\r\n       <use x=\"190.869141\" xlink:href=\"#DejaVuSans-48\"/>\r\n      </g>\r\n     </g>\r\n    </g>\r\n    <g id=\"xtick_16\">\r\n     <g id=\"line2d_51\">\r\n      <path clip-path=\"url(#p4fae89914e)\" d=\"M 922.252482 224.64 \r\nL 922.252482 7.2 \r\n\" style=\"fill:none;stroke:#808080;stroke-dasharray:3.2,0.8,0.5,0.8;stroke-dashoffset:0;stroke-opacity:0.2;stroke-width:0.5;\"/>\r\n     </g>\r\n     <g id=\"line2d_52\">\r\n      <g>\r\n       <use style=\"stroke:#000000;stroke-width:0.8;\" x=\"922.252482\" xlink:href=\"#m94a7a27a0a\" y=\"224.64\"/>\r\n      </g>\r\n     </g>\r\n     <g id=\"text_38\">\r\n      <!-- 6000 -->\r\n      <g transform=\"translate(909.527482 239.238437)scale(0.1 -0.1)\">\r\n       <use xlink:href=\"#DejaVuSans-54\"/>\r\n       <use x=\"63.623047\" xlink:href=\"#DejaVuSans-48\"/>\r\n       <use x=\"127.246094\" xlink:href=\"#DejaVuSans-48\"/>\r\n       <use x=\"190.869141\" xlink:href=\"#DejaVuSans-48\"/>\r\n      </g>\r\n     </g>\r\n    </g>\r\n    <g id=\"xtick_17\">\r\n     <g id=\"line2d_53\">\r\n      <path clip-path=\"url(#p4fae89914e)\" d=\"M 981.334835 224.64 \r\nL 981.334835 7.2 \r\n\" style=\"fill:none;stroke:#808080;stroke-dasharray:3.2,0.8,0.5,0.8;stroke-dashoffset:0;stroke-opacity:0.2;stroke-width:0.5;\"/>\r\n     </g>\r\n     <g id=\"line2d_54\">\r\n      <g>\r\n       <use style=\"stroke:#000000;stroke-width:0.8;\" x=\"981.334835\" xlink:href=\"#m94a7a27a0a\" y=\"224.64\"/>\r\n      </g>\r\n     </g>\r\n     <g id=\"text_39\">\r\n      <!-- 8000 -->\r\n      <g transform=\"translate(968.609835 239.238437)scale(0.1 -0.1)\">\r\n       <use xlink:href=\"#DejaVuSans-56\"/>\r\n       <use x=\"63.623047\" xlink:href=\"#DejaVuSans-48\"/>\r\n       <use x=\"127.246094\" xlink:href=\"#DejaVuSans-48\"/>\r\n       <use x=\"190.869141\" xlink:href=\"#DejaVuSans-48\"/>\r\n      </g>\r\n     </g>\r\n    </g>\r\n    <g id=\"xtick_18\">\r\n     <g id=\"line2d_55\">\r\n      <path clip-path=\"url(#p4fae89914e)\" d=\"M 1040.417188 224.64 \r\nL 1040.417188 7.2 \r\n\" style=\"fill:none;stroke:#808080;stroke-dasharray:3.2,0.8,0.5,0.8;stroke-dashoffset:0;stroke-opacity:0.2;stroke-width:0.5;\"/>\r\n     </g>\r\n     <g id=\"line2d_56\">\r\n      <g>\r\n       <use style=\"stroke:#000000;stroke-width:0.8;\" x=\"1040.417188\" xlink:href=\"#m94a7a27a0a\" y=\"224.64\"/>\r\n      </g>\r\n     </g>\r\n     <g id=\"text_40\">\r\n      <!-- 10000 -->\r\n      <g transform=\"translate(1024.510938 239.238437)scale(0.1 -0.1)\">\r\n       <use xlink:href=\"#DejaVuSans-49\"/>\r\n       <use x=\"63.623047\" xlink:href=\"#DejaVuSans-48\"/>\r\n       <use x=\"127.246094\" xlink:href=\"#DejaVuSans-48\"/>\r\n       <use x=\"190.869141\" xlink:href=\"#DejaVuSans-48\"/>\r\n       <use x=\"254.492188\" xlink:href=\"#DejaVuSans-48\"/>\r\n      </g>\r\n     </g>\r\n    </g>\r\n    <g id=\"text_41\">\r\n     <!-- Größe in kB -->\r\n     <defs>\r\n      <path d=\"M 59.515625 10.40625 \r\nL 59.515625 29.984375 \r\nL 43.40625 29.984375 \r\nL 43.40625 38.09375 \r\nL 69.28125 38.09375 \r\nL 69.28125 6.78125 \r\nQ 63.578125 2.734375 56.6875 0.65625 \r\nQ 49.8125 -1.421875 42 -1.421875 \r\nQ 24.90625 -1.421875 15.25 8.5625 \r\nQ 5.609375 18.5625 5.609375 36.375 \r\nQ 5.609375 54.25 15.25 64.234375 \r\nQ 24.90625 74.21875 42 74.21875 \r\nQ 49.125 74.21875 55.546875 72.453125 \r\nQ 61.96875 70.703125 67.390625 67.28125 \r\nL 67.390625 56.78125 \r\nQ 61.921875 61.421875 55.765625 63.765625 \r\nQ 49.609375 66.109375 42.828125 66.109375 \r\nQ 29.4375 66.109375 22.71875 58.640625 \r\nQ 16.015625 51.171875 16.015625 36.375 \r\nQ 16.015625 21.625 22.71875 14.15625 \r\nQ 29.4375 6.6875 42.828125 6.6875 \r\nQ 48.046875 6.6875 52.140625 7.59375 \r\nQ 56.25 8.5 59.515625 10.40625 \r\nz\r\n\" id=\"DejaVuSans-71\"/>\r\n      <path d=\"M 30.609375 48.390625 \r\nQ 23.390625 48.390625 19.1875 42.75 \r\nQ 14.984375 37.109375 14.984375 27.296875 \r\nQ 14.984375 17.484375 19.15625 11.84375 \r\nQ 23.34375 6.203125 30.609375 6.203125 \r\nQ 37.796875 6.203125 41.984375 11.859375 \r\nQ 46.1875 17.53125 46.1875 27.296875 \r\nQ 46.1875 37.015625 41.984375 42.703125 \r\nQ 37.796875 48.390625 30.609375 48.390625 \r\nz\r\nM 30.609375 56 \r\nQ 42.328125 56 49.015625 48.375 \r\nQ 55.71875 40.765625 55.71875 27.296875 \r\nQ 55.71875 13.875 49.015625 6.21875 \r\nQ 42.328125 -1.421875 30.609375 -1.421875 \r\nQ 18.84375 -1.421875 12.171875 6.21875 \r\nQ 5.515625 13.875 5.515625 27.296875 \r\nQ 5.515625 40.765625 12.171875 48.375 \r\nQ 18.84375 56 30.609375 56 \r\nz\r\nM 35.203125 75.78125 \r\nL 45.125 75.78125 \r\nL 45.125 65.921875 \r\nL 35.203125 65.921875 \r\nz\r\nM 16.109375 75.78125 \r\nL 26.03125 75.78125 \r\nL 26.03125 65.921875 \r\nL 16.109375 65.921875 \r\nz\r\n\" id=\"DejaVuSans-246\"/>\r\n      <path d=\"M 9.078125 55.515625 \r\nQ 9.078125 65.28125 14.90625 70.625 \r\nQ 20.75 75.984375 31.390625 75.984375 \r\nQ 41.546875 75.984375 46.890625 70.3125 \r\nQ 52.25 64.65625 52.390625 53.71875 \r\nQ 45.015625 53.328125 40.90625 50.515625 \r\nQ 36.8125 47.703125 36.8125 43.015625 \r\nQ 36.8125 40.71875 38.234375 38.734375 \r\nQ 39.65625 36.765625 42.828125 34.71875 \r\nL 45.609375 32.90625 \r\nQ 53.71875 27.734375 56.0625 24.265625 \r\nQ 58.40625 20.796875 58.40625 15.921875 \r\nQ 58.40625 7.515625 52.90625 3.046875 \r\nQ 47.40625 -1.421875 37.109375 -1.421875 \r\nQ 33.984375 -1.421875 30.65625 -0.8125 \r\nQ 27.34375 -0.203125 23.78125 0.984375 \r\nL 23.78125 8.984375 \r\nQ 27.6875 7.515625 31.09375 6.8125 \r\nQ 34.515625 6.109375 37.703125 6.109375 \r\nQ 43.359375 6.109375 46.28125 8.421875 \r\nQ 49.21875 10.75 49.21875 15.1875 \r\nQ 49.21875 18.265625 47.78125 20.3125 \r\nQ 46.34375 22.359375 41.40625 25.390625 \r\nL 36.921875 28.078125 \r\nQ 32.234375 30.953125 30.109375 34.25 \r\nQ 27.984375 37.546875 27.984375 42 \r\nQ 27.984375 48.1875 32.0625 52.390625 \r\nQ 36.140625 56.59375 43.5 58.015625 \r\nQ 43.109375 63.03125 39.90625 65.765625 \r\nQ 36.71875 68.5 31.203125 68.5 \r\nQ 24.859375 68.5 21.53125 65.109375 \r\nQ 18.21875 61.71875 18.21875 55.328125 \r\nL 18.21875 0 \r\nL 9.078125 0 \r\nz\r\n\" id=\"DejaVuSans-223\"/>\r\n      <path d=\"M 9.078125 75.984375 \r\nL 18.109375 75.984375 \r\nL 18.109375 31.109375 \r\nL 44.921875 54.6875 \r\nL 56.390625 54.6875 \r\nL 27.390625 29.109375 \r\nL 57.625 0 \r\nL 45.90625 0 \r\nL 18.109375 26.703125 \r\nL 18.109375 0 \r\nL 9.078125 0 \r\nz\r\n\" id=\"DejaVuSans-107\"/>\r\n      <path d=\"M 19.671875 34.8125 \r\nL 19.671875 8.109375 \r\nL 35.5 8.109375 \r\nQ 43.453125 8.109375 47.28125 11.40625 \r\nQ 51.125 14.703125 51.125 21.484375 \r\nQ 51.125 28.328125 47.28125 31.5625 \r\nQ 43.453125 34.8125 35.5 34.8125 \r\nz\r\nM 19.671875 64.796875 \r\nL 19.671875 42.828125 \r\nL 34.28125 42.828125 \r\nQ 41.5 42.828125 45.03125 45.53125 \r\nQ 48.578125 48.25 48.578125 53.8125 \r\nQ 48.578125 59.328125 45.03125 62.0625 \r\nQ 41.5 64.796875 34.28125 64.796875 \r\nz\r\nM 9.8125 72.90625 \r\nL 35.015625 72.90625 \r\nQ 46.296875 72.90625 52.390625 68.21875 \r\nQ 58.5 63.53125 58.5 54.890625 \r\nQ 58.5 48.1875 55.375 44.234375 \r\nQ 52.25 40.28125 46.1875 39.3125 \r\nQ 53.46875 37.75 57.5 32.78125 \r\nQ 61.53125 27.828125 61.53125 20.40625 \r\nQ 61.53125 10.640625 54.890625 5.3125 \r\nQ 48.25 0 35.984375 0 \r\nL 9.8125 0 \r\nz\r\n\" id=\"DejaVuSans-66\"/>\r\n     </defs>\r\n     <g transform=\"translate(863.436305 252.916562)scale(0.1 -0.1)\">\r\n      <use xlink:href=\"#DejaVuSans-71\"/>\r\n      <use x=\"77.490234\" xlink:href=\"#DejaVuSans-114\"/>\r\n      <use x=\"118.572266\" xlink:href=\"#DejaVuSans-246\"/>\r\n      <use x=\"179.753906\" xlink:href=\"#DejaVuSans-223\"/>\r\n      <use x=\"242.742188\" xlink:href=\"#DejaVuSans-101\"/>\r\n      <use x=\"304.265625\" xlink:href=\"#DejaVuSans-32\"/>\r\n      <use x=\"336.052734\" xlink:href=\"#DejaVuSans-105\"/>\r\n      <use x=\"363.835938\" xlink:href=\"#DejaVuSans-110\"/>\r\n      <use x=\"427.214844\" xlink:href=\"#DejaVuSans-32\"/>\r\n      <use x=\"459.001953\" xlink:href=\"#DejaVuSans-107\"/>\r\n      <use x=\"516.912109\" xlink:href=\"#DejaVuSans-66\"/>\r\n     </g>\r\n    </g>\r\n   </g>\r\n   <g id=\"matplotlib.axis_6\">\r\n    <g id=\"ytick_11\">\r\n     <g id=\"line2d_57\">\r\n      <path clip-path=\"url(#p4fae89914e)\" d=\"M 745.005423 198.283636 \r\nL 1040.417188 198.283636 \r\n\" style=\"fill:none;stroke:#808080;stroke-dasharray:3.2,0.8,0.5,0.8;stroke-dashoffset:0;stroke-opacity:0.2;stroke-width:0.5;\"/>\r\n     </g>\r\n     <g id=\"line2d_58\">\r\n      <g>\r\n       <use style=\"stroke:#000000;stroke-width:0.8;\" x=\"745.005423\" xlink:href=\"#m547001c4ee\" y=\"198.283636\"/>\r\n      </g>\r\n     </g>\r\n     <g id=\"text_42\">\r\n      <!-- KNN -->\r\n      <g transform=\"translate(716.48511 202.082855)scale(0.1 -0.1)\">\r\n       <use xlink:href=\"#DejaVuSans-75\"/>\r\n       <use x=\"65.576172\" xlink:href=\"#DejaVuSans-78\"/>\r\n       <use x=\"140.380859\" xlink:href=\"#DejaVuSans-78\"/>\r\n      </g>\r\n     </g>\r\n    </g>\r\n    <g id=\"ytick_12\">\r\n     <g id=\"line2d_59\">\r\n      <path clip-path=\"url(#p4fae89914e)\" d=\"M 745.005423 157.101818 \r\nL 1040.417188 157.101818 \r\n\" style=\"fill:none;stroke:#808080;stroke-dasharray:3.2,0.8,0.5,0.8;stroke-dashoffset:0;stroke-opacity:0.2;stroke-width:0.5;\"/>\r\n     </g>\r\n     <g id=\"line2d_60\">\r\n      <g>\r\n       <use style=\"stroke:#000000;stroke-width:0.8;\" x=\"745.005423\" xlink:href=\"#m547001c4ee\" y=\"157.101818\"/>\r\n      </g>\r\n     </g>\r\n     <g id=\"text_43\">\r\n      <!-- SVM -->\r\n      <g transform=\"translate(716.188235 160.901037)scale(0.1 -0.1)\">\r\n       <use xlink:href=\"#DejaVuSans-83\"/>\r\n       <use x=\"63.476562\" xlink:href=\"#DejaVuSans-86\"/>\r\n       <use x=\"131.884766\" xlink:href=\"#DejaVuSans-77\"/>\r\n      </g>\r\n     </g>\r\n    </g>\r\n    <g id=\"ytick_13\">\r\n     <g id=\"line2d_61\">\r\n      <path clip-path=\"url(#p4fae89914e)\" d=\"M 745.005423 115.92 \r\nL 1040.417188 115.92 \r\n\" style=\"fill:none;stroke:#808080;stroke-dasharray:3.2,0.8,0.5,0.8;stroke-dashoffset:0;stroke-opacity:0.2;stroke-width:0.5;\"/>\r\n     </g>\r\n     <g id=\"line2d_62\">\r\n      <g>\r\n       <use style=\"stroke:#000000;stroke-width:0.8;\" x=\"745.005423\" xlink:href=\"#m547001c4ee\" y=\"115.92\"/>\r\n      </g>\r\n     </g>\r\n     <g id=\"text_44\">\r\n      <!-- DT -->\r\n      <g transform=\"translate(724.19761 119.719219)scale(0.1 -0.1)\">\r\n       <use xlink:href=\"#DejaVuSans-68\"/>\r\n       <use x=\"77.001953\" xlink:href=\"#DejaVuSans-84\"/>\r\n      </g>\r\n     </g>\r\n    </g>\r\n    <g id=\"ytick_14\">\r\n     <g id=\"line2d_63\">\r\n      <path clip-path=\"url(#p4fae89914e)\" d=\"M 745.005423 74.738182 \r\nL 1040.417188 74.738182 \r\n\" style=\"fill:none;stroke:#808080;stroke-dasharray:3.2,0.8,0.5,0.8;stroke-dashoffset:0;stroke-opacity:0.2;stroke-width:0.5;\"/>\r\n     </g>\r\n     <g id=\"line2d_64\">\r\n      <g>\r\n       <use style=\"stroke:#000000;stroke-width:0.8;\" x=\"745.005423\" xlink:href=\"#m547001c4ee\" y=\"74.738182\"/>\r\n      </g>\r\n     </g>\r\n     <g id=\"text_45\">\r\n      <!-- RF -->\r\n      <g transform=\"translate(725.305423 78.537401)scale(0.1 -0.1)\">\r\n       <use xlink:href=\"#DejaVuSans-82\"/>\r\n       <use x=\"69.482422\" xlink:href=\"#DejaVuSans-70\"/>\r\n      </g>\r\n     </g>\r\n    </g>\r\n    <g id=\"ytick_15\">\r\n     <g id=\"line2d_65\">\r\n      <path clip-path=\"url(#p4fae89914e)\" d=\"M 745.005423 33.556364 \r\nL 1040.417188 33.556364 \r\n\" style=\"fill:none;stroke:#808080;stroke-dasharray:3.2,0.8,0.5,0.8;stroke-dashoffset:0;stroke-opacity:0.2;stroke-width:0.5;\"/>\r\n     </g>\r\n     <g id=\"line2d_66\">\r\n      <g>\r\n       <use style=\"stroke:#000000;stroke-width:0.8;\" x=\"745.005423\" xlink:href=\"#m547001c4ee\" y=\"33.556364\"/>\r\n      </g>\r\n     </g>\r\n     <g id=\"text_46\">\r\n      <!-- MLP -->\r\n      <g transform=\"translate(717.775735 37.355582)scale(0.1 -0.1)\">\r\n       <use xlink:href=\"#DejaVuSans-77\"/>\r\n       <use x=\"86.279297\" xlink:href=\"#DejaVuSans-76\"/>\r\n       <use x=\"141.992188\" xlink:href=\"#DejaVuSans-80\"/>\r\n      </g>\r\n     </g>\r\n    </g>\r\n   </g>\r\n   <g id=\"patch_28\">\r\n    <path d=\"M 745.005423 224.64 \r\nL 745.005423 7.2 \r\n\" style=\"fill:none;stroke:#000000;stroke-linecap:square;stroke-linejoin:miter;stroke-width:0.8;\"/>\r\n   </g>\r\n   <g id=\"patch_29\">\r\n    <path d=\"M 1040.417188 224.64 \r\nL 1040.417188 7.2 \r\n\" style=\"fill:none;stroke:#000000;stroke-linecap:square;stroke-linejoin:miter;stroke-width:0.8;\"/>\r\n   </g>\r\n   <g id=\"patch_30\">\r\n    <path d=\"M 745.005423 224.64 \r\nL 1040.417188 224.64 \r\n\" style=\"fill:none;stroke:#000000;stroke-linecap:square;stroke-linejoin:miter;stroke-width:0.8;\"/>\r\n   </g>\r\n   <g id=\"patch_31\">\r\n    <path d=\"M 745.005423 7.2 \r\nL 1040.417188 7.2 \r\n\" style=\"fill:none;stroke:#000000;stroke-linecap:square;stroke-linejoin:miter;stroke-width:0.8;\"/>\r\n   </g>\r\n   <g id=\"text_47\">\r\n    <!-- 6710kB -->\r\n    <g transform=\"translate(953.90913 201.043011)scale(0.1 -0.1)\">\r\n     <use xlink:href=\"#DejaVuSans-54\"/>\r\n     <use x=\"63.623047\" xlink:href=\"#DejaVuSans-55\"/>\r\n     <use x=\"127.246094\" xlink:href=\"#DejaVuSans-49\"/>\r\n     <use x=\"190.869141\" xlink:href=\"#DejaVuSans-48\"/>\r\n     <use x=\"254.492188\" xlink:href=\"#DejaVuSans-107\"/>\r\n     <use x=\"312.402344\" xlink:href=\"#DejaVuSans-66\"/>\r\n    </g>\r\n   </g>\r\n   <g id=\"text_48\">\r\n    <!-- 4666kB -->\r\n    <g transform=\"translate(884.471883 159.861193)scale(0.1 -0.1)\">\r\n     <use xlink:href=\"#DejaVuSans-52\"/>\r\n     <use x=\"63.623047\" xlink:href=\"#DejaVuSans-54\"/>\r\n     <use x=\"127.246094\" xlink:href=\"#DejaVuSans-54\"/>\r\n     <use x=\"190.869141\" xlink:href=\"#DejaVuSans-54\"/>\r\n     <use x=\"254.492188\" xlink:href=\"#DejaVuSans-107\"/>\r\n     <use x=\"312.402344\" xlink:href=\"#DejaVuSans-66\"/>\r\n    </g>\r\n   </g>\r\n   <g id=\"text_49\">\r\n    <!-- 7kB -->\r\n    <g transform=\"translate(757.654274 118.679375)scale(0.1 -0.1)\">\r\n     <use xlink:href=\"#DejaVuSans-55\"/>\r\n     <use x=\"63.623047\" xlink:href=\"#DejaVuSans-107\"/>\r\n     <use x=\"121.533203\" xlink:href=\"#DejaVuSans-66\"/>\r\n    </g>\r\n   </g>\r\n   <g id=\"text_50\">\r\n    <!-- 58kB -->\r\n    <g transform=\"translate(754.473024 77.497557)scale(0.1 -0.1)\">\r\n     <use xlink:href=\"#DejaVuSans-53\"/>\r\n     <use x=\"63.623047\" xlink:href=\"#DejaVuSans-56\"/>\r\n     <use x=\"127.246094\" xlink:href=\"#DejaVuSans-107\"/>\r\n     <use x=\"185.15625\" xlink:href=\"#DejaVuSans-66\"/>\r\n    </g>\r\n   </g>\r\n   <g id=\"text_51\">\r\n    <!-- 105kB -->\r\n    <g transform=\"translate(751.291774 36.315739)scale(0.1 -0.1)\">\r\n     <use xlink:href=\"#DejaVuSans-49\"/>\r\n     <use x=\"63.623047\" xlink:href=\"#DejaVuSans-48\"/>\r\n     <use x=\"127.246094\" xlink:href=\"#DejaVuSans-53\"/>\r\n     <use x=\"190.869141\" xlink:href=\"#DejaVuSans-107\"/>\r\n     <use x=\"248.779297\" xlink:href=\"#DejaVuSans-66\"/>\r\n    </g>\r\n   </g>\r\n  </g>\r\n </g>\r\n <defs>\r\n  <clipPath id=\"pc63a524dcf\">\r\n   <rect height=\"217.44\" width=\"295.411765\" x=\"36.017188\" y=\"7.2\"/>\r\n  </clipPath>\r\n  <clipPath id=\"p69ae7f3c0a\">\r\n   <rect height=\"217.44\" width=\"295.411765\" x=\"390.511305\" y=\"7.2\"/>\r\n  </clipPath>\r\n  <clipPath id=\"p4fae89914e\">\r\n   <rect height=\"217.44\" width=\"295.411765\" x=\"745.005423\" y=\"7.2\"/>\r\n  </clipPath>\r\n </defs>\r\n</svg>\r\n",
            "text/plain": [
              "<Figure size 1296x288 with 3 Axes>"
            ]
          },
          "metadata": {
            "needs_background": "light"
          },
          "output_type": "display_data"
        }
      ],
      "source": [
        "import matplotlib.pyplot as plt\n",
        "\n",
        "fig, axs = plt.subplots(1, 3)\n",
        "fig.set_size_inches(6 * 3, 4)\n",
        "\n",
        "bar0 = axs[0].barh(names, [a * 100 for a in accuracies], color='grey')\n",
        "axs[0].set_xlabel('Accuracy in %')\n",
        "axs[0].set_xlim(0, 100)\n",
        "for rect in bar0:\n",
        "    width = rect.get_width()\n",
        "    axs[0].text(1.15*rect.get_width(), rect.get_y()+0.5*rect.get_height(),\n",
        "                '{0:.2f}%'.format(width),\n",
        "                ha='center', va='center')\n",
        "\n",
        "bar1 = axs[1].barh(names, [f1 * 100 for f1 in f1scores], color='grey')\n",
        "axs[1].set_xlabel('F1-Score in %')\n",
        "axs[1].set_xlim(0, 100)\n",
        "for rect in bar1:\n",
        "    width = rect.get_width()\n",
        "    axs[1].text(1.15*rect.get_width(), rect.get_y()+0.5*rect.get_height(),\n",
        "                '{0:.2f}%'.format(width),\n",
        "                ha='center', va='center')\n",
        "\n",
        "bar2 = axs[2].barh(names, [s / 1_000 for s in model_sizes], color='grey')\n",
        "axs[2].set_xlim(0, 10000)\n",
        "axs[2].set_xlabel('Größe in kB')\n",
        "for rect in bar2:\n",
        "    width = rect.get_width()\n",
        "    axs[2].text(max(750, 1.15*rect.get_width()), rect.get_y()+0.5*rect.get_height(),\n",
        "                '{}kB'.format(int(width)),\n",
        "                ha='center', va='center')\n",
        "\n",
        "for i in range(3):\n",
        "    axs[i].grid(\n",
        "        b = True, \n",
        "        color ='grey',\n",
        "        linestyle ='-.', \n",
        "        linewidth = 0.5,\n",
        "        alpha = 0.2\n",
        "    )\n",
        "\n",
        "plt.savefig(\n",
        "    f'../images/shl/traditional-models.pdf',\n",
        "    dpi=1200,\n",
        "    bbox_inches='tight'\n",
        ")\n",
        "plt.show()"
      ]
    }
  ],
  "metadata": {
    "colab": {
      "name": "shl-traditional-features.ipynb",
      "provenance": []
    },
    "kernelspec": {
      "display_name": "Python 3.8.9 64-bit",
      "language": "python",
      "name": "python3"
    },
    "language_info": {
      "codemirror_mode": {
        "name": "ipython",
        "version": 3
      },
      "file_extension": ".py",
      "mimetype": "text/x-python",
      "name": "python",
      "nbconvert_exporter": "python",
      "pygments_lexer": "ipython3",
      "version": "3.8.9"
    },
    "orig_nbformat": 4,
    "vscode": {
      "interpreter": {
        "hash": "31f2aee4e71d21fbe5cf8b01ff0e069b9275f58929596ceb00d14d90e3e16cd6"
      }
    }
  },
  "nbformat": 4,
  "nbformat_minor": 0
}
